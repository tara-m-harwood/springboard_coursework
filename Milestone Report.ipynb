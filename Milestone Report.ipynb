{
 "cells": [
  {
   "cell_type": "markdown",
   "metadata": {},
   "source": [
    "# Tara's Capstone Milestone Report"
   ]
  },
  {
   "cell_type": "markdown",
   "metadata": {},
   "source": [
    "### What important fields and information does the data set have?\n"
   ]
  },
  {
   "cell_type": "markdown",
   "metadata": {
    "collapsed": true
   },
   "source": [
    "The main dataset of historic campaigns has the following features:\n",
    "    * date campaign was created\n",
    "    * count of how many joined on eache campaign\n",
    "    * % joining from FB\n",
    "    * % joining from SoU's main regions (USA, Canada, UK, Australia, Non-UK Europe, Rest of World)\n",
    "    * % joining who speak one of SoU's campaigning languages (English, French, German)\n",
    "    * welcome sequence opens, per member, in the first 14 days\n",
    "    * welcome sequence clicks, per member, in the first 14 days\n",
    "    * welcome sequence actions, per member, in the first 14 days\n",
    "    * total opens, per member, in the first 14 days\n",
    "    * total clicks, per member, in the first 14 days\n",
    "    * total actions, per member, in the first 14 days  \n",
    "    * number of donations, per member, in the first 14 days \n",
    "    * amount of donations, per member, in the first 14 days \n",
    "    * number of recurring donations, per member, in the first 14 days \n",
    "    * amount of recurring donations, per member, in the first 14 days\n",
    "    \n",
    "In addition, the training data contains the following responses:\n",
    "    * number actions, per member, in the first 90 days\n",
    "    * number donations, per member, in the first 90 days\n",
    "    * amount donations, per member, in the first 90 days     "
   ]
  },
  {
   "cell_type": "markdown",
   "metadata": {},
   "source": [
    "### What are its limitations i.e. what are some questions that you cannot answer with this data set?"
   ]
  },
  {
   "cell_type": "markdown",
   "metadata": {
    "collapsed": true
   },
   "source": [
    "We suspect that mobile usage rates may be a key feature for predicting donation amounts.  However, the data does not contain relible mobile usage data for the period, so it was omitted.\n",
    "\n",
    "In addition, this methodology assumes that people who join in the early days of a campaign have similar behavior patterns to people who join later on.  Should this prove not to me the case, the model may be of limited utility.\n",
    "\n",
    "The data does contain any information about whether users' shared campaigns on social media, which we beliebe to be a predicitive factor.  However, SoU does not have reliable data.\n",
    "\n",
    "Finally, information about the number of users who unsubscribe in the first 14 days was not immediately availble, but may be predictive."
   ]
  },
  {
   "cell_type": "markdown",
   "metadata": {},
   "source": [
    "### What kind of cleaning and wrangling did you need to do?"
   ]
  },
  {
   "cell_type": "markdown",
   "metadata": {
    "collapsed": true
   },
   "source": [
    "On challenge was finding the right number of capaigns for the dataset.  If I choose too few, I won't have enough to work with, but when I expand my parameters I run the risk on including less relevant campaigns.\n",
    "Some campaigns are edge cases and should not be used for predicitions; these I had to find and exclude manually.\n",
    "All of the numbers were exported from SQL as aggregates, but I used Pandas to get them in a comparable format, either percentages or per member stats."
   ]
  },
  {
   "cell_type": "markdown",
   "metadata": {},
   "source": [
    "### Are there other datasets you can find, use and combine with, to answer the questions that matter?"
   ]
  },
  {
   "cell_type": "markdown",
   "metadata": {
    "collapsed": true
   },
   "source": [
    "The other dataset that may prove useful is the full text of the main blast email associated with each campaign.  I am working with that data set seperately, with the hope that it may yield insights with predictive value."
   ]
  },
  {
   "cell_type": "markdown",
   "metadata": {},
   "source": [
    "### Based on these findings, what approach are you going to take? How has your approach changed from what you initially proposed, if applicable?"
   ]
  },
  {
   "cell_type": "markdown",
   "metadata": {
    "collapsed": true
   },
   "source": [
    "I am continuing in my proposed approach."
   ]
  },
  {
   "cell_type": "code",
   "execution_count": null,
   "metadata": {
    "collapsed": true
   },
   "outputs": [],
   "source": []
  },
  {
   "cell_type": "code",
   "execution_count": null,
   "metadata": {
    "collapsed": true
   },
   "outputs": [],
   "source": []
  },
  {
   "cell_type": "code",
   "execution_count": null,
   "metadata": {
    "collapsed": true
   },
   "outputs": [],
   "source": []
  }
 ],
 "metadata": {
  "kernelspec": {
   "display_name": "Python 3",
   "language": "python",
   "name": "python3"
  },
  "language_info": {
   "codemirror_mode": {
    "name": "ipython",
    "version": 3
   },
   "file_extension": ".py",
   "mimetype": "text/x-python",
   "name": "python",
   "nbconvert_exporter": "python",
   "pygments_lexer": "ipython3",
   "version": "3.5.1"
  }
 },
 "nbformat": 4,
 "nbformat_minor": 0
}

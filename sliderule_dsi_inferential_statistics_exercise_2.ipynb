{
 "cells": [
  {
   "cell_type": "markdown",
   "metadata": {},
   "source": [
    "\n",
    "### Examining racial discrimination in the US job market\n",
    "\n",
    "#### Background\n",
    "Racial discrimination continues to be pervasive in cultures throughout the world. Researchers examined the level of racial discrimination in the United States labor market by randomly assigning identical résumés black-sounding or white-sounding names and observing the impact on requests for interviews from employers.\n",
    "\n",
    "#### Data\n",
    "In the dataset provided, each row represents a resume. The 'race' column has two values, 'b' and 'w', indicating black-sounding and white-sounding. The column 'call' has two values, 1 and 0, indicating whether the resume received a call from employers or not.\n",
    "\n",
    "Note that the 'b' and 'w' values in race are assigned randomly to the resumes.\n",
    "\n",
    "#### Exercise\n",
    "You will perform a statistical analysis to establish whether race has a significant impact on the rate of callbacks for resumes.\n",
    "\n",
    "Answer the following questions **in this notebook below and submit to your Github account**. \n",
    "\n",
    "   1. What test is appropriate for this problem? Does CLT apply?\n",
    "   2. What are the null and alternate hypotheses?\n",
    "   3. Compute margin of error, confidence interval, and p-value.\n",
    "   4. Discuss statistical significance.\n",
    "\n",
    "You can include written notes in notebook cells using Markdown: \n",
    "   - In the control panel at the top, choose Cell > Cell Type > Markdown\n",
    "   - Markdown syntax: http://nestacms.com/docs/creating-content/markdown-cheat-sheet\n",
    "\n",
    "\n",
    "#### Resources\n",
    "+ Experiment information and data source: http://www.povertyactionlab.org/evaluation/discrimination-job-market-united-states\n",
    "+ Scipy statistical methods: http://docs.scipy.org/doc/scipy/reference/stats.html \n",
    "+ Markdown syntax: http://nestacms.com/docs/creating-content/markdown-cheat-sheet\n",
    "\n",
    "****"
   ]
  },
  {
   "cell_type": "code",
   "execution_count": 2,
   "metadata": {
    "collapsed": true
   },
   "outputs": [],
   "source": [
    "import pandas as pd\n",
    "import numpy as np\n",
    "from scipy import stats"
   ]
  },
  {
   "cell_type": "code",
   "execution_count": 3,
   "metadata": {
    "collapsed": false
   },
   "outputs": [],
   "source": [
    "data = pd.io.stata.read_stata('data/us_job_market_discrimination.dta')"
   ]
  },
  {
   "cell_type": "code",
   "execution_count": 4,
   "metadata": {
    "collapsed": false
   },
   "outputs": [
    {
     "data": {
      "text/plain": [
       "157.0"
      ]
     },
     "execution_count": 4,
     "metadata": {},
     "output_type": "execute_result"
    }
   ],
   "source": [
    "# number of callbacks for black-sounding names\n",
    "sum(data[data.race=='b'].call)"
   ]
  },
  {
   "cell_type": "code",
   "execution_count": 5,
   "metadata": {
    "collapsed": false
   },
   "outputs": [
    {
     "data": {
      "text/plain": [
       "235.0"
      ]
     },
     "execution_count": 5,
     "metadata": {},
     "output_type": "execute_result"
    }
   ],
   "source": [
    "# number of callbacks for white-sounding names\n",
    "sum(data[data.race=='w'].call)"
   ]
  },
  {
   "cell_type": "markdown",
   "metadata": {},
   "source": [
    "### Q1 - What test is appropriate for this problem? Does CLT apply?"
   ]
  },
  {
   "cell_type": "markdown",
   "metadata": {},
   "source": [
    "#### Since I am working categoric variable, I will conduct hypothesis test for the difference between two sample proportions.  To determine if the central limit theorem (CLT) will apply, I need to examine the sample size and number of successes and failures."
   ]
  },
  {
   "cell_type": "code",
   "execution_count": 30,
   "metadata": {
    "collapsed": false
   },
   "outputs": [
    {
     "name": "stdout",
     "output_type": "stream",
     "text": [
      "black: 2435 resumes received 157.0 callbacks, for a rate of 0.0645\n",
      "white: 2435 resumes received 235.0 callbacks, for a rate of 0.0965\n",
      "pool: 4870 resumes received 392.0 callbacks, for a rate of 0.0805\n"
     ]
    }
   ],
   "source": [
    "# Separate the data by our categorical variable: 'b' and 'w'\n",
    "b_data=pd.DataFrame(data[data.race=='b'])\n",
    "w_data=pd.DataFrame(data[data.race=='w'])\n",
    "\n",
    "#Number of CVs per variable:\n",
    "b_size=black_data.race.count()\n",
    "w_size=white_data.race.count()\n",
    "\n",
    "#Number of callbacks per variable:\n",
    "b_calls = black_data['call'].sum()\n",
    "w_calls = white_data['call'].sum()\n",
    "\n",
    "#Proportions:\n",
    "b_callrate = b_calls / b_size\n",
    "w_callrate = w_calls / w_size\n",
    "\n",
    "#Pooled proportions:\n",
    "pooled_callrate = (b_calls + w_calls) / (b_size + w_size)\n",
    "\n",
    "#Output\n",
    "print(\"black: \"+str(b_size)+\" resumes received \"+str(b_calls)+\" callbacks, for a rate of \"+str(round(b_callrate,4)))\n",
    "print(\"white: \"+str(w_size)+\" resumes received \"+str(w_calls)+\" callbacks, for a rate of \"+str(round(w_callrate,4)))\n",
    "print(\"pool: \"+str(b_size+w_size)+\" resumes received \"+str(b_calls+w_calls)+\" callbacks, for a rate of \"+str(round(pooled_callrate,4)))"
   ]
  },
  {
   "cell_type": "markdown",
   "metadata": {},
   "source": [
    "#### The sample size is large, with enough successes and failures that the central limit theorem (CLT) will apply."
   ]
  },
  {
   "cell_type": "markdown",
   "metadata": {},
   "source": [
    "### Q2 - What are the null and alternate hypotheses?"
   ]
  },
  {
   "cell_type": "markdown",
   "metadata": {
    "collapsed": true
   },
   "source": [
    "#### Null Hypothesis: Race has no impact on employment callbacks (black_callrate - white_callrate = 0)\n",
    "#### Alternate Hypothesis: Race has an impact on employment callbacks (black_callrate - white_callrate != 0)"
   ]
  },
  {
   "cell_type": "markdown",
   "metadata": {
    "collapsed": true
   },
   "source": [
    "### Q3 - Compute margin of error, confidence interval, and p-value."
   ]
  },
  {
   "cell_type": "code",
   "execution_count": 63,
   "metadata": {
    "collapsed": false
   },
   "outputs": [
    {
     "name": "stdout",
     "output_type": "stream",
     "text": [
      "margin of error: 0.0153\n",
      "confidence interval between: 0.0168 and 0.0473\n",
      "p-value: 0.00003863\n"
     ]
    }
   ],
   "source": [
    "#compute the standard error for each sample\n",
    "b_std_err = np.sqrt((b_callrate * (1-b_callrate))/b_size)\n",
    "w_std_err = np.sqrt((w_callrate * (1-w_callrate))/w_size)\n",
    "\n",
    "#compute the standard error for the proportion\n",
    "p_std_err = np.sqrt((b_std_err ** 2) + (w_std_err ** 2))\n",
    "\n",
    "#compute the margin of error\n",
    "critical_value = 1.96\n",
    "mar_err = critical_value * p_std_err\n",
    "\n",
    "#compute the confidence interval\n",
    "ci_min = (w_callrate - b_callrate) - mar_err\n",
    "ci_max = (w_callrate - b_callrate) + mar_err\n",
    "\n",
    "#compute the p-value\n",
    "test_stat = (w_callrate - b_callrate)/p_std_err\n",
    "p_val = stats.norm.sf(test_stat)*2\n",
    "\n",
    "print(\"margin of error: \"+str('%.04f' % mar_err))\n",
    "print(\"confidence interval between: \"+str('%.04f' % ci_min)+\" and \"+str('%.04f' % ci_max))\n",
    "print(\"p-value: \"+str(('%.08f' % p_val)))  \n"
   ]
  },
  {
   "cell_type": "markdown",
   "metadata": {
    "collapsed": true
   },
   "source": [
    "### Q4 - Discuss statistical significance."
   ]
  },
  {
   "cell_type": "markdown",
   "metadata": {
    "collapsed": true
   },
   "source": [
    "#### The p-value is very small, well below the .05 threshold, indicating that the results are highly significant.  Furthermore, the confidence interval does not include zero, which in and of itself gives us a significant result against the null hypothesis.  The evidence of this study suggests that the bias against black applicants is extremely unlikely to be the result od chance.  Therefore, this study is a strong indication that workplace discrimination is still a major problem in our society."
   ]
  },
  {
   "cell_type": "code",
   "execution_count": null,
   "metadata": {
    "collapsed": true
   },
   "outputs": [],
   "source": []
  },
  {
   "cell_type": "code",
   "execution_count": null,
   "metadata": {
    "collapsed": true
   },
   "outputs": [],
   "source": []
  },
  {
   "cell_type": "code",
   "execution_count": null,
   "metadata": {
    "collapsed": true
   },
   "outputs": [],
   "source": []
  },
  {
   "cell_type": "code",
   "execution_count": null,
   "metadata": {
    "collapsed": true
   },
   "outputs": [],
   "source": []
  },
  {
   "cell_type": "code",
   "execution_count": null,
   "metadata": {
    "collapsed": true
   },
   "outputs": [],
   "source": []
  },
  {
   "cell_type": "code",
   "execution_count": null,
   "metadata": {
    "collapsed": true
   },
   "outputs": [],
   "source": []
  }
 ],
 "metadata": {
  "kernelspec": {
   "display_name": "Python 3",
   "language": "python",
   "name": "python3"
  },
  "language_info": {
   "codemirror_mode": {
    "name": "ipython",
    "version": 3
   },
   "file_extension": ".py",
   "mimetype": "text/x-python",
   "name": "python",
   "nbconvert_exporter": "python",
   "pygments_lexer": "ipython3",
   "version": "3.5.1"
  }
 },
 "nbformat": 4,
 "nbformat_minor": 0
}

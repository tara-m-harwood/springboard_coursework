{
 "cells": [
  {
   "cell_type": "markdown",
   "metadata": {},
   "source": [
    "# Tara Harwood's Data Story - Springboard Data Science Intensive - Oct 2016"
   ]
  },
  {
   "cell_type": "markdown",
   "metadata": {},
   "source": [
    "## Pick a dataset - ideally the dataset for your Capstone."
   ]
  },
  {
   "cell_type": "markdown",
   "metadata": {},
   "source": [
    "### I am telling the story of the main dataset for my capstone project.  The dataset contains information about people who have signed at least one online petition with SumOfUs, aggregated by the first petition they signed. \n",
    "\n",
    "### In SumOfUs vocabulary, petition signers are \"members\" and the petitions are \"campaigns\". The campaigns in the dataset were all launched between Jan 2013 and Mar 2016.\n",
    "\n",
    "* My dataset includes:\n",
    "* Date of the campaign launch\n",
    "* Count of all new members that joined from the campaign\n",
    "* New members who found the campaign through Facebook (count and %)\n",
    "* New members from each of the SumOfUs regions: USA, Canada, UK, Non-UK Europe, Australia, Rest of World (count and %)\n",
    "* Engagement on the \"welcome sequence\", email series sent to new members in their 1st week (count and per member)\n",
    "* Engagement in the members' first 14 days after joining (count and per member)\n",
    "* Donations in the members' first 14 days after joining (count and per member)\n",
    "* Engagement in the members' first 90 days after joining (count and per member)\n",
    "* Donations in the members' first 90 days after joining (count and per member)"
   ]
  },
  {
   "cell_type": "code",
   "execution_count": 5,
   "metadata": {
    "collapsed": false
   },
   "outputs": [
    {
     "data": {
      "text/html": [
       "<div>\n",
       "<table border=\"1\" class=\"dataframe\">\n",
       "  <thead>\n",
       "    <tr style=\"text-align: right;\">\n",
       "      <th></th>\n",
       "      <th>page_id</th>\n",
       "      <th>name</th>\n",
       "      <th>page_created</th>\n",
       "      <th>page_type</th>\n",
       "      <th>count</th>\n",
       "      <th>fb</th>\n",
       "      <th>wel_opens</th>\n",
       "      <th>wel_clicks</th>\n",
       "      <th>wel_acts</th>\n",
       "      <th>opens_14day</th>\n",
       "      <th>clicks_14day</th>\n",
       "      <th>acts_14day</th>\n",
       "      <th>num_donations_14day</th>\n",
       "      <th>amt_donations_14day</th>\n",
       "      <th>num_recur_14day</th>\n",
       "      <th>amt_recur_14day</th>\n",
       "      <th>usa</th>\n",
       "      <th>can</th>\n",
       "      <th>uk</th>\n",
       "      <th>aus</th>\n",
       "      <th>nz</th>\n",
       "      <th>nuk_eur</th>\n",
       "      <th>row</th>\n",
       "      <th>en</th>\n",
       "      <th>de</th>\n",
       "      <th>fr</th>\n",
       "      <th>acts_90day</th>\n",
       "      <th>num_donations_90day</th>\n",
       "      <th>amt_donations_90day</th>\n",
       "    </tr>\n",
       "  </thead>\n",
       "  <tbody>\n",
       "    <tr>\n",
       "      <th>0</th>\n",
       "      <td>12799</td>\n",
       "      <td>nhs-card-petition</td>\n",
       "      <td>2016-03-23 15:13:14</td>\n",
       "      <td>Petition</td>\n",
       "      <td>4317</td>\n",
       "      <td>4317</td>\n",
       "      <td>2174.0</td>\n",
       "      <td>460.0</td>\n",
       "      <td>713.0</td>\n",
       "      <td>6013.0</td>\n",
       "      <td>1108.0</td>\n",
       "      <td>1586.0</td>\n",
       "      <td>19.0</td>\n",
       "      <td>237.90</td>\n",
       "      <td>1.0</td>\n",
       "      <td>1.41</td>\n",
       "      <td>7</td>\n",
       "      <td>0</td>\n",
       "      <td>4301</td>\n",
       "      <td>0</td>\n",
       "      <td>1</td>\n",
       "      <td>7</td>\n",
       "      <td>1</td>\n",
       "      <td>4314</td>\n",
       "      <td>0</td>\n",
       "      <td>3</td>\n",
       "      <td>2410.0</td>\n",
       "      <td>74.0</td>\n",
       "      <td>657.16</td>\n",
       "    </tr>\n",
       "    <tr>\n",
       "      <th>1</th>\n",
       "      <td>12763</td>\n",
       "      <td>Nespresso-Muenchen-de</td>\n",
       "      <td>2016-03-21 12:28:20</td>\n",
       "      <td>Petition</td>\n",
       "      <td>1978</td>\n",
       "      <td>1495</td>\n",
       "      <td>1356.0</td>\n",
       "      <td>792.0</td>\n",
       "      <td>722.0</td>\n",
       "      <td>2444.0</td>\n",
       "      <td>1452.0</td>\n",
       "      <td>1491.0</td>\n",
       "      <td>NaN</td>\n",
       "      <td>NaN</td>\n",
       "      <td>NaN</td>\n",
       "      <td>NaN</td>\n",
       "      <td>6</td>\n",
       "      <td>0</td>\n",
       "      <td>3</td>\n",
       "      <td>2</td>\n",
       "      <td>0</td>\n",
       "      <td>1955</td>\n",
       "      <td>12</td>\n",
       "      <td>258</td>\n",
       "      <td>1714</td>\n",
       "      <td>6</td>\n",
       "      <td>2470.0</td>\n",
       "      <td>9.0</td>\n",
       "      <td>48.71</td>\n",
       "    </tr>\n",
       "    <tr>\n",
       "      <th>2</th>\n",
       "      <td>12705</td>\n",
       "      <td>schools-academies</td>\n",
       "      <td>2016-03-17 13:08:55</td>\n",
       "      <td>Petition</td>\n",
       "      <td>90</td>\n",
       "      <td>74</td>\n",
       "      <td>44.0</td>\n",
       "      <td>3.0</td>\n",
       "      <td>3.0</td>\n",
       "      <td>114.0</td>\n",
       "      <td>8.0</td>\n",
       "      <td>12.0</td>\n",
       "      <td>NaN</td>\n",
       "      <td>NaN</td>\n",
       "      <td>NaN</td>\n",
       "      <td>NaN</td>\n",
       "      <td>0</td>\n",
       "      <td>2</td>\n",
       "      <td>87</td>\n",
       "      <td>0</td>\n",
       "      <td>0</td>\n",
       "      <td>0</td>\n",
       "      <td>1</td>\n",
       "      <td>90</td>\n",
       "      <td>0</td>\n",
       "      <td>0</td>\n",
       "      <td>30.0</td>\n",
       "      <td>1.0</td>\n",
       "      <td>1.44</td>\n",
       "    </tr>\n",
       "    <tr>\n",
       "      <th>3</th>\n",
       "      <td>12689</td>\n",
       "      <td>NSW-police-crackdown</td>\n",
       "      <td>2016-03-16 19:38:22</td>\n",
       "      <td>Petition</td>\n",
       "      <td>2021</td>\n",
       "      <td>1989</td>\n",
       "      <td>1338.0</td>\n",
       "      <td>292.0</td>\n",
       "      <td>435.0</td>\n",
       "      <td>2467.0</td>\n",
       "      <td>434.0</td>\n",
       "      <td>562.0</td>\n",
       "      <td>17.0</td>\n",
       "      <td>237.92</td>\n",
       "      <td>NaN</td>\n",
       "      <td>NaN</td>\n",
       "      <td>10</td>\n",
       "      <td>3</td>\n",
       "      <td>17</td>\n",
       "      <td>1959</td>\n",
       "      <td>10</td>\n",
       "      <td>10</td>\n",
       "      <td>12</td>\n",
       "      <td>2020</td>\n",
       "      <td>0</td>\n",
       "      <td>1</td>\n",
       "      <td>955.0</td>\n",
       "      <td>45.0</td>\n",
       "      <td>510.45</td>\n",
       "    </tr>\n",
       "    <tr>\n",
       "      <th>4</th>\n",
       "      <td>12672</td>\n",
       "      <td>amazon-agm-usa</td>\n",
       "      <td>2016-03-16 14:20:40</td>\n",
       "      <td>Petition</td>\n",
       "      <td>180</td>\n",
       "      <td>32</td>\n",
       "      <td>87.0</td>\n",
       "      <td>19.0</td>\n",
       "      <td>16.0</td>\n",
       "      <td>152.0</td>\n",
       "      <td>25.0</td>\n",
       "      <td>156.0</td>\n",
       "      <td>NaN</td>\n",
       "      <td>NaN</td>\n",
       "      <td>NaN</td>\n",
       "      <td>NaN</td>\n",
       "      <td>173</td>\n",
       "      <td>0</td>\n",
       "      <td>2</td>\n",
       "      <td>0</td>\n",
       "      <td>0</td>\n",
       "      <td>2</td>\n",
       "      <td>3</td>\n",
       "      <td>180</td>\n",
       "      <td>0</td>\n",
       "      <td>0</td>\n",
       "      <td>202.0</td>\n",
       "      <td>NaN</td>\n",
       "      <td>NaN</td>\n",
       "    </tr>\n",
       "  </tbody>\n",
       "</table>\n",
       "</div>"
      ],
      "text/plain": [
       "   page_id                   name         page_created page_type  count    fb  \\\n",
       "0    12799      nhs-card-petition  2016-03-23 15:13:14  Petition   4317  4317   \n",
       "1    12763  Nespresso-Muenchen-de  2016-03-21 12:28:20  Petition   1978  1495   \n",
       "2    12705      schools-academies  2016-03-17 13:08:55  Petition     90    74   \n",
       "3    12689   NSW-police-crackdown  2016-03-16 19:38:22  Petition   2021  1989   \n",
       "4    12672         amazon-agm-usa  2016-03-16 14:20:40  Petition    180    32   \n",
       "\n",
       "   wel_opens  wel_clicks  wel_acts  opens_14day  clicks_14day  acts_14day  \\\n",
       "0     2174.0       460.0     713.0       6013.0        1108.0      1586.0   \n",
       "1     1356.0       792.0     722.0       2444.0        1452.0      1491.0   \n",
       "2       44.0         3.0       3.0        114.0           8.0        12.0   \n",
       "3     1338.0       292.0     435.0       2467.0         434.0       562.0   \n",
       "4       87.0        19.0      16.0        152.0          25.0       156.0   \n",
       "\n",
       "   num_donations_14day  amt_donations_14day  num_recur_14day  amt_recur_14day  \\\n",
       "0                 19.0               237.90              1.0             1.41   \n",
       "1                  NaN                  NaN              NaN              NaN   \n",
       "2                  NaN                  NaN              NaN              NaN   \n",
       "3                 17.0               237.92              NaN              NaN   \n",
       "4                  NaN                  NaN              NaN              NaN   \n",
       "\n",
       "   usa  can    uk   aus  nz  nuk_eur  row    en    de  fr  acts_90day  \\\n",
       "0    7    0  4301     0   1        7    1  4314     0   3      2410.0   \n",
       "1    6    0     3     2   0     1955   12   258  1714   6      2470.0   \n",
       "2    0    2    87     0   0        0    1    90     0   0        30.0   \n",
       "3   10    3    17  1959  10       10   12  2020     0   1       955.0   \n",
       "4  173    0     2     0   0        2    3   180     0   0       202.0   \n",
       "\n",
       "   num_donations_90day  amt_donations_90day  \n",
       "0                 74.0               657.16  \n",
       "1                  9.0                48.71  \n",
       "2                  1.0                 1.44  \n",
       "3                 45.0               510.45  \n",
       "4                  NaN                  NaN  "
      ]
     },
     "execution_count": 5,
     "metadata": {},
     "output_type": "execute_result"
    }
   ],
   "source": [
    "# import modules and set options\n",
    "import pandas as pd\n",
    "import numpy as np\n",
    "import random\n",
    "import matplotlib as mpl\n",
    "import matplotlib.pyplot as plt\n",
    "import seaborn as sns\n",
    "from IPython.display import HTML\n",
    "%matplotlib inline\n",
    "pd.options.display.max_columns = None\n",
    "\n",
    "# read aggregate data from file\n",
    "ag_data = pd.read_csv('../capstone/theexportlistaggregatebycampaign.csv')\n",
    "ag_data.head(5)"
   ]
  },
  {
   "cell_type": "code",
   "execution_count": 6,
   "metadata": {
    "collapsed": false
   },
   "outputs": [
    {
     "data": {
      "text/html": [
       "<div>\n",
       "<table border=\"1\" class=\"dataframe\">\n",
       "  <thead>\n",
       "    <tr style=\"text-align: right;\">\n",
       "      <th></th>\n",
       "      <th>page_id</th>\n",
       "      <th>page_created</th>\n",
       "      <th>page_type</th>\n",
       "      <th>count</th>\n",
       "      <th>fb</th>\n",
       "      <th>wel_opens</th>\n",
       "      <th>wel_clicks</th>\n",
       "      <th>wel_acts</th>\n",
       "      <th>opens_14day</th>\n",
       "      <th>clicks_14day</th>\n",
       "      <th>acts_14day</th>\n",
       "      <th>num_donations_14day</th>\n",
       "      <th>amt_donations_14day</th>\n",
       "      <th>num_recur_14day</th>\n",
       "      <th>amt_recur_14day</th>\n",
       "      <th>usa</th>\n",
       "      <th>can</th>\n",
       "      <th>uk</th>\n",
       "      <th>aus</th>\n",
       "      <th>nz</th>\n",
       "      <th>nuk_eur</th>\n",
       "      <th>row</th>\n",
       "      <th>en</th>\n",
       "      <th>de</th>\n",
       "      <th>fr</th>\n",
       "      <th>acts_90day</th>\n",
       "      <th>num_donations_90day</th>\n",
       "      <th>amt_donations_90day</th>\n",
       "    </tr>\n",
       "  </thead>\n",
       "  <tbody>\n",
       "    <tr>\n",
       "      <th>0</th>\n",
       "      <td>12799</td>\n",
       "      <td>2016-03-23 15:13:14</td>\n",
       "      <td>Petition</td>\n",
       "      <td>4317</td>\n",
       "      <td>1.00</td>\n",
       "      <td>0.50</td>\n",
       "      <td>0.11</td>\n",
       "      <td>0.17</td>\n",
       "      <td>1.39</td>\n",
       "      <td>0.26</td>\n",
       "      <td>0.37</td>\n",
       "      <td>0.00</td>\n",
       "      <td>0.06</td>\n",
       "      <td>0.0</td>\n",
       "      <td>0.0</td>\n",
       "      <td>0.00</td>\n",
       "      <td>0.00</td>\n",
       "      <td>1.00</td>\n",
       "      <td>0.00</td>\n",
       "      <td>0.0</td>\n",
       "      <td>0.00</td>\n",
       "      <td>0.00</td>\n",
       "      <td>1.00</td>\n",
       "      <td>0.00</td>\n",
       "      <td>0.0</td>\n",
       "      <td>0.56</td>\n",
       "      <td>0.02</td>\n",
       "      <td>0.15</td>\n",
       "    </tr>\n",
       "    <tr>\n",
       "      <th>1</th>\n",
       "      <td>12763</td>\n",
       "      <td>2016-03-21 12:28:20</td>\n",
       "      <td>Petition</td>\n",
       "      <td>1978</td>\n",
       "      <td>0.76</td>\n",
       "      <td>0.69</td>\n",
       "      <td>0.40</td>\n",
       "      <td>0.37</td>\n",
       "      <td>1.24</td>\n",
       "      <td>0.73</td>\n",
       "      <td>0.75</td>\n",
       "      <td>0.00</td>\n",
       "      <td>0.00</td>\n",
       "      <td>0.0</td>\n",
       "      <td>0.0</td>\n",
       "      <td>0.00</td>\n",
       "      <td>0.00</td>\n",
       "      <td>0.00</td>\n",
       "      <td>0.00</td>\n",
       "      <td>0.0</td>\n",
       "      <td>0.99</td>\n",
       "      <td>0.01</td>\n",
       "      <td>0.13</td>\n",
       "      <td>0.87</td>\n",
       "      <td>0.0</td>\n",
       "      <td>1.25</td>\n",
       "      <td>0.00</td>\n",
       "      <td>0.02</td>\n",
       "    </tr>\n",
       "    <tr>\n",
       "      <th>2</th>\n",
       "      <td>12705</td>\n",
       "      <td>2016-03-17 13:08:55</td>\n",
       "      <td>Petition</td>\n",
       "      <td>90</td>\n",
       "      <td>0.82</td>\n",
       "      <td>0.49</td>\n",
       "      <td>0.03</td>\n",
       "      <td>0.03</td>\n",
       "      <td>1.27</td>\n",
       "      <td>0.09</td>\n",
       "      <td>0.13</td>\n",
       "      <td>0.00</td>\n",
       "      <td>0.00</td>\n",
       "      <td>0.0</td>\n",
       "      <td>0.0</td>\n",
       "      <td>0.00</td>\n",
       "      <td>0.02</td>\n",
       "      <td>0.97</td>\n",
       "      <td>0.00</td>\n",
       "      <td>0.0</td>\n",
       "      <td>0.00</td>\n",
       "      <td>0.01</td>\n",
       "      <td>1.00</td>\n",
       "      <td>0.00</td>\n",
       "      <td>0.0</td>\n",
       "      <td>0.33</td>\n",
       "      <td>0.01</td>\n",
       "      <td>0.02</td>\n",
       "    </tr>\n",
       "    <tr>\n",
       "      <th>3</th>\n",
       "      <td>12689</td>\n",
       "      <td>2016-03-16 19:38:22</td>\n",
       "      <td>Petition</td>\n",
       "      <td>2021</td>\n",
       "      <td>0.98</td>\n",
       "      <td>0.66</td>\n",
       "      <td>0.14</td>\n",
       "      <td>0.22</td>\n",
       "      <td>1.22</td>\n",
       "      <td>0.21</td>\n",
       "      <td>0.28</td>\n",
       "      <td>0.01</td>\n",
       "      <td>0.12</td>\n",
       "      <td>0.0</td>\n",
       "      <td>0.0</td>\n",
       "      <td>0.00</td>\n",
       "      <td>0.00</td>\n",
       "      <td>0.01</td>\n",
       "      <td>0.97</td>\n",
       "      <td>0.0</td>\n",
       "      <td>0.00</td>\n",
       "      <td>0.01</td>\n",
       "      <td>1.00</td>\n",
       "      <td>0.00</td>\n",
       "      <td>0.0</td>\n",
       "      <td>0.47</td>\n",
       "      <td>0.02</td>\n",
       "      <td>0.25</td>\n",
       "    </tr>\n",
       "    <tr>\n",
       "      <th>4</th>\n",
       "      <td>12672</td>\n",
       "      <td>2016-03-16 14:20:40</td>\n",
       "      <td>Petition</td>\n",
       "      <td>180</td>\n",
       "      <td>0.18</td>\n",
       "      <td>0.48</td>\n",
       "      <td>0.11</td>\n",
       "      <td>0.09</td>\n",
       "      <td>0.84</td>\n",
       "      <td>0.14</td>\n",
       "      <td>0.87</td>\n",
       "      <td>0.00</td>\n",
       "      <td>0.00</td>\n",
       "      <td>0.0</td>\n",
       "      <td>0.0</td>\n",
       "      <td>0.96</td>\n",
       "      <td>0.00</td>\n",
       "      <td>0.01</td>\n",
       "      <td>0.00</td>\n",
       "      <td>0.0</td>\n",
       "      <td>0.01</td>\n",
       "      <td>0.02</td>\n",
       "      <td>1.00</td>\n",
       "      <td>0.00</td>\n",
       "      <td>0.0</td>\n",
       "      <td>1.12</td>\n",
       "      <td>0.00</td>\n",
       "      <td>0.00</td>\n",
       "    </tr>\n",
       "  </tbody>\n",
       "</table>\n",
       "</div>"
      ],
      "text/plain": [
       "   page_id         page_created page_type  count    fb  wel_opens  wel_clicks  \\\n",
       "0    12799  2016-03-23 15:13:14  Petition   4317  1.00       0.50        0.11   \n",
       "1    12763  2016-03-21 12:28:20  Petition   1978  0.76       0.69        0.40   \n",
       "2    12705  2016-03-17 13:08:55  Petition     90  0.82       0.49        0.03   \n",
       "3    12689  2016-03-16 19:38:22  Petition   2021  0.98       0.66        0.14   \n",
       "4    12672  2016-03-16 14:20:40  Petition    180  0.18       0.48        0.11   \n",
       "\n",
       "   wel_acts  opens_14day  clicks_14day  acts_14day  num_donations_14day  \\\n",
       "0      0.17         1.39          0.26        0.37                 0.00   \n",
       "1      0.37         1.24          0.73        0.75                 0.00   \n",
       "2      0.03         1.27          0.09        0.13                 0.00   \n",
       "3      0.22         1.22          0.21        0.28                 0.01   \n",
       "4      0.09         0.84          0.14        0.87                 0.00   \n",
       "\n",
       "   amt_donations_14day  num_recur_14day  amt_recur_14day   usa   can    uk  \\\n",
       "0                 0.06              0.0              0.0  0.00  0.00  1.00   \n",
       "1                 0.00              0.0              0.0  0.00  0.00  0.00   \n",
       "2                 0.00              0.0              0.0  0.00  0.02  0.97   \n",
       "3                 0.12              0.0              0.0  0.00  0.00  0.01   \n",
       "4                 0.00              0.0              0.0  0.96  0.00  0.01   \n",
       "\n",
       "    aus   nz  nuk_eur   row    en    de   fr  acts_90day  num_donations_90day  \\\n",
       "0  0.00  0.0     0.00  0.00  1.00  0.00  0.0        0.56                 0.02   \n",
       "1  0.00  0.0     0.99  0.01  0.13  0.87  0.0        1.25                 0.00   \n",
       "2  0.00  0.0     0.00  0.01  1.00  0.00  0.0        0.33                 0.01   \n",
       "3  0.97  0.0     0.00  0.01  1.00  0.00  0.0        0.47                 0.02   \n",
       "4  0.00  0.0     0.01  0.02  1.00  0.00  0.0        1.12                 0.00   \n",
       "\n",
       "   amt_donations_90day  \n",
       "0                 0.15  \n",
       "1                 0.02  \n",
       "2                 0.02  \n",
       "3                 0.25  \n",
       "4                 0.00  "
      ]
     },
     "execution_count": 6,
     "metadata": {},
     "output_type": "execute_result"
    }
   ],
   "source": [
    "# convert statistics into percentages and per member statistics, so we can compare across campaigns\n",
    "divide_by_count_cols = ag_data.iloc[:,5:]\n",
    "comp_data = pd.DataFrame(ag_data,columns=['page_id','page_created','page_type','count'])\n",
    "comp_data = comp_data.join((round(divide_by_count_cols.divide(ag_data['count'], axis='index'),2)).fillna(0))\n",
    "comp_data.head(5)"
   ]
  },
  {
   "cell_type": "markdown",
   "metadata": {},
   "source": [
    "#### Can you count something interesting?"
   ]
  },
  {
   "cell_type": "code",
   "execution_count": 7,
   "metadata": {
    "collapsed": false
   },
   "outputs": [
    {
     "data": {
      "text/html": [
       "<style> span { font-family: 'Helvetica Neue', sans-serif; font-size: 15px; color:#365136} b {font-size: 20px; color:#129793} </style><span>To give you a general idea of the dataset, it contains  </span><b>852</b><span>  campaigns</span><span> that inpired a total of  </span><b>6,313,041</b><span>  new members to join SumOfUs.</span></br><span> In the first 90 days after joining SumOfUs, these members donated </span><b>$3,157,940.</b></span>"
      ],
      "text/plain": [
       "<IPython.core.display.HTML object>"
      ]
     },
     "execution_count": 7,
     "metadata": {},
     "output_type": "execute_result"
    }
   ],
   "source": [
    "num_camps = ag_data['page_id'].count()\n",
    "num_members = ag_data['count'].sum()\n",
    "num_amt_donate_90 = ag_data['amt_donations_90day'].sum()\n",
    "css=\"<style> span { font-family: 'Helvetica Neue', sans-serif; font-size: 15px; color:#365136} b {font-size: 20px; color:#129793} </style>\"\n",
    "sent1= \"<span>To give you a general idea of the dataset, it contains  </span><b>\"+str(num_camps)+\"</b><span>  campaigns</span>\"\n",
    "sent2 = \"<span> that inpired a total of  </span><b>\"+\"{:,}\".format(num_members)+\"</b><span>  new members to join SumOfUs.</span></br>\"\n",
    "sent3 = \"<span> In the first 90 days after joining SumOfUs, these members donated </span><b>\"+\"${:0,.0f}\".format(num_amt_donate_90)+\".</b></span>\"\n",
    "text = css + sent1 + sent2 + sent3\n",
    "HTML(text)"
   ]
  },
  {
   "cell_type": "markdown",
   "metadata": {},
   "source": [
    "#### Can you find some trends (high, low, increase, decrease, anomalies)?"
   ]
  },
  {
   "cell_type": "code",
   "execution_count": 48,
   "metadata": {
    "collapsed": false
   },
   "outputs": [
    {
     "data": {
      "text/html": [
       "<div>\n",
       "<table border=\"1\" class=\"dataframe\">\n",
       "  <thead>\n",
       "    <tr style=\"text-align: right;\">\n",
       "      <th></th>\n",
       "      <th>page_id</th>\n",
       "      <th>page_created</th>\n",
       "      <th>count</th>\n",
       "      <th>amt_donations_90day</th>\n",
       "      <th>year</th>\n",
       "    </tr>\n",
       "  </thead>\n",
       "  <tbody>\n",
       "    <tr>\n",
       "      <th>0</th>\n",
       "      <td>12799</td>\n",
       "      <td>2016-03-23 15:13:14</td>\n",
       "      <td>4317</td>\n",
       "      <td>657.16</td>\n",
       "      <td>2016</td>\n",
       "    </tr>\n",
       "    <tr>\n",
       "      <th>1</th>\n",
       "      <td>12763</td>\n",
       "      <td>2016-03-21 12:28:20</td>\n",
       "      <td>1978</td>\n",
       "      <td>48.71</td>\n",
       "      <td>2016</td>\n",
       "    </tr>\n",
       "    <tr>\n",
       "      <th>2</th>\n",
       "      <td>12705</td>\n",
       "      <td>2016-03-17 13:08:55</td>\n",
       "      <td>90</td>\n",
       "      <td>1.44</td>\n",
       "      <td>2016</td>\n",
       "    </tr>\n",
       "  </tbody>\n",
       "</table>\n",
       "</div>"
      ],
      "text/plain": [
       "   page_id         page_created  count  amt_donations_90day  year\n",
       "0    12799  2016-03-23 15:13:14   4317               657.16  2016\n",
       "1    12763  2016-03-21 12:28:20   1978                48.71  2016\n",
       "2    12705  2016-03-17 13:08:55     90                 1.44  2016"
      ]
     },
     "execution_count": 48,
     "metadata": {},
     "output_type": "execute_result"
    }
   ],
   "source": [
    "#make a new dataframe and calculate some new features\n",
    "trend_data = pd.DataFrame(ag_data,columns=['page_id','page_created','count','amt_donations_90day'])\n",
    "constant = pd.to_datetime('\t2011-12-12 23:11:25')\n",
    "trend_data['year'] = trend_data['page_created'].str[:4]\n",
    "trend_data.head(3)"
   ]
  },
  {
   "cell_type": "code",
   "execution_count": 103,
   "metadata": {
    "collapsed": false
   },
   "outputs": [
    {
     "data": {
      "text/plain": [
       "<matplotlib.axes._subplots.AxesSubplot at 0x11e7ec2e8>"
      ]
     },
     "execution_count": 103,
     "metadata": {},
     "output_type": "execute_result"
    },
    {
     "data": {
      "image/png": "[encoded data removed]",
      "text/plain": [
       "<matplotlib.figure.Figure at 0x11f202588>"
      ]
     },
     "metadata": {},
     "output_type": "display_data"
    }
   ],
   "source": [
    "mpl.style.use([\"seaborn-darkgrid\", \"seaborn-colorblind\", \"seaborn-notebook\"])\n",
    "count_group = pd.DataFrame(trend_data.groupby('year')['count'].sum())\n",
    "count_group[1:5].plot()"
   ]
  },
  {
   "cell_type": "code",
   "execution_count": null,
   "metadata": {
    "collapsed": true
   },
   "outputs": [],
   "source": []
  },
  {
   "cell_type": "code",
   "execution_count": 104,
   "metadata": {
    "collapsed": false
   },
   "outputs": [
    {
     "data": {
      "text/plain": [
       "<matplotlib.axes._subplots.AxesSubplot at 0x11f22f860>"
      ]
     },
     "execution_count": 104,
     "metadata": {},
     "output_type": "execute_result"
    },
    {
     "data": {
      "image/png": "[encoded data removed]",
      "text/plain": [
       "<matplotlib.figure.Figure at 0x11f55d198>"
      ]
     },
     "metadata": {},
     "output_type": "display_data"
    }
   ],
   "source": [
    "donate_group = pd.DataFrame(trend_data.groupby('year')['amt_donations_90day'].sum())\n",
    "donate_group[1:5].plot()"
   ]
  },
  {
   "cell_type": "code",
   "execution_count": null,
   "metadata": {
    "collapsed": true
   },
   "outputs": [],
   "source": [
    "donate_group = pd.DataFrame(trend_data.groupby('year')['amt_donations_90day'].sum())\n",
    "donate_group[1:5].plot()"
   ]
  },
  {
   "cell_type": "markdown",
   "metadata": {},
   "source": [
    "#### Can you make a bar plot or a histogram?"
   ]
  },
  {
   "cell_type": "code",
   "execution_count": null,
   "metadata": {
    "collapsed": true
   },
   "outputs": [],
   "source": []
  },
  {
   "cell_type": "markdown",
   "metadata": {},
   "source": [
    "#### Can you compare two related quantities?"
   ]
  },
  {
   "cell_type": "code",
   "execution_count": null,
   "metadata": {
    "collapsed": true
   },
   "outputs": [],
   "source": []
  },
  {
   "cell_type": "markdown",
   "metadata": {},
   "source": [
    "#### Can you make a time-series plot?"
   ]
  },
  {
   "cell_type": "code",
   "execution_count": null,
   "metadata": {
    "collapsed": true
   },
   "outputs": [],
   "source": []
  },
  {
   "cell_type": "markdown",
   "metadata": {},
   "source": [
    "#### Having made these plots, what are some insights you get from them? Do you see any correlations? Is there a hypothesis you would like to investigate further? What other questions do they lead you to ask?"
   ]
  },
  {
   "cell_type": "code",
   "execution_count": null,
   "metadata": {
    "collapsed": true
   },
   "outputs": [],
   "source": []
  },
  {
   "cell_type": "markdown",
   "metadata": {},
   "source": [
    "#### By now you’ve asked a bunch of questions, and found some neat insights. Is there an interesting narrative, a way of presenting the insights using text and plots from the above, that tells a compelling story? As you work out this story, what are some other trends/relationships you think will make it more complete?"
   ]
  }
 ],
 "metadata": {
  "kernelspec": {
   "display_name": "Python 3",
   "language": "python",
   "name": "python3"
  },
  "language_info": {
   "codemirror_mode": {
    "name": "ipython",
    "version": 3
   },
   "file_extension": ".py",
   "mimetype": "text/x-python",
   "name": "python",
   "nbconvert_exporter": "python",
   "pygments_lexer": "ipython3",
   "version": "3.5.1"
  }
 },
 "nbformat": 4,
 "nbformat_minor": 0
}

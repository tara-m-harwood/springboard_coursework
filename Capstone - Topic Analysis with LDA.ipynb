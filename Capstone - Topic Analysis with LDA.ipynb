{
 "cells": [
  {
   "cell_type": "markdown",
   "metadata": {},
   "source": [
    "# Textual analysis of activist campaign information"
   ]
  },
  {
   "cell_type": "markdown",
   "metadata": {},
   "source": [
    "### MySQL to extract the page name, manually selected tags, and html content of the top mailing for each page"
   ]
  },
  {
   "cell_type": "markdown",
   "metadata": {},
   "source": [
    "```\n",
    "SET @rank_pages:=0; SET @rank:=0;\n",
    "select ranked.page_id, ranked.page_name, tag.name as tag_name, replace(replace(mail.html,',',''),'\"','') as html\n",
    "from\n",
    "  (select page_id, page_name, mailing_id, count, \n",
    "          IF(@rank_pages=page_id,@rank:=@rank+1,@rank:=1) as rank, @rank_pages:=page_id\n",
    "  from\n",
    "\t(select p.id as page_id, p.name as page_name, a.mailing_id, count(*) as count\n",
    "\tfrom core_action as a\n",
    "\tjoin core_page as p on a.page_id = p.id\n",
    "\twhere a.mailing_id is not null\n",
    "\tand p.id not in (5,25,28,46,130,525,561,566,761,935,1304,1394,1862,2678,3712,8559,10668)\n",
    "\tand left(p.name,12) <> \"controlshift\"\n",
    "\tand p.created_at >= \"2013-01-01\"\n",
    "\tand p.lang_id = 100\n",
    "\tgroup by p.id, a.mailing_id\n",
    "\torder by p.id, count(*) desc\n",
    "\t) as unranked\n",
    "  ) as ranked\n",
    "join core_mailing as mail on mail.id = ranked.mailing_id\n",
    "join core_page_tags as cpt on cpt.page_id = ranked.page_id\n",
    "join core_tag as tag on tag.id = cpt.tag_id and tag.id IN (2,8,10,11,13,15,22,23,24,25,29,30,32,33,34,35,36,39,41,43,45,47,48,49,54,59,60,64,67,72,73,75,80,81,82,84,88,89,91,92,93,94,95,96,98,101,104,105,106,107,109,112,114,115,116,117,120,122,123,125,127,130,133,139,141,142,146,148,151,157,160,161,175,177,178,181,183,185,190,193,201,202,206,207,211,213,222,224,226,227,231,234,239,240,242,243,244,246,248,254,258,260,261,265,267,270,273,280,287,288,289,291,297,303,315,316,322,323,325,327,328,334,345,346,347,348,369,383,389,393,394,402,407,410,412,415,443,445,451,452,463,467,468,471,480,481,485,486,488,489,493,508,518,521,549,550,551,564,567,572,573,574,581,583,587,619,621,624,634,641,659,696,804,820,826,898,900,933,934,937,938,940,941,942,943,944,945,946,947,954,966,967,968,969,972,973,974,975,976,977,1000,1012,1036,1046,1071,1078,1128,1130,1132,1140,1208,1248,1282,1739,1746) \n",
    "where rank = 1\n",
    "order by 1,4\n",
    "```"
   ]
  },
  {
   "cell_type": "markdown",
   "metadata": {},
   "source": [
    "### import modules"
   ]
  },
  {
   "cell_type": "code",
   "execution_count": 1,
   "metadata": {
    "collapsed": false
   },
   "outputs": [
    {
     "name": "stdout",
     "output_type": "stream",
     "text": [
      "*** Introductory Examples for the NLTK Book ***\n",
      "Loading text1, ..., text9 and sent1, ..., sent9\n",
      "Type the name of the text or sentence to view it.\n",
      "Type: 'texts()' or 'sents()' to list the materials.\n",
      "text1: Moby Dick by Herman Melville 1851\n",
      "text2: Sense and Sensibility by Jane Austen 1811\n",
      "text3: The Book of Genesis\n",
      "text4: Inaugural Address Corpus\n",
      "text5: Chat Corpus\n",
      "text6: Monty Python and the Holy Grail\n",
      "text7: Wall Street Journal\n",
      "text8: Personals Corpus\n",
      "text9: The Man Who Was Thursday by G . K . Chesterton 1908\n"
     ]
    }
   ],
   "source": [
    "import pandas as pd\n",
    "import numpy as np\n",
    "from bs4 import BeautifulSoup\n",
    "import nltk\n",
    "from nltk.tokenize import sent_tokenize, word_tokenize, PunktSentenceTokenizer\n",
    "from nltk.corpus import stopwords\n",
    "from nltk.tokenize import *\n",
    "from nltk.book import *\n",
    "from gensim import corpora, models"
   ]
  },
  {
   "cell_type": "markdown",
   "metadata": {},
   "source": [
    "### read the csv into a DataFrame"
   ]
  },
  {
   "cell_type": "code",
   "execution_count": 2,
   "metadata": {
    "collapsed": false
   },
   "outputs": [
    {
     "data": {
      "text/html": [
       "<div>\n",
       "<table border=\"1\" class=\"dataframe\">\n",
       "  <thead>\n",
       "    <tr style=\"text-align: right;\">\n",
       "      <th></th>\n",
       "      <th>page_id</th>\n",
       "      <th>page_name</th>\n",
       "      <th>tag_name</th>\n",
       "      <th>html</th>\n",
       "    </tr>\n",
       "  </thead>\n",
       "  <tbody>\n",
       "    <tr>\n",
       "      <th>0</th>\n",
       "      <td>400</td>\n",
       "      <td>time-warner-al-jazeera</td>\n",
       "      <td>us corporation</td>\n",
       "      <td>&lt;table cellspacing=0 cellpadding=0 align=right&gt;\\r\\n&lt;tbody&gt;\\r\\n&lt;tr&gt;\\r\\n&lt;td id=boxholder&gt;\\r\\n&lt;table style=border: 1px solid grey; margin-left: 10px; margin-bottom: 5px; width: 220px; cellspacing=0 cellpadding=0 bgcolor=#ffffff&gt;\\r\\n&lt;tbody&gt;\\r\\n&lt;tr&gt;\\r\\n&lt;td style=padding: 10px;&gt;\\r\\n&lt;p&gt;In a blatantly prejudiced move Time Warner Cable dropped CurrentTV the moment it was sold to Al Jazeera.&lt;/p&gt;\\r\\n&lt;p&gt;&lt;strong&gt;Tell Time Warner Cable to pick CurrentTV back up and give its new owners a fair shake.&lt;br /&gt;&lt;...</td>\n",
       "    </tr>\n",
       "    <tr>\n",
       "      <th>1</th>\n",
       "      <td>400</td>\n",
       "      <td>time-warner-al-jazeera</td>\n",
       "      <td>discrimination</td>\n",
       "      <td>&lt;table cellspacing=0 cellpadding=0 align=right&gt;\\r\\n&lt;tbody&gt;\\r\\n&lt;tr&gt;\\r\\n&lt;td id=boxholder&gt;\\r\\n&lt;table style=border: 1px solid grey; margin-left: 10px; margin-bottom: 5px; width: 220px; cellspacing=0 cellpadding=0 bgcolor=#ffffff&gt;\\r\\n&lt;tbody&gt;\\r\\n&lt;tr&gt;\\r\\n&lt;td style=padding: 10px;&gt;\\r\\n&lt;p&gt;In a blatantly prejudiced move Time Warner Cable dropped CurrentTV the moment it was sold to Al Jazeera.&lt;/p&gt;\\r\\n&lt;p&gt;&lt;strong&gt;Tell Time Warner Cable to pick CurrentTV back up and give its new owners a fair shake.&lt;br /&gt;&lt;...</td>\n",
       "    </tr>\n",
       "    <tr>\n",
       "      <th>2</th>\n",
       "      <td>401</td>\n",
       "      <td>hbo-animal-cruelty</td>\n",
       "      <td>us corporation</td>\n",
       "      <td>&lt;table cellspacing=0 cellpadding=0 align=right&gt;\\r\\n&lt;tbody&gt;\\r\\n&lt;tr&gt;\\r\\n&lt;td id=boxholder&gt;\\r\\n&lt;table style=border: 1px solid grey; margin-left: 10px; margin-bottom: 5px; width: 220px; cellspacing=0 cellpadding=0 bgcolor=#ffffff&gt;\\r\\n&lt;tbody&gt;\\r\\n&lt;tr&gt;\\r\\n&lt;td style=padding: 10px;&gt;\\r\\n&lt;p&gt;A new lawsuit claims that animal abuse by HBO led to the death of four horses in one season of shooting &lt;em&gt;Luck&lt;/em&gt;.&lt;/p&gt;\\r\\n&lt;p&gt;&lt;strong&gt;Tell&amp;nbsp; HBO to investigate claims of animal abuse and enact measures to prev...</td>\n",
       "    </tr>\n",
       "    <tr>\n",
       "      <th>3</th>\n",
       "      <td>401</td>\n",
       "      <td>hbo-animal-cruelty</td>\n",
       "      <td>animal abuse</td>\n",
       "      <td>&lt;table cellspacing=0 cellpadding=0 align=right&gt;\\r\\n&lt;tbody&gt;\\r\\n&lt;tr&gt;\\r\\n&lt;td id=boxholder&gt;\\r\\n&lt;table style=border: 1px solid grey; margin-left: 10px; margin-bottom: 5px; width: 220px; cellspacing=0 cellpadding=0 bgcolor=#ffffff&gt;\\r\\n&lt;tbody&gt;\\r\\n&lt;tr&gt;\\r\\n&lt;td style=padding: 10px;&gt;\\r\\n&lt;p&gt;A new lawsuit claims that animal abuse by HBO led to the death of four horses in one season of shooting &lt;em&gt;Luck&lt;/em&gt;.&lt;/p&gt;\\r\\n&lt;p&gt;&lt;strong&gt;Tell&amp;nbsp; HBO to investigate claims of animal abuse and enact measures to prev...</td>\n",
       "    </tr>\n",
       "  </tbody>\n",
       "</table>\n",
       "</div>"
      ],
      "text/plain": [
       "   page_id               page_name        tag_name  \\\n",
       "0      400  time-warner-al-jazeera  us corporation   \n",
       "1      400  time-warner-al-jazeera  discrimination   \n",
       "2      401      hbo-animal-cruelty  us corporation   \n",
       "3      401      hbo-animal-cruelty    animal abuse   \n",
       "\n",
       "                                                                                                                                                                                                                                                                                                                                                                                                                                                                                                                  html  \n",
       "0  <table cellspacing=0 cellpadding=0 align=right>\\r\\n<tbody>\\r\\n<tr>\\r\\n<td id=boxholder>\\r\\n<table style=border: 1px solid grey; margin-left: 10px; margin-bottom: 5px; width: 220px; cellspacing=0 cellpadding=0 bgcolor=#ffffff>\\r\\n<tbody>\\r\\n<tr>\\r\\n<td style=padding: 10px;>\\r\\n<p>In a blatantly prejudiced move Time Warner Cable dropped CurrentTV the moment it was sold to Al Jazeera.</p>\\r\\n<p><strong>Tell Time Warner Cable to pick CurrentTV back up and give its new owners a fair shake.<br /><...  \n",
       "1  <table cellspacing=0 cellpadding=0 align=right>\\r\\n<tbody>\\r\\n<tr>\\r\\n<td id=boxholder>\\r\\n<table style=border: 1px solid grey; margin-left: 10px; margin-bottom: 5px; width: 220px; cellspacing=0 cellpadding=0 bgcolor=#ffffff>\\r\\n<tbody>\\r\\n<tr>\\r\\n<td style=padding: 10px;>\\r\\n<p>In a blatantly prejudiced move Time Warner Cable dropped CurrentTV the moment it was sold to Al Jazeera.</p>\\r\\n<p><strong>Tell Time Warner Cable to pick CurrentTV back up and give its new owners a fair shake.<br /><...  \n",
       "2  <table cellspacing=0 cellpadding=0 align=right>\\r\\n<tbody>\\r\\n<tr>\\r\\n<td id=boxholder>\\r\\n<table style=border: 1px solid grey; margin-left: 10px; margin-bottom: 5px; width: 220px; cellspacing=0 cellpadding=0 bgcolor=#ffffff>\\r\\n<tbody>\\r\\n<tr>\\r\\n<td style=padding: 10px;>\\r\\n<p>A new lawsuit claims that animal abuse by HBO led to the death of four horses in one season of shooting <em>Luck</em>.</p>\\r\\n<p><strong>Tell&nbsp; HBO to investigate claims of animal abuse and enact measures to prev...  \n",
       "3  <table cellspacing=0 cellpadding=0 align=right>\\r\\n<tbody>\\r\\n<tr>\\r\\n<td id=boxholder>\\r\\n<table style=border: 1px solid grey; margin-left: 10px; margin-bottom: 5px; width: 220px; cellspacing=0 cellpadding=0 bgcolor=#ffffff>\\r\\n<tbody>\\r\\n<tr>\\r\\n<td style=padding: 10px;>\\r\\n<p>A new lawsuit claims that animal abuse by HBO led to the death of four horses in one season of shooting <em>Luck</em>.</p>\\r\\n<p><strong>Tell&nbsp; HBO to investigate claims of animal abuse and enact measures to prev...  "
      ]
     },
     "execution_count": 2,
     "metadata": {},
     "output_type": "execute_result"
    }
   ],
   "source": [
    "camp_txt = pd.read_csv('../capstone/text_fields.csv')\n",
    "pd.options.display.max_colwidth = 500\n",
    "camp_txt.head(4)"
   ]
  },
  {
   "cell_type": "markdown",
   "metadata": {},
   "source": [
    "### flatten tags for each campaign into a list, then turn the list into a string; each campaign is now a single row"
   ]
  },
  {
   "cell_type": "code",
   "execution_count": 3,
   "metadata": {
    "collapsed": false
   },
   "outputs": [
    {
     "data": {
      "text/html": [
       "<div>\n",
       "<table border=\"1\" class=\"dataframe\">\n",
       "  <thead>\n",
       "    <tr style=\"text-align: right;\">\n",
       "      <th></th>\n",
       "      <th>page_id</th>\n",
       "      <th>page_name</th>\n",
       "      <th>tag_name</th>\n",
       "      <th>html</th>\n",
       "    </tr>\n",
       "  </thead>\n",
       "  <tbody>\n",
       "    <tr>\n",
       "      <th>0</th>\n",
       "      <td>400</td>\n",
       "      <td>time-warner-al-jazeera</td>\n",
       "      <td>us corporation, discrimination</td>\n",
       "      <td>&lt;table cellspacing=0 cellpadding=0 align=right&gt;\\r\\n&lt;tbody&gt;\\r\\n&lt;tr&gt;\\r\\n&lt;td id=boxholder&gt;\\r\\n&lt;table style=border: 1px solid grey; margin-left: 10px; margin-bottom: 5px; width: 220px; cellspacing=0 cellpadding=0 bgcolor=#ffffff&gt;\\r\\n&lt;tbody&gt;\\r\\n&lt;tr&gt;\\r\\n&lt;td style=padding: 10px;&gt;\\r\\n&lt;p&gt;In a blatantly prejudiced move Time Warner Cable dropped CurrentTV the moment it was sold to Al Jazeera.&lt;/p&gt;\\r\\n&lt;p&gt;&lt;strong&gt;Tell Time Warner Cable to pick CurrentTV back up and give its new owners a fair shake.&lt;br /&gt;&lt;...</td>\n",
       "    </tr>\n",
       "    <tr>\n",
       "      <th>1</th>\n",
       "      <td>401</td>\n",
       "      <td>hbo-animal-cruelty</td>\n",
       "      <td>us corporation, animal abuse</td>\n",
       "      <td>&lt;table cellspacing=0 cellpadding=0 align=right&gt;\\r\\n&lt;tbody&gt;\\r\\n&lt;tr&gt;\\r\\n&lt;td id=boxholder&gt;\\r\\n&lt;table style=border: 1px solid grey; margin-left: 10px; margin-bottom: 5px; width: 220px; cellspacing=0 cellpadding=0 bgcolor=#ffffff&gt;\\r\\n&lt;tbody&gt;\\r\\n&lt;tr&gt;\\r\\n&lt;td style=padding: 10px;&gt;\\r\\n&lt;p&gt;A new lawsuit claims that animal abuse by HBO led to the death of four horses in one season of shooting &lt;em&gt;Luck&lt;/em&gt;.&lt;/p&gt;\\r\\n&lt;p&gt;&lt;strong&gt;Tell&amp;nbsp; HBO to investigate claims of animal abuse and enact measures to prev...</td>\n",
       "    </tr>\n",
       "    <tr>\n",
       "      <th>2</th>\n",
       "      <td>402</td>\n",
       "      <td>gm-strike</td>\n",
       "      <td>us corporation, working conditions, workers</td>\n",
       "      <td>&lt;table cellspacing=0 cellpadding=0 align=right&gt;\\r\\n&lt;tbody&gt;\\r\\n&lt;tr&gt;\\r\\n&lt;td id=boxholder&gt;\\r\\n&lt;table style=border: 1px solid grey; margin-left: 10px; margin-bottom: 5px; width: 220px; cellspacing=0 cellpadding=0 bgcolor=#ffffff&gt;\\r\\n&lt;tbody&gt;\\r\\n&lt;tr&gt;\\r\\n&lt;td style=padding: 10px;&gt;\\r\\n&lt;p&gt;This man has stitched his lips together and declared a hunger strike demanding that General Motors compensate its Colombian employees for debilitating life-long injuries.&lt;/p&gt;\\r\\n&lt;p&gt;&lt;a href=http://action.sumofus.org/a...</td>\n",
       "    </tr>\n",
       "    <tr>\n",
       "      <th>3</th>\n",
       "      <td>403</td>\n",
       "      <td>boeing-dreamliner-fire</td>\n",
       "      <td>us corporation, consumer safety</td>\n",
       "      <td>&lt;table cellspacing=0 cellpadding=0 align=right&gt;\\r\\n&lt;tbody&gt;\\r\\n&lt;tr&gt;\\r\\n&lt;td id=boxholder&gt;\\r\\n&lt;table style=border: 1px solid grey; margin-left: 10px; margin-bottom: 5px; width: 220px; cellspacing=0 cellpadding=0 bgcolor=#ffffff&gt;\\r\\n&lt;tbody&gt;\\r\\n&lt;tr&gt;\\r\\n&lt;td style=padding: 10px;&gt;\\r\\n&lt;div&gt;Boeing's new 787 Dreamliners keep catching on fire. Something is clearly wrong with the electrical system.&lt;/div&gt;\\r\\n&lt;div&gt;&amp;nbsp;&lt;/div&gt;\\r\\n&lt;div&gt;&lt;strong&gt;Tell Boeing to recall the 787s immediately.&lt;/strong&gt;&lt;/div&gt;\\r\\n&lt;p...</td>\n",
       "    </tr>\n",
       "  </tbody>\n",
       "</table>\n",
       "</div>"
      ],
      "text/plain": [
       "   page_id               page_name  \\\n",
       "0      400  time-warner-al-jazeera   \n",
       "1      401      hbo-animal-cruelty   \n",
       "2      402               gm-strike   \n",
       "3      403  boeing-dreamliner-fire   \n",
       "\n",
       "                                      tag_name  \\\n",
       "0               us corporation, discrimination   \n",
       "1                 us corporation, animal abuse   \n",
       "2  us corporation, working conditions, workers   \n",
       "3              us corporation, consumer safety   \n",
       "\n",
       "                                                                                                                                                                                                                                                                                                                                                                                                                                                                                                                  html  \n",
       "0  <table cellspacing=0 cellpadding=0 align=right>\\r\\n<tbody>\\r\\n<tr>\\r\\n<td id=boxholder>\\r\\n<table style=border: 1px solid grey; margin-left: 10px; margin-bottom: 5px; width: 220px; cellspacing=0 cellpadding=0 bgcolor=#ffffff>\\r\\n<tbody>\\r\\n<tr>\\r\\n<td style=padding: 10px;>\\r\\n<p>In a blatantly prejudiced move Time Warner Cable dropped CurrentTV the moment it was sold to Al Jazeera.</p>\\r\\n<p><strong>Tell Time Warner Cable to pick CurrentTV back up and give its new owners a fair shake.<br /><...  \n",
       "1  <table cellspacing=0 cellpadding=0 align=right>\\r\\n<tbody>\\r\\n<tr>\\r\\n<td id=boxholder>\\r\\n<table style=border: 1px solid grey; margin-left: 10px; margin-bottom: 5px; width: 220px; cellspacing=0 cellpadding=0 bgcolor=#ffffff>\\r\\n<tbody>\\r\\n<tr>\\r\\n<td style=padding: 10px;>\\r\\n<p>A new lawsuit claims that animal abuse by HBO led to the death of four horses in one season of shooting <em>Luck</em>.</p>\\r\\n<p><strong>Tell&nbsp; HBO to investigate claims of animal abuse and enact measures to prev...  \n",
       "2  <table cellspacing=0 cellpadding=0 align=right>\\r\\n<tbody>\\r\\n<tr>\\r\\n<td id=boxholder>\\r\\n<table style=border: 1px solid grey; margin-left: 10px; margin-bottom: 5px; width: 220px; cellspacing=0 cellpadding=0 bgcolor=#ffffff>\\r\\n<tbody>\\r\\n<tr>\\r\\n<td style=padding: 10px;>\\r\\n<p>This man has stitched his lips together and declared a hunger strike demanding that General Motors compensate its Colombian employees for debilitating life-long injuries.</p>\\r\\n<p><a href=http://action.sumofus.org/a...  \n",
       "3  <table cellspacing=0 cellpadding=0 align=right>\\r\\n<tbody>\\r\\n<tr>\\r\\n<td id=boxholder>\\r\\n<table style=border: 1px solid grey; margin-left: 10px; margin-bottom: 5px; width: 220px; cellspacing=0 cellpadding=0 bgcolor=#ffffff>\\r\\n<tbody>\\r\\n<tr>\\r\\n<td style=padding: 10px;>\\r\\n<div>Boeing's new 787 Dreamliners keep catching on fire. Something is clearly wrong with the electrical system.</div>\\r\\n<div>&nbsp;</div>\\r\\n<div><strong>Tell Boeing to recall the 787s immediately.</strong></div>\\r\\n<p...  "
      ]
     },
     "execution_count": 3,
     "metadata": {},
     "output_type": "execute_result"
    }
   ],
   "source": [
    "camp_txt = pd.DataFrame(camp_txt.groupby(by=('page_id','page_name','html'))['tag_name'].apply(list)).reset_index()\n",
    "camp_txt['tag_name'] = pd.DataFrame(camp_txt['tag_name'].apply(', '.join))\n",
    "camp_txt = camp_txt[['page_id','page_name','tag_name','html']]\n",
    "camp_txt.head(4)"
   ]
  },
  {
   "cell_type": "markdown",
   "metadata": {
    "collapsed": true
   },
   "source": [
    "### use BeautifulSoup to clean up the html"
   ]
  },
  {
   "cell_type": "code",
   "execution_count": 4,
   "metadata": {
    "collapsed": false
   },
   "outputs": [
    {
     "data": {
      "text/html": [
       "<div>\n",
       "<table border=\"1\" class=\"dataframe\">\n",
       "  <thead>\n",
       "    <tr style=\"text-align: right;\">\n",
       "      <th></th>\n",
       "      <th>page_id</th>\n",
       "      <th>page_name</th>\n",
       "      <th>tag_name</th>\n",
       "      <th>html</th>\n",
       "    </tr>\n",
       "  </thead>\n",
       "  <tbody>\n",
       "    <tr>\n",
       "      <th>0</th>\n",
       "      <td>400</td>\n",
       "      <td>time-warner-al-jazeera</td>\n",
       "      <td>us corporation, discrimination</td>\n",
       "      <td>In a blatantly prejudiced move Time Warner Cable dropped CurrentTV the moment it was sold to Al Jazeera.Tell Time Warner Cable to pick CurrentTV back up and give its new owners a fair shake.{{ user.first_name|capfirst|default:Friend }}On Wednesday Current TV announced that it had been sold to Al...</td>\n",
       "    </tr>\n",
       "    <tr>\n",
       "      <th>1</th>\n",
       "      <td>401</td>\n",
       "      <td>hbo-animal-cruelty</td>\n",
       "      <td>us corporation, animal abuse</td>\n",
       "      <td>A new lawsuit claims that animal abuse by HBO led to the death of four horses in one season of shootingLuck.Tell  HBO to investigate claims of animal abuse and enact measures to prevent animal cruelty in the future.{{ user.first_name|capfirst|default:Friend }}Information has come to light ofshoc...</td>\n",
       "    </tr>\n",
       "    <tr>\n",
       "      <th>2</th>\n",
       "      <td>402</td>\n",
       "      <td>gm-strike</td>\n",
       "      <td>us corporation, working conditions, workers</td>\n",
       "      <td>This man has stitched his lips together and declared a hunger strike demanding that General Motors compensate its Colombian employees for debilitating life-long injuries.Tell General Motors to meet with its injured workers and negotiate.{{ user.first_name|capfirst|default:Friend }}Jorge Parra st...</td>\n",
       "    </tr>\n",
       "    <tr>\n",
       "      <th>3</th>\n",
       "      <td>403</td>\n",
       "      <td>boeing-dreamliner-fire</td>\n",
       "      <td>us corporation, consumer safety</td>\n",
       "      <td>Boeing's new 787 Dreamliners keep catching on fire. Something is clearly wrong with the electrical system.Tell Boeing to recall the 787s immediately.{{ user.first_name|capfirst|default:Friend }}From the startthe Boeing 787 Dreamliner has been plagued with problemsbut now a clear pattern is emerg...</td>\n",
       "    </tr>\n",
       "  </tbody>\n",
       "</table>\n",
       "</div>"
      ],
      "text/plain": [
       "   page_id               page_name  \\\n",
       "0      400  time-warner-al-jazeera   \n",
       "1      401      hbo-animal-cruelty   \n",
       "2      402               gm-strike   \n",
       "3      403  boeing-dreamliner-fire   \n",
       "\n",
       "                                      tag_name  \\\n",
       "0               us corporation, discrimination   \n",
       "1                 us corporation, animal abuse   \n",
       "2  us corporation, working conditions, workers   \n",
       "3              us corporation, consumer safety   \n",
       "\n",
       "                                                                                                                                                                                                                                                                                                          html  \n",
       "0  In a blatantly prejudiced move Time Warner Cable dropped CurrentTV the moment it was sold to Al Jazeera.Tell Time Warner Cable to pick CurrentTV back up and give its new owners a fair shake.{{ user.first_name|capfirst|default:Friend }}On Wednesday Current TV announced that it had been sold to Al...  \n",
       "1  A new lawsuit claims that animal abuse by HBO led to the death of four horses in one season of shootingLuck.Tell  HBO to investigate claims of animal abuse and enact measures to prevent animal cruelty in the future.{{ user.first_name|capfirst|default:Friend }}Information has come to light ofshoc...  \n",
       "2  This man has stitched his lips together and declared a hunger strike demanding that General Motors compensate its Colombian employees for debilitating life-long injuries.Tell General Motors to meet with its injured workers and negotiate.{{ user.first_name|capfirst|default:Friend }}Jorge Parra st...  \n",
       "3  Boeing's new 787 Dreamliners keep catching on fire. Something is clearly wrong with the electrical system.Tell Boeing to recall the 787s immediately.{{ user.first_name|capfirst|default:Friend }}From the startthe Boeing 787 Dreamliner has been plagued with problemsbut now a clear pattern is emerg...  "
      ]
     },
     "execution_count": 4,
     "metadata": {},
     "output_type": "execute_result"
    }
   ],
   "source": [
    "pd.options.display.max_colwidth = 300\n",
    "dirty = camp_txt['html']\n",
    "clean = pd.Series()\n",
    "for index, item in dirty.iteritems():    \n",
    "    soup = BeautifulSoup(item, \"lxml\")\n",
    "    scrubbed = (soup.get_text(strip=True))\n",
    "    clean.loc[index] = scrubbed \n",
    "camp_txt['html'] = clean\n",
    "camp_txt.head(4)"
   ]
  },
  {
   "cell_type": "markdown",
   "metadata": {},
   "source": [
    "### a bit more cleaning"
   ]
  },
  {
   "cell_type": "code",
   "execution_count": 5,
   "metadata": {
    "collapsed": false
   },
   "outputs": [
    {
     "data": {
      "text/html": [
       "<div>\n",
       "<table border=\"1\" class=\"dataframe\">\n",
       "  <thead>\n",
       "    <tr style=\"text-align: right;\">\n",
       "      <th></th>\n",
       "      <th>page_id</th>\n",
       "      <th>page_name</th>\n",
       "      <th>tag_name</th>\n",
       "      <th>html</th>\n",
       "      <th>corpus</th>\n",
       "    </tr>\n",
       "  </thead>\n",
       "  <tbody>\n",
       "    <tr>\n",
       "      <th>0</th>\n",
       "      <td>400</td>\n",
       "      <td>time warner al jazeera</td>\n",
       "      <td>us corporation  discrimination</td>\n",
       "      <td>In a blatantly prejudiced move Time Warner Cable dropped CurrentTV the moment it was sold to Al Jazeera Tell Time Warner Cable to pick CurrentTV back up and give its new owners a fair shake    user first_name capfirst default Friend   On Wednesday Current TV announced that it had been sold to Al...</td>\n",
       "      <td>time warner al jazeera us corporation  discrimination us corporation  discrimination us corporation  discrimination us corporation  discrimination in a blatantly prejudiced move time warner cable dropped currenttv the moment it was sold to al jazeera tell time warner cable to pick currenttv back...</td>\n",
       "    </tr>\n",
       "    <tr>\n",
       "      <th>1</th>\n",
       "      <td>401</td>\n",
       "      <td>hbo animal cruelty</td>\n",
       "      <td>us corporation  animal abuse</td>\n",
       "      <td>A new lawsuit claims that animal abuse by HBO led to the death of four horses in one season of shootingLuck Tell  HBO to investigate claims of animal abuse and enact measures to prevent animal cruelty in the future    user first_name capfirst default Friend   Information has come to light ofshoc...</td>\n",
       "      <td>hbo animal cruelty us corporation  animal abuse us corporation  animal abuse us corporation  animal abuse us corporation  animal abuse a new lawsuit claims that animal abuse by hbo led to the death of four horses in one season of shootingluck tell  hbo to investigate claims of animal abuse and e...</td>\n",
       "    </tr>\n",
       "    <tr>\n",
       "      <th>2</th>\n",
       "      <td>402</td>\n",
       "      <td>gm strike</td>\n",
       "      <td>us corporation  working conditions  workers</td>\n",
       "      <td>This man has stitched his lips together and declared a hunger strike demanding that General Motors compensate its Colombian employees for debilitating life long injuries Tell General Motors to meet with its injured workers and negotiate    user first_name capfirst default Friend   Jorge Parra st...</td>\n",
       "      <td>gm strike us corporation  working conditions  workers us corporation  working conditions  workers us corporation  working conditions  workers us corporation  working conditions  workers this man has stitched his lips together and declared a hunger strike demanding that general motors compensate ...</td>\n",
       "    </tr>\n",
       "    <tr>\n",
       "      <th>3</th>\n",
       "      <td>403</td>\n",
       "      <td>boeing dreamliner fire</td>\n",
       "      <td>us corporation  consumer safety</td>\n",
       "      <td>Boeing s new 787 Dreamliners keep catching on fire  Something is clearly wrong with the electrical system Tell Boeing to recall the 787s immediately    user first_name capfirst default Friend   From the startthe Boeing 787 Dreamliner has been plagued with problemsbut now a clear pattern is emerg...</td>\n",
       "      <td>boeing dreamliner fire us corporation  consumer safety us corporation  consumer safety us corporation  consumer safety us corporation  consumer safety boeing s new 787 dreamliners keep catching on fire  something is clearly wrong with the electrical system tell boeing to recall the 787s immediat...</td>\n",
       "    </tr>\n",
       "    <tr>\n",
       "      <th>4</th>\n",
       "      <td>405</td>\n",
       "      <td>anz mining</td>\n",
       "      <td>bank  Australian corporation</td>\n",
       "      <td>ANZ Bank promised when signing the Equator Principles to not loan money to projects that have a negative impact on the environment  But it gave a  1 2B loan to a massive new coal mine in NSW Tell ANZ to overturn the loan and keep its promises to protect the environment    user first_name capfirs...</td>\n",
       "      <td>anz mining bank  australian corporation bank  australian corporation bank  australian corporation bank  australian corporation anz bank promised when signing the equator principles to not loan money to projects that have a negative impact on the environment  but it gave a  1 2b loan to a massive...</td>\n",
       "    </tr>\n",
       "  </tbody>\n",
       "</table>\n",
       "</div>"
      ],
      "text/plain": [
       "   page_id               page_name  \\\n",
       "0      400  time warner al jazeera   \n",
       "1      401      hbo animal cruelty   \n",
       "2      402               gm strike   \n",
       "3      403  boeing dreamliner fire   \n",
       "4      405              anz mining   \n",
       "\n",
       "                                      tag_name  \\\n",
       "0               us corporation  discrimination   \n",
       "1                 us corporation  animal abuse   \n",
       "2  us corporation  working conditions  workers   \n",
       "3              us corporation  consumer safety   \n",
       "4                 bank  Australian corporation   \n",
       "\n",
       "                                                                                                                                                                                                                                                                                                          html  \\\n",
       "0  In a blatantly prejudiced move Time Warner Cable dropped CurrentTV the moment it was sold to Al Jazeera Tell Time Warner Cable to pick CurrentTV back up and give its new owners a fair shake    user first_name capfirst default Friend   On Wednesday Current TV announced that it had been sold to Al...   \n",
       "1  A new lawsuit claims that animal abuse by HBO led to the death of four horses in one season of shootingLuck Tell  HBO to investigate claims of animal abuse and enact measures to prevent animal cruelty in the future    user first_name capfirst default Friend   Information has come to light ofshoc...   \n",
       "2  This man has stitched his lips together and declared a hunger strike demanding that General Motors compensate its Colombian employees for debilitating life long injuries Tell General Motors to meet with its injured workers and negotiate    user first_name capfirst default Friend   Jorge Parra st...   \n",
       "3  Boeing s new 787 Dreamliners keep catching on fire  Something is clearly wrong with the electrical system Tell Boeing to recall the 787s immediately    user first_name capfirst default Friend   From the startthe Boeing 787 Dreamliner has been plagued with problemsbut now a clear pattern is emerg...   \n",
       "4  ANZ Bank promised when signing the Equator Principles to not loan money to projects that have a negative impact on the environment  But it gave a  1 2B loan to a massive new coal mine in NSW Tell ANZ to overturn the loan and keep its promises to protect the environment    user first_name capfirs...   \n",
       "\n",
       "                                                                                                                                                                                                                                                                                                        corpus  \n",
       "0  time warner al jazeera us corporation  discrimination us corporation  discrimination us corporation  discrimination us corporation  discrimination in a blatantly prejudiced move time warner cable dropped currenttv the moment it was sold to al jazeera tell time warner cable to pick currenttv back...  \n",
       "1  hbo animal cruelty us corporation  animal abuse us corporation  animal abuse us corporation  animal abuse us corporation  animal abuse a new lawsuit claims that animal abuse by hbo led to the death of four horses in one season of shootingluck tell  hbo to investigate claims of animal abuse and e...  \n",
       "2  gm strike us corporation  working conditions  workers us corporation  working conditions  workers us corporation  working conditions  workers us corporation  working conditions  workers this man has stitched his lips together and declared a hunger strike demanding that general motors compensate ...  \n",
       "3  boeing dreamliner fire us corporation  consumer safety us corporation  consumer safety us corporation  consumer safety us corporation  consumer safety boeing s new 787 dreamliners keep catching on fire  something is clearly wrong with the electrical system tell boeing to recall the 787s immediat...  \n",
       "4  anz mining bank  australian corporation bank  australian corporation bank  australian corporation bank  australian corporation anz bank promised when signing the equator principles to not loan money to projects that have a negative impact on the environment  but it gave a  1 2b loan to a massive...  "
      ]
     },
     "execution_count": 5,
     "metadata": {},
     "output_type": "execute_result"
    }
   ],
   "source": [
    "camp_txt['page_name'] = camp_txt['page_name'].str.replace('[^\\w\\s]',' ') #replaces all punctuation in page_name with spaces\n",
    "camp_txt['tag_name'] = camp_txt['tag_name'].str.replace('[^\\w\\s]',' ') #replaces all punctuation in tag_name with spaces\n",
    "camp_txt['tag_name'] = camp_txt['tag_name'].str.replace('[_]',' ') #replaces underscores in tag_name with spaces\n",
    "camp_txt['html'] = camp_txt['html'].str.replace('[^\\w\\s]',' ') #replaces all punctuation in page_name with spaces\n",
    "camp_txt['html'] = camp_txt['html'].str.replace(\"{(.+)}\", ' ') #removes django tags from html\n",
    "\n",
    "# this is my very unsophisticated way of weighing the tag names x4 to the rest of the words\n",
    "tag_weight = camp_txt['tag_name']+' '+camp_txt['tag_name']+' '+camp_txt['tag_name']+' '+camp_txt['tag_name']\n",
    "\n",
    "# put it together and lowercase everything\n",
    "camp_txt['corpus'] = (camp_txt['page_name']+' '+tag_weight+' '+camp_txt['html']).str.lower()\n",
    "camp_txt.head(5)"
   ]
  },
  {
   "cell_type": "code",
   "execution_count": null,
   "metadata": {
    "collapsed": false
   },
   "outputs": [],
   "source": [
    "#tokenize and remove stopwords\n",
    "pd.options.display.max_colwidth = 100\n",
    "stop_words = set(stopwords.words('english'))\n",
    "camp_txt['tokens'] = camp_txt.apply(lambda row: nltk.word_tokenize(row['corpus']), axis=1)\n",
    "camp_txt['tokens'] = camp_txt['tokens'].apply(lambda x: [item for item in x if item not in stop_words])\n",
    "camp_txt[['page_id','page_name','corpus','tokens']].head(10)"
   ]
  },
  {
   "cell_type": "code",
   "execution_count": null,
   "metadata": {
    "collapsed": false
   },
   "outputs": [],
   "source": [
    "# create and apply a part of speech filter\n",
    "token_list = camp_txt['tokens'].sum()\n",
    "pos_tagged = nltk.pos_tag(token_list)\n",
    "pos_filter = ['JJ','NN','NNS','RB','VB', 'VBD','VBG','VBN','VBP','VBZ']\n",
    "filtered_list = [word for word,pos in pos_tagged if pos in pos_filter]\n",
    "\n",
    "camp_txt['filtered'] =''\n",
    "for index, row in camp_txt.iterrows():\n",
    "    row_tokens = camp_txt['tokens'][index]  \n",
    "    row_filtered = list(set(row_tokens).intersection(filtered_list))\n",
    "    camp_txt.set_value(index,'filtered', row_filtered)\n",
    "camp_txt[[\"page_id\",\"tokens\",\"filtered\"]].head(10)        "
   ]
  },
  {
   "cell_type": "code",
   "execution_count": null,
   "metadata": {
    "collapsed": false
   },
   "outputs": [
    {
     "data": {
      "text/html": [
       "<div>\n",
       "<table border=\"1\" class=\"dataframe\">\n",
       "  <thead>\n",
       "    <tr style=\"text-align: right;\">\n",
       "      <th></th>\n",
       "      <th>page_id</th>\n",
       "      <th>filtered</th>\n",
       "      <th>stemmed</th>\n",
       "    </tr>\n",
       "  </thead>\n",
       "  <tbody>\n",
       "    <tr>\n",
       "      <th>0</th>\n",
       "      <td>400</td>\n",
       "      <td>[cable, unnoticed, evening, prejudice, announcement, reverse, middle, owners, hailed, atlantic, ...</td>\n",
       "      <td>[discrimin, discrimin, discrimin, discrimin, blatantli, prejud, cabl, drop, cabl, owner, shake, ...</td>\n",
       "    </tr>\n",
       "    <tr>\n",
       "      <th>1</th>\n",
       "      <td>401</td>\n",
       "      <td>[cover, hollywood, drugged, allegations, occurs, programs, involve, cruelty, luckwas, stemming, ...</td>\n",
       "      <td>[anim, cruelti, anim, anim, anim, anim, anim, led, hors, season, shootingluck, investig, anim, e...</td>\n",
       "    </tr>\n",
       "    <tr>\n",
       "      <th>2</th>\n",
       "      <td>402</td>\n",
       "      <td>[hunger, detroit, protects, jobs, confront, pieces, compensation, walking, consider, hands, work...</td>\n",
       "      <td>[strike, stitch, lip, declar, hunger, strike, motor, compens, colombian, debilit, injuri, motor,...</td>\n",
       "    </tr>\n",
       "    <tr>\n",
       "      <th>3</th>\n",
       "      <td>403</td>\n",
       "      <td>[earlier, pattern, boston, safety, fuel, defects, air, delivered, severity, problemsbut, recall,...</td>\n",
       "      <td>[dreamlin, consum, safeti, consum, safeti, consum, safeti, consum, safeti, 787, dreamlin, catch,...</td>\n",
       "    </tr>\n",
       "    <tr>\n",
       "      <th>4</th>\n",
       "      <td>405</td>\n",
       "      <td>[vulnerable, leard, mention, emissions, negative, forest, hectares, environment, agricultural, o...</td>\n",
       "      <td>[anz, mine, bank, bank, bank, bank, anz, bank, promis, equat, principl, loan, project, neg, envi...</td>\n",
       "    </tr>\n",
       "    <tr>\n",
       "      <th>5</th>\n",
       "      <td>406</td>\n",
       "      <td>[ecosystem, earlier, pod, whales, rapidly, air, magnificent, fragile, sheet, increased, appears,...</td>\n",
       "      <td>[drown, whale, pod, whale, drown, frozen, sea, northern, whale, northa, killer, whale, drowningu...</td>\n",
       "    </tr>\n",
       "    <tr>\n",
       "      <th>6</th>\n",
       "      <td>407</td>\n",
       "      <td>[migrant, joined, firms, class, dying, safety, ashanti, havealways, permanent, filed, incorporat...</td>\n",
       "      <td>[anglogold, africa, mine, africa, mine, africa, mine, africa, mine, miner, die, easili, prevent,...</td>\n",
       "    </tr>\n",
       "    <tr>\n",
       "      <th>7</th>\n",
       "      <td>408</td>\n",
       "      <td>[horrendous, forces, guatemala, shooting, series, justices, mining, intimidating, shot, things, ...</td>\n",
       "      <td>[mine, mine, mine, mine, mine, disput, compens, absolut, horrend, shot, guatemala, ton, detail, ...</td>\n",
       "    </tr>\n",
       "    <tr>\n",
       "      <th>8</th>\n",
       "      <td>409</td>\n",
       "      <td>[cover, friendly, weapons, eventbut, driving, dealer, ourfacebook, forces, assault, simon, event...</td>\n",
       "      <td>[newtown, offlin, taker, gun, offlin, taker, gun, offlin, taker, gun, offlin, taker, gun, 110000...</td>\n",
       "    </tr>\n",
       "    <tr>\n",
       "      <th>9</th>\n",
       "      <td>410</td>\n",
       "      <td>[whitein, senior, traffic, unbelievably, hired, theypainted, racist, woman, critics, babes, fit,...</td>\n",
       "      <td>[racism, racism, racism, racism, racism, accessori, manufactur, hire, model, silent, clad, bikin...</td>\n",
       "    </tr>\n",
       "  </tbody>\n",
       "</table>\n",
       "</div>"
      ],
      "text/plain": [
       "   page_id  \\\n",
       "0      400   \n",
       "1      401   \n",
       "2      402   \n",
       "3      403   \n",
       "4      405   \n",
       "5      406   \n",
       "6      407   \n",
       "7      408   \n",
       "8      409   \n",
       "9      410   \n",
       "\n",
       "                                                                                              filtered  \\\n",
       "0  [cable, unnoticed, evening, prejudice, announcement, reverse, middle, owners, hailed, atlantic, ...   \n",
       "1  [cover, hollywood, drugged, allegations, occurs, programs, involve, cruelty, luckwas, stemming, ...   \n",
       "2  [hunger, detroit, protects, jobs, confront, pieces, compensation, walking, consider, hands, work...   \n",
       "3  [earlier, pattern, boston, safety, fuel, defects, air, delivered, severity, problemsbut, recall,...   \n",
       "4  [vulnerable, leard, mention, emissions, negative, forest, hectares, environment, agricultural, o...   \n",
       "5  [ecosystem, earlier, pod, whales, rapidly, air, magnificent, fragile, sheet, increased, appears,...   \n",
       "6  [migrant, joined, firms, class, dying, safety, ashanti, havealways, permanent, filed, incorporat...   \n",
       "7  [horrendous, forces, guatemala, shooting, series, justices, mining, intimidating, shot, things, ...   \n",
       "8  [cover, friendly, weapons, eventbut, driving, dealer, ourfacebook, forces, assault, simon, event...   \n",
       "9  [whitein, senior, traffic, unbelievably, hired, theypainted, racist, woman, critics, babes, fit,...   \n",
       "\n",
       "                                                                                               stemmed  \n",
       "0  [discrimin, discrimin, discrimin, discrimin, blatantli, prejud, cabl, drop, cabl, owner, shake, ...  \n",
       "1  [anim, cruelti, anim, anim, anim, anim, anim, led, hors, season, shootingluck, investig, anim, e...  \n",
       "2  [strike, stitch, lip, declar, hunger, strike, motor, compens, colombian, debilit, injuri, motor,...  \n",
       "3  [dreamlin, consum, safeti, consum, safeti, consum, safeti, consum, safeti, 787, dreamlin, catch,...  \n",
       "4  [anz, mine, bank, bank, bank, bank, anz, bank, promis, equat, principl, loan, project, neg, envi...  \n",
       "5  [drown, whale, pod, whale, drown, frozen, sea, northern, whale, northa, killer, whale, drowningu...  \n",
       "6  [anglogold, africa, mine, africa, mine, africa, mine, africa, mine, miner, die, easili, prevent,...  \n",
       "7  [mine, mine, mine, mine, mine, disput, compens, absolut, horrend, shot, guatemala, ton, detail, ...  \n",
       "8  [newtown, offlin, taker, gun, offlin, taker, gun, offlin, taker, gun, offlin, taker, gun, 110000...  \n",
       "9  [racism, racism, racism, racism, racism, accessori, manufactur, hire, model, silent, clad, bikin...  "
      ]
     },
     "execution_count": 27,
     "metadata": {},
     "output_type": "execute_result"
    }
   ],
   "source": [
    "# stem the filtered tokens\n",
    "from nltk.stem.snowball import SnowballStemmer\n",
    "from nltk.stem.lancaster import LancasterStemmer\n",
    "from nltk.stem.porter import PorterStemmer\n",
    "\n",
    "snowball = SnowballStemmer('english')\n",
    "lancaster = LancasterStemmer()\n",
    "porter = PorterStemmer()\n",
    "\n",
    "camp_txt['stemmed'] =''\n",
    "for index, row in camp_txt.iterrows():\n",
    "    to_stem = camp_txt['tokens'][index]\n",
    "    for stemmer in (snowball, lancaster, porter):\n",
    "        stemmed_text = [stemmer.stem(t) for t in to_stem]\n",
    "        camp_txt.set_value(index,'stemmed', stemmed_text)\n",
    "camp_txt[[\"page_id\",\"filtered\",\"stemmed\"]].head(10) "
   ]
  },
  {
   "cell_type": "code",
   "execution_count": 26,
   "metadata": {
    "collapsed": false
   },
   "outputs": [
    {
     "data": {
      "text/html": [
       "<div>\n",
       "<table border=\"1\" class=\"dataframe\">\n",
       "  <thead>\n",
       "    <tr style=\"text-align: right;\">\n",
       "      <th></th>\n",
       "      <th>page_id</th>\n",
       "      <th>stemmed</th>\n",
       "      <th>freq</th>\n",
       "    </tr>\n",
       "  </thead>\n",
       "  <tbody>\n",
       "    <tr>\n",
       "      <th>0</th>\n",
       "      <td>400</td>\n",
       "      <td>[discrimin, discrimin, discrimin, discrimin, blatantli, prejud, cabl, drop, cabl, owner, shake, ...</td>\n",
       "      <td>[(cabl, 6), (discrimin, 4), (drop, 2), (prejud, 2), (tv, 2), (suggest, 1), (announc, 1), (wire, ...</td>\n",
       "    </tr>\n",
       "    <tr>\n",
       "      <th>1</th>\n",
       "      <td>401</td>\n",
       "      <td>[anim, cruelti, anim, anim, anim, anim, anim, led, hors, season, shootingluck, investig, anim, e...</td>\n",
       "      <td>[(anim, 13), (hors, 8), (cruelti, 3), (investig, 3), (alleg, 3), (product, 3), (cover, 2), (meas...</td>\n",
       "    </tr>\n",
       "    <tr>\n",
       "      <th>2</th>\n",
       "      <td>402</td>\n",
       "      <td>[strike, stitch, lip, declar, hunger, strike, motor, compens, colombian, debilit, injuri, motor,...</td>\n",
       "      <td>[(injur, 6), (auto, 5), (strike, 5), (hunger, 4), (negoti, 4), (colombian, 4), (parra, 3), (inju...</td>\n",
       "    </tr>\n",
       "    <tr>\n",
       "      <th>3</th>\n",
       "      <td>403</td>\n",
       "      <td>[dreamlin, consum, safeti, consum, safeti, consum, safeti, consum, safeti, 787, dreamlin, catch,...</td>\n",
       "      <td>[(787, 6), (dreamlin, 5), (electr, 5), (safeti, 4), (consum, 4), (plane, 3), (earlier, 2), (clea...</td>\n",
       "    </tr>\n",
       "    <tr>\n",
       "      <th>4</th>\n",
       "      <td>405</td>\n",
       "      <td>[anz, mine, bank, bank, bank, bank, anz, bank, promis, equat, principl, loan, project, neg, envi...</td>\n",
       "      <td>[(anz, 7), (bank, 7), (loan, 6), (coal, 5), (promis, 3), (environment, 3), (environ, 3), (climat...</td>\n",
       "    </tr>\n",
       "    <tr>\n",
       "      <th>5</th>\n",
       "      <td>406</td>\n",
       "      <td>[drown, whale, pod, whale, drown, frozen, sea, northern, whale, northa, killer, whale, drowningu...</td>\n",
       "      <td>[(whale, 8), (ice, 4), (sea, 3), (pod, 2), (inukjuak, 2), (ship, 2), (drown, 2), (ecosystem, 1),...</td>\n",
       "    </tr>\n",
       "    <tr>\n",
       "      <th>6</th>\n",
       "      <td>407</td>\n",
       "      <td>[anglogold, africa, mine, africa, mine, africa, mine, africa, mine, miner, die, easili, prevent,...</td>\n",
       "      <td>[(mine, 8), (africa, 7), (gold, 7), (ashanti, 6), (anglogold, 5), (protect, 4), (prevent, 3), (m...</td>\n",
       "    </tr>\n",
       "    <tr>\n",
       "      <th>7</th>\n",
       "      <td>408</td>\n",
       "      <td>[mine, mine, mine, mine, mine, disput, compens, absolut, horrend, shot, guatemala, ton, detail, ...</td>\n",
       "      <td>[(mine, 6), (compens, 2), (shoot, 2), (cover, 1), (thing, 1), (coverag, 1), (horrend, 1), (event...</td>\n",
       "    </tr>\n",
       "    <tr>\n",
       "      <th>8</th>\n",
       "      <td>409</td>\n",
       "      <td>[newtown, offlin, taker, gun, offlin, taker, gun, offlin, taker, gun, offlin, taker, gun, 110000...</td>\n",
       "      <td>[(gun, 4), (taker, 4), (offlin, 4), (weapon, 4), (assault, 3), (survivor, 3), (join, 2), (sandi,...</td>\n",
       "    </tr>\n",
       "    <tr>\n",
       "      <th>9</th>\n",
       "      <td>410</td>\n",
       "      <td>[racism, racism, racism, racism, racism, accessori, manufactur, hire, model, silent, clad, bikin...</td>\n",
       "      <td>[(racism, 7), (model, 4), (babe, 3), (electron, 3), (accessori, 3), (clad, 3), (consum, 3), (pai...</td>\n",
       "    </tr>\n",
       "  </tbody>\n",
       "</table>\n",
       "</div>"
      ],
      "text/plain": [
       "   page_id  \\\n",
       "0      400   \n",
       "1      401   \n",
       "2      402   \n",
       "3      403   \n",
       "4      405   \n",
       "5      406   \n",
       "6      407   \n",
       "7      408   \n",
       "8      409   \n",
       "9      410   \n",
       "\n",
       "                                                                                               stemmed  \\\n",
       "0  [discrimin, discrimin, discrimin, discrimin, blatantli, prejud, cabl, drop, cabl, owner, shake, ...   \n",
       "1  [anim, cruelti, anim, anim, anim, anim, anim, led, hors, season, shootingluck, investig, anim, e...   \n",
       "2  [strike, stitch, lip, declar, hunger, strike, motor, compens, colombian, debilit, injuri, motor,...   \n",
       "3  [dreamlin, consum, safeti, consum, safeti, consum, safeti, consum, safeti, 787, dreamlin, catch,...   \n",
       "4  [anz, mine, bank, bank, bank, bank, anz, bank, promis, equat, principl, loan, project, neg, envi...   \n",
       "5  [drown, whale, pod, whale, drown, frozen, sea, northern, whale, northa, killer, whale, drowningu...   \n",
       "6  [anglogold, africa, mine, africa, mine, africa, mine, africa, mine, miner, die, easili, prevent,...   \n",
       "7  [mine, mine, mine, mine, mine, disput, compens, absolut, horrend, shot, guatemala, ton, detail, ...   \n",
       "8  [newtown, offlin, taker, gun, offlin, taker, gun, offlin, taker, gun, offlin, taker, gun, 110000...   \n",
       "9  [racism, racism, racism, racism, racism, accessori, manufactur, hire, model, silent, clad, bikin...   \n",
       "\n",
       "                                                                                                  freq  \n",
       "0  [(cabl, 6), (discrimin, 4), (drop, 2), (prejud, 2), (tv, 2), (suggest, 1), (announc, 1), (wire, ...  \n",
       "1  [(anim, 13), (hors, 8), (cruelti, 3), (investig, 3), (alleg, 3), (product, 3), (cover, 2), (meas...  \n",
       "2  [(injur, 6), (auto, 5), (strike, 5), (hunger, 4), (negoti, 4), (colombian, 4), (parra, 3), (inju...  \n",
       "3  [(787, 6), (dreamlin, 5), (electr, 5), (safeti, 4), (consum, 4), (plane, 3), (earlier, 2), (clea...  \n",
       "4  [(anz, 7), (bank, 7), (loan, 6), (coal, 5), (promis, 3), (environment, 3), (environ, 3), (climat...  \n",
       "5  [(whale, 8), (ice, 4), (sea, 3), (pod, 2), (inukjuak, 2), (ship, 2), (drown, 2), (ecosystem, 1),...  \n",
       "6  [(mine, 8), (africa, 7), (gold, 7), (ashanti, 6), (anglogold, 5), (protect, 4), (prevent, 3), (m...  \n",
       "7  [(mine, 6), (compens, 2), (shoot, 2), (cover, 1), (thing, 1), (coverag, 1), (horrend, 1), (event...  \n",
       "8  [(gun, 4), (taker, 4), (offlin, 4), (weapon, 4), (assault, 3), (survivor, 3), (join, 2), (sandi,...  \n",
       "9  [(racism, 7), (model, 4), (babe, 3), (electron, 3), (accessori, 3), (clad, 3), (consum, 3), (pai...  "
      ]
     },
     "execution_count": 26,
     "metadata": {},
     "output_type": "execute_result"
    }
   ],
   "source": [
    "#this adds a word freq distribution to each campaign, to help me judge how well a topic fits to the text\n",
    "camp_txt['freq'] =''\n",
    "for index, row in camp_txt.iterrows():\n",
    "    camp_freq = camp_txt['stemmed'][index]\n",
    "    dist = FreqDist(camp_freq)\n",
    "    camp_txt.set_value(index,'freq', dist.most_common())\n",
    "camp_txt[[\"page_id\",\"stemmed\",\"freq\"]].head(10)         "
   ]
  },
  {
   "cell_type": "code",
   "execution_count": 25,
   "metadata": {
    "collapsed": false
   },
   "outputs": [
    {
     "data": {
      "text/plain": [
       "[('environ', 2928),\n",
       " ('oil', 2891),\n",
       " ('food', 2509),\n",
       " ('trade', 2016),\n",
       " ('bee', 1847),\n",
       " ('gmo', 1587),\n",
       " ('tpp', 1554),\n",
       " ('water', 1419),\n",
       " ('privat', 1342),\n",
       " ('palm', 1316),\n",
       " ('tax', 1309),\n",
       " ('anim', 1291),\n",
       " ('protect', 1291),\n",
       " ('industri', 1190),\n",
       " ('climat', 1175),\n",
       " ('health', 1037),\n",
       " ('pesticid', 1009),\n",
       " ('sharehold', 972),\n",
       " ('consum', 940),\n",
       " ('bank', 909),\n",
       " ('econom', 867),\n",
       " ('wage', 809),\n",
       " ('meddl', 806),\n",
       " ('media', 783),\n",
       " ('women', 764),\n",
       " ('liberti', 717),\n",
       " ('frack', 714),\n",
       " ('pipelin', 699),\n",
       " ('ttip', 665),\n",
       " ('farmer', 657),\n",
       " ('suppli', 651),\n",
       " ('chemic', 637),\n",
       " ('environment', 619),\n",
       " ('safeti', 604),\n",
       " ('secret', 586),\n",
       " ('invest', 586),\n",
       " ('mine', 585),\n",
       " ('energi', 577),\n",
       " ('factori', 549),\n",
       " ('spill', 529),\n",
       " ('toxic', 518),\n",
       " ('clean', 515),\n",
       " ('lobbi', 508),\n",
       " ('organ', 496),\n",
       " ('custom', 494),\n",
       " ('govern', 486),\n",
       " ('neonic', 482),\n",
       " ('cancer', 476),\n",
       " ('children', 474),\n",
       " ('respons', 452)]"
      ]
     },
     "execution_count": 25,
     "metadata": {},
     "output_type": "execute_result"
    }
   ],
   "source": [
    "#Get most frequent words for all campaigns.  Use this to identify and add additional stop words.\n",
    "freq = camp_txt['stemmed'].sum()\n",
    "fdist1 = FreqDist(freq)\n",
    "fdist1.most_common(50)"
   ]
  },
  {
   "cell_type": "code",
   "execution_count": 11,
   "metadata": {
    "collapsed": false
   },
   "outputs": [],
   "source": [
    "#turns the tokens series into a corpora.Dictionary object, then \n",
    "#dictionary = corpora.Dictionary(camp_list)\n",
    "\n",
    "camp_corpus = camp_txt['stemmed'].tolist()\n",
    "dictionary = corpora.Dictionary(camp_corpus)\n",
    "corpus = [dictionary.doc2bow(text) for text in camp_corpus]"
   ]
  },
  {
   "cell_type": "code",
   "execution_count": 12,
   "metadata": {
    "collapsed": false
   },
   "outputs": [],
   "source": [
    "lda = models.ldamodel.LdaModel(corpus, num_topics=15, id2word = dictionary, passes=50)\n",
    "all_tops = lda.print_topics(num_topics=15,num_words=2)"
   ]
  },
  {
   "cell_type": "code",
   "execution_count": 13,
   "metadata": {
    "collapsed": false
   },
   "outputs": [
    {
     "data": {
      "text/plain": [
       "[(0, '0.043*privat + 0.028*health'),\n",
       " (1, '0.040*anim + 0.010*liberti'),\n",
       " (2, '0.040*food + 0.038*gmo'),\n",
       " (3, '0.025*lgbt + 0.013*gun'),\n",
       " (4, '0.019*women + 0.019*sharehold'),\n",
       " (5, '0.073*bank + 0.017*econom'),\n",
       " (6, '0.007*turnbul + 0.007*samsung'),\n",
       " (7, '0.042*trade + 0.041*ttip'),\n",
       " (8, '0.023*emiss + 0.022*suppli'),\n",
       " (9, '0.039*oil + 0.038*environ'),\n",
       " (10, '0.072*water + 0.027*environ'),\n",
       " (11, '0.012*miner + 0.010*aid'),\n",
       " (12, '0.024*wage + 0.017*factori'),\n",
       " (13, '0.043*bee + 0.036*food'),\n",
       " (14, '0.049*tax + 0.042*tpp')]"
      ]
     },
     "execution_count": 13,
     "metadata": {},
     "output_type": "execute_result"
    }
   ],
   "source": [
    "all_tops"
   ]
  },
  {
   "cell_type": "code",
   "execution_count": 14,
   "metadata": {
    "collapsed": true
   },
   "outputs": [],
   "source": [
    "#NOW ASSIGN THE TOPICS TO THE CAMPAIGNS"
   ]
  },
  {
   "cell_type": "code",
   "execution_count": 15,
   "metadata": {
    "collapsed": false
   },
   "outputs": [],
   "source": [
    "camp_txt['topics'] = \" \"\n",
    "for index, row in camp_txt.iterrows():\n",
    "    t = camp_txt.iloc[index]['stemmed']\n",
    "    doc_bow = dictionary.doc2bow(t)\n",
    "    camp_tops = lda.get_document_topics(doc_bow,0.35)\n",
    "    camp_txt.set_value(index,'topics', camp_tops)"
   ]
  },
  {
   "cell_type": "code",
   "execution_count": 24,
   "metadata": {
    "collapsed": false
   },
   "outputs": [
    {
     "data": {
      "text/html": [
       "<div>\n",
       "<table border=\"1\" class=\"dataframe\">\n",
       "  <thead>\n",
       "    <tr style=\"text-align: right;\">\n",
       "      <th></th>\n",
       "      <th>page_name</th>\n",
       "      <th>freq</th>\n",
       "      <th>topics</th>\n",
       "      <th>topic_name</th>\n",
       "    </tr>\n",
       "  </thead>\n",
       "  <tbody>\n",
       "    <tr>\n",
       "      <th>80</th>\n",
       "      <td>daily mail newspaper ad</td>\n",
       "      <td>[(luci, 10), (dacr, 5), (hate, 5), (meadow, 5), (stori, 5), (media, 5), (billboard, 4), (paper, ...</td>\n",
       "      <td>[(4, 0.3543024273)]</td>\n",
       "      <td>[(4, 0.019*women + 0.019*sharehold)]</td>\n",
       "    </tr>\n",
       "    <tr>\n",
       "      <th>81</th>\n",
       "      <td>suncor spill</td>\n",
       "      <td>[(spill, 15), (river, 6), (answer, 5), (athabasca, 5), (2011, 4), (question, 4), (environ, 4), (...</td>\n",
       "      <td>[(9, 0.613851754205)]</td>\n",
       "      <td>[(9, 0.039*oil + 0.038*environ)]</td>\n",
       "    </tr>\n",
       "    <tr>\n",
       "      <th>82</th>\n",
       "      <td>fcc lobbyist</td>\n",
       "      <td>[(fcc, 7), (industri, 6), (lobbyist, 4), (chair, 3), (regul, 3), (broadband, 2), (appoint, 2), (...</td>\n",
       "      <td>[(12, 0.528929183325)]</td>\n",
       "      <td>[(12, 0.024*wage + 0.017*factori)]</td>\n",
       "    </tr>\n",
       "    <tr>\n",
       "      <th>83</th>\n",
       "      <td>mondelez unions</td>\n",
       "      <td>[(union, 9), (recogn, 6), (egyptian, 4), (trident, 3), (order, 3), (refus, 3), (cadburi, 3), (or...</td>\n",
       "      <td>[(5, 0.531977660978)]</td>\n",
       "      <td>[(5, 0.073*bank + 0.017*econom)]</td>\n",
       "    </tr>\n",
       "    <tr>\n",
       "      <th>84</th>\n",
       "      <td>suncor spill post</td>\n",
       "      <td>[(spill, 15), (river, 6), (answer, 5), (athabasca, 5), (2011, 4), (question, 4), (environ, 4), (...</td>\n",
       "      <td>[(9, 0.61385337986)]</td>\n",
       "      <td>[(9, 0.039*oil + 0.038*environ)]</td>\n",
       "    </tr>\n",
       "    <tr>\n",
       "      <th>85</th>\n",
       "      <td>turbotax</td>\n",
       "      <td>[(tax, 19), (turbotax, 11), (file, 7), (lobbi, 4), (consum, 4), (protect, 4), (return, 3), (lobb...</td>\n",
       "      <td>[(3, 0.365748793258), (14, 0.425212082347)]</td>\n",
       "      <td>[(3, 0.025*lgbt + 0.013*gun), (14, 0.049*tax + 0.042*tpp)]</td>\n",
       "    </tr>\n",
       "    <tr>\n",
       "      <th>86</th>\n",
       "      <td>united climate lobbying</td>\n",
       "      <td>[(airlin, 14), (climat, 12), (lobbi, 9), (pollut, 5), (carbon, 4), (swap, 4), (regul, 4), (emiss...</td>\n",
       "      <td>[(9, 0.359494118896)]</td>\n",
       "      <td>[(9, 0.039*oil + 0.038*environ)]</td>\n",
       "    </tr>\n",
       "    <tr>\n",
       "      <th>87</th>\n",
       "      <td>exxon spill</td>\n",
       "      <td>[(spill, 12), (oil, 11), (exxonmobil, 10), (pipelin, 10), (crude, 9), (arkansa, 8), (toxic, 5), ...</td>\n",
       "      <td>[(9, 0.741440277073)]</td>\n",
       "      <td>[(9, 0.039*oil + 0.038*environ)]</td>\n",
       "    </tr>\n",
       "    <tr>\n",
       "      <th>88</th>\n",
       "      <td>bangladesh arrival</td>\n",
       "      <td>[(bangladesh, 9), (factori, 9), (tazreen, 6), (sumi, 5), (garment, 5), (bangladeshi, 4), (kalpon...</td>\n",
       "      <td>[(12, 0.761358762184)]</td>\n",
       "      <td>[(12, 0.024*wage + 0.017*factori)]</td>\n",
       "    </tr>\n",
       "    <tr>\n",
       "      <th>89</th>\n",
       "      <td>rapid response</td>\n",
       "      <td>[(factori, 9), (bangladesh, 8), (tazreen, 6), (sumi, 5), (garment, 5), (bangladeshi, 4), (kalpon...</td>\n",
       "      <td>[(12, 0.760602498973)]</td>\n",
       "      <td>[(12, 0.024*wage + 0.017*factori)]</td>\n",
       "    </tr>\n",
       "  </tbody>\n",
       "</table>\n",
       "</div>"
      ],
      "text/plain": [
       "                  page_name  \\\n",
       "80  daily mail newspaper ad   \n",
       "81             suncor spill   \n",
       "82             fcc lobbyist   \n",
       "83          mondelez unions   \n",
       "84        suncor spill post   \n",
       "85                 turbotax   \n",
       "86  united climate lobbying   \n",
       "87              exxon spill   \n",
       "88       bangladesh arrival   \n",
       "89           rapid response   \n",
       "\n",
       "                                                                                                   freq  \\\n",
       "80  [(luci, 10), (dacr, 5), (hate, 5), (meadow, 5), (stori, 5), (media, 5), (billboard, 4), (paper, ...   \n",
       "81  [(spill, 15), (river, 6), (answer, 5), (athabasca, 5), (2011, 4), (question, 4), (environ, 4), (...   \n",
       "82  [(fcc, 7), (industri, 6), (lobbyist, 4), (chair, 3), (regul, 3), (broadband, 2), (appoint, 2), (...   \n",
       "83  [(union, 9), (recogn, 6), (egyptian, 4), (trident, 3), (order, 3), (refus, 3), (cadburi, 3), (or...   \n",
       "84  [(spill, 15), (river, 6), (answer, 5), (athabasca, 5), (2011, 4), (question, 4), (environ, 4), (...   \n",
       "85  [(tax, 19), (turbotax, 11), (file, 7), (lobbi, 4), (consum, 4), (protect, 4), (return, 3), (lobb...   \n",
       "86  [(airlin, 14), (climat, 12), (lobbi, 9), (pollut, 5), (carbon, 4), (swap, 4), (regul, 4), (emiss...   \n",
       "87  [(spill, 12), (oil, 11), (exxonmobil, 10), (pipelin, 10), (crude, 9), (arkansa, 8), (toxic, 5), ...   \n",
       "88  [(bangladesh, 9), (factori, 9), (tazreen, 6), (sumi, 5), (garment, 5), (bangladeshi, 4), (kalpon...   \n",
       "89  [(factori, 9), (bangladesh, 8), (tazreen, 6), (sumi, 5), (garment, 5), (bangladeshi, 4), (kalpon...   \n",
       "\n",
       "                                         topics  \\\n",
       "80                          [(4, 0.3543024273)]   \n",
       "81                        [(9, 0.613851754205)]   \n",
       "82                       [(12, 0.528929183325)]   \n",
       "83                        [(5, 0.531977660978)]   \n",
       "84                         [(9, 0.61385337986)]   \n",
       "85  [(3, 0.365748793258), (14, 0.425212082347)]   \n",
       "86                        [(9, 0.359494118896)]   \n",
       "87                        [(9, 0.741440277073)]   \n",
       "88                       [(12, 0.761358762184)]   \n",
       "89                       [(12, 0.760602498973)]   \n",
       "\n",
       "                                                    topic_name  \n",
       "80                        [(4, 0.019*women + 0.019*sharehold)]  \n",
       "81                            [(9, 0.039*oil + 0.038*environ)]  \n",
       "82                          [(12, 0.024*wage + 0.017*factori)]  \n",
       "83                            [(5, 0.073*bank + 0.017*econom)]  \n",
       "84                            [(9, 0.039*oil + 0.038*environ)]  \n",
       "85  [(3, 0.025*lgbt + 0.013*gun), (14, 0.049*tax + 0.042*tpp)]  \n",
       "86                            [(9, 0.039*oil + 0.038*environ)]  \n",
       "87                            [(9, 0.039*oil + 0.038*environ)]  \n",
       "88                          [(12, 0.024*wage + 0.017*factori)]  \n",
       "89                          [(12, 0.024*wage + 0.017*factori)]  "
      ]
     },
     "execution_count": 24,
     "metadata": {},
     "output_type": "execute_result"
    }
   ],
   "source": [
    "camp_txt['topic_name'] = \"\"\n",
    "for index, row in camp_txt.iterrows():\n",
    "    topics_per_row = camp_txt['topics'][index]\n",
    "    camp_topic_num = [item[0] for item in topics_per_row]\n",
    "    temp_list = []\n",
    "    for num in camp_topic_num:\n",
    "        for i in all_tops:\n",
    "            if num == i[0]:\n",
    "                temp_list.append(i)\n",
    "                #print(index, num, temp_list)\n",
    "    camp_txt.set_value(index,'topic_name', temp_list) \n",
    "camp_txt[[\"page_name\",\"freq\",\"topics\",\"topic_name\"]][80:90]"
   ]
  },
  {
   "cell_type": "code",
   "execution_count": 22,
   "metadata": {
    "collapsed": false
   },
   "outputs": [
    {
     "data": {
      "text/plain": [
       "[(0, '0.043*privat + 0.028*health'),\n",
       " (1, '0.040*anim + 0.010*liberti'),\n",
       " (2, '0.040*food + 0.038*gmo'),\n",
       " (3, '0.025*lgbt + 0.013*gun'),\n",
       " (4, '0.019*women + 0.019*sharehold'),\n",
       " (5, '0.073*bank + 0.017*econom'),\n",
       " (6, '0.007*turnbul + 0.007*samsung'),\n",
       " (7, '0.042*trade + 0.041*ttip'),\n",
       " (8, '0.023*emiss + 0.022*suppli'),\n",
       " (9, '0.039*oil + 0.038*environ'),\n",
       " (10, '0.072*water + 0.027*environ'),\n",
       " (11, '0.012*miner + 0.010*aid'),\n",
       " (12, '0.024*wage + 0.017*factori'),\n",
       " (13, '0.043*bee + 0.036*food'),\n",
       " (14, '0.049*tax + 0.042*tpp')]"
      ]
     },
     "execution_count": 22,
     "metadata": {},
     "output_type": "execute_result"
    }
   ],
   "source": [
    "# exploratory data viz\n",
    "import pyLDAvis.gensim\n",
    "vis = pyLDAvis.gensim.prepare(lda, corpus, dictionary)\n",
    "all_tops"
   ]
  },
  {
   "cell_type": "code",
   "execution_count": 23,
   "metadata": {
    "collapsed": false
   },
   "outputs": [
    {
     "data": {
      "text/html": [
       "\n",
       "<link rel=\"stylesheet\" type=\"text/css\" href=\"https://cdn.rawgit.com/bmabey/pyLDAvis/files/ldavis.v1.0.0.css\">\n",
       "\n",
       "\n",
       "<div id=\"ldavis_el770749853844165634230935\"></div>\n",
       "<script type=\"text/javascript\">\n",
       "\n",
       "var ldavis_el770749853844165634230935_data = {\"lambda.step\": 0.01, \"mdsDat\": {\"x\": [-0.18843147010421749, 0.06159502493617313, 0.0029048307440124443, -0.1824342693812379, 0.05714375439545324, -0.010060723884497361, -0.136482237579472, 0.08367935846825063, 0.12062482838495647, 0.038902197902524645, -0.2088450911370935, 0.16197839197466765, -0.025013024362036083, 0.11129007850033579, 0.11314835114218111], \"Freq\": [14.404986077224583, 10.52081218527552, 9.628098026296794, 9.390409206104875, 9.27140274299642, 6.95591236568813, 5.941884515989069, 5.891648571475323, 5.812336390040558, 5.500169174561263, 4.823795386554267, 3.286970188359031, 3.0165795047455526, 3.011023484185656, 2.5439721805029567], \"y\": [0.0017861380769527986, -0.04592679461981391, -0.22256603315805337, 0.04865488951524199, 0.03761501529474393, -0.10069068776780223, 0.11630359910417253, 0.07239669183111076, 0.06058326809988729, -0.19064738251056498, -0.03559911989657444, 0.037628295203224714, 0.13778563658715237, -0.006380218548086798, 0.08905670278840894], \"cluster\": [1, 1, 1, 1, 1, 1, 1, 1, 1, 1, 1, 1, 1, 1, 1], \"topics\": [1, 2, 3, 4, 5, 6, 7, 8, 9, 10, 11, 12, 13, 14, 15]}, \"topic.order\": [14, 5, 15, 10, 13, 1, 11, 7, 2, 8, 3, 4, 9, 6, 12], \"plot.opts\": {\"ylab\": \"PC2\", \"xlab\": \"PC1\"}, \"tinfo\": {\"loglift\": [30.0, 29.0, 28.0, 27.0, 26.0, 25.0, 24.0, 23.0, 22.0, 21.0, 20.0, 19.0, 18.0, 17.0, 16.0, 15.0, 14.0, 13.0, 12.0, 11.0, 10.0, 9.0, 8.0, 7.0, 6.0, 5.0, 4.0, 3.0, 2.0, 1.0, 1.9368, 1.9362, 1.9344, 1.9339, 1.9333, 1.9327, 1.9321, 1.9317, 1.9307, 1.9302, 1.9298, 1.9291, 1.928, 1.9277, 1.9269, 1.9267, 1.925, 1.9246, 1.9215, 1.921, 1.9207, 1.9202, 1.9199, 1.9198, 1.9196, 1.9194, 1.9194, 1.9194, 1.9185, 1.9181, 1.9135, 1.8945, 1.8523, 1.8793, 1.8521, 1.8517, 1.5042, 1.7748, 1.7334, 1.4036, 1.6752, 1.2656, 1.5956, 1.6643, 1.3282, 0.8111, 1.397, 1.3324, 1.7394, 0.5829, 0.5309, 1.1255, 0.9399, 0.6483, 0.1453, 0.3287, 2.244, 2.2427, 2.2423, 2.2398, 2.2394, 2.2372, 2.2351, 2.2344, 2.2344, 2.233, 2.2324, 2.2315, 2.2313, 2.2279, 2.2268, 2.2268, 2.2268, 2.2267, 2.2256, 2.2239, 2.2223, 2.2223, 2.2197, 2.2186, 2.2186, 2.2184, 2.2182, 2.2165, 2.2157, 2.2151, 2.2084, 2.1937, 2.1678, 2.004, 2.1231, 1.974, 2.0658, 2.1434, 1.9049, 1.9264, 2.0384, 2.1611, 2.1127, 2.0419, 1.9527, 1.8767, 1.5942, 2.0341, 1.9419, 1.8542, 1.8874, 1.9522, 1.8176, 1.5961, 1.7908, 1.7709, 1.6091, 1.5726, 1.4405, 1.3377, 1.0543, 0.8915, -0.0697, 0.3484, 0.7951, 0.9224, 1.094, 2.3398, 2.337, 2.3356, 2.3351, 2.3313, 2.3311, 2.3264, 2.3262, 2.3239, 2.3232, 2.3198, 2.3193, 2.3169, 2.3157, 2.3143, 2.3128, 2.3121, 2.3101, 2.309, 2.3081, 2.3037, 2.3029, 2.302, 2.302, 2.302, 2.3006, 2.2999, 2.2996, 2.2981, 2.2966, 2.275, 2.2673, 2.271, 2.2276, 2.252, 2.1824, 2.1959, 2.1124, 1.7996, 2.2115, 2.1334, 1.7992, 1.7944, 1.8588, 2.1002, 1.8519, 1.9172, 2.1449, 1.9736, 1.9825, 1.4945, 1.8853, 1.5962, 1.6107, 1.6653, 1.5081, 1.6788, 1.3674, -0.3632, -1.1302, 1.3099, 2.3634, 2.3572, 2.356, 2.3525, 2.3523, 2.3511, 2.3505, 2.3492, 2.349, 2.3487, 2.348, 2.3473, 2.3469, 2.3454, 2.3446, 2.3443, 2.3427, 2.3427, 2.3423, 2.3409, 2.3397, 2.3383, 2.3367, 2.3355, 2.3351, 2.3349, 2.3348, 2.3323, 2.3322, 2.332, 2.3303, 2.3207, 2.3227, 2.3153, 2.2807, 2.2, 2.2174, 2.2873, 2.2297, 2.2322, 2.2643, 2.1191, 2.2331, 2.1917, 1.6472, 1.9993, 1.3579, 1.807, 1.4554, 1.3155, 0.7202, 1.6201, 1.2778, 1.0614, 1.2108, 1.4325, 0.8692, 2.3761, 2.3727, 2.3724, 2.3715, 2.3712, 2.3702, 2.3698, 2.3691, 2.367, 2.3669, 2.3666, 2.366, 2.3651, 2.3622, 2.3594, 2.3594, 2.3586, 2.358, 2.3575, 2.357, 2.3565, 2.3552, 2.355, 2.355, 2.3544, 2.3531, 2.353, 2.3522, 2.3508, 2.3507, 2.3454, 2.2993, 2.3202, 2.2498, 2.1781, 2.2153, 1.8257, 2.274, 2.0174, 1.6943, 1.7441, 1.6904, 1.7601, 1.6517, 1.6986, 1.5085, 1.5578, 1.5853, 1.7035, 1.619, -0.0404, 0.4541, 1.5661, 0.2867, -0.0513, 2.6561, 2.6491, 2.6458, 2.6455, 2.6446, 2.6442, 2.6431, 2.6397, 2.6377, 2.6364, 2.636, 2.6354, 2.6346, 2.6318, 2.6295, 2.6258, 2.6223, 2.6182, 2.6145, 2.6117, 2.6097, 2.6089, 2.6073, 2.6063, 2.6061, 2.6058, 2.6019, 2.6014, 2.5968, 2.5949, 2.5863, 2.591, 2.5624, 2.5932, 2.5399, 2.5769, 2.5103, 2.4654, 2.5417, 2.2416, 2.4292, 2.3915, 2.1546, 2.168, 2.3257, 2.4466, 2.3763, 2.3051, 2.2613, 2.2588, 2.429, 2.2812, 1.7843, 1.2714, 1.2897, 2.3827, 2.0335, 1.4823, 2.0113, 0.9582, 0.0944, 0.7887, 1.2289, 2.8194, 2.8149, 2.8098, 2.8035, 2.8002, 2.8, 2.7995, 2.7986, 2.7976, 2.7976, 2.7972, 2.7965, 2.7955, 2.7935, 2.793, 2.7886, 2.7885, 2.7879, 2.7878, 2.7838, 2.7838, 2.7789, 2.7783, 2.7762, 2.7762, 2.7762, 2.7726, 2.7689, 2.7686, 2.765, 2.7447, 2.7523, 2.7521, 2.7613, 2.7604, 2.7558, 2.6828, 2.6436, 2.7322, 2.6766, 2.4032, 2.503, 2.4636, 2.3964, 2.3415, 2.2534, 2.5401, 2.3223, 2.5582, 1.0367, 1.6812, 2.1216, 1.7205, 1.3812, 2.3746, 1.7073, 2.3012, 1.8681, 1.9272, 1.2201, 0.8819, 0.333, 0.6946, 0.9248, 0.9903, 1.1843, 2.8256, 2.8254, 2.8246, 2.8216, 2.8178, 2.8176, 2.8164, 2.8151, 2.8148, 2.8146, 2.8128, 2.8123, 2.812, 2.8115, 2.8105, 2.8091, 2.8082, 2.807, 2.8061, 2.8043, 2.7999, 2.7993, 2.7985, 2.797, 2.7956, 2.7955, 2.7951, 2.794, 2.7917, 2.789, 2.7731, 2.7301, 2.7222, 2.75, 2.7221, 2.7309, 2.7164, 2.6471, 2.5554, 2.2211, 2.4586, 2.3737, 2.1199, 1.9183, 2.2034, 2.3616, 1.9351, 1.0413, 2.3379, 1.9983, 1.5498, 0.7932, 1.2225, 0.4141, 1.8445, 0.137, 0.1906, 0.6778, 1.4567, -0.144, 2.8402, 2.8397, 2.838, 2.8367, 2.8352, 2.8325, 2.8313, 2.831, 2.8309, 2.83, 2.8285, 2.8272, 2.8269, 2.8258, 2.8252, 2.8238, 2.8215, 2.8213, 2.8211, 2.8175, 2.8127, 2.8124, 2.8119, 2.8113, 2.8097, 2.8085, 2.8059, 2.8046, 2.8041, 2.8022, 2.7991, 2.7824, 2.7561, 2.7075, 2.4706, 2.7026, 2.5571, 2.5722, 2.5674, 2.51, 2.528, 2.5348, 2.6931, 2.1396, 2.3207, 1.5215, 1.9857, 1.9778, 1.0563, 2.0884, 0.4632, 1.3442, 1.5908, 2.8954, 2.8899, 2.8898, 2.8831, 2.8773, 2.8761, 2.8704, 2.8688, 2.8618, 2.8606, 2.8596, 2.8582, 2.8573, 2.8573, 2.8549, 2.8549, 2.8513, 2.8493, 2.8464, 2.8463, 2.845, 2.8443, 2.8433, 2.843, 2.8411, 2.8389, 2.8387, 2.8365, 2.8354, 2.8348, 2.7895, 2.7471, 2.7287, 2.6753, 2.5882, 2.67, 2.7501, 2.7152, 2.7781, 2.7036, 2.5356, 2.0264, 2.7172, 2.459, 2.5248, 2.6589, 2.2383, 2.4838, 1.9842, 1.9324, 2.4188, 2.0806, 1.6187, 1.9326, 2.2484, 1.862, 0.9545, 1.3189, 0.9735, 0.9068, 1.2548, 1.7537, 0.3828, 3.0234, 3.0207, 3.0172, 3.0157, 3.0134, 3.013, 3.0123, 3.0111, 3.0109, 3.01, 3.009, 3.0088, 3.0088, 3.0088, 3.0088, 3.0088, 3.0088, 3.0088, 3.0088, 3.0075, 3.0075, 3.0075, 3.0075, 3.0062, 3.005, 3.0013, 3.0005, 3.0, 2.9996, 2.9952, 2.9323, 2.9796, 2.8288, 2.9094, 2.6248, 2.1382, 2.51, 2.8785, 1.5882, 2.7547, 2.451, 1.7378, 2.8053, 1.7339, 2.329, 0.5097, 1.1108, 2.2518, 2.0799, 1.5444, 1.783, 0.5172, 1.1134, 0.4002, 2.0055, 1.3296, 1.8827, 2.229, 1.3624, 0.1858, 3.4119, 3.4022, 3.3974, 3.3953, 3.3941, 3.3933, 3.392, 3.3904, 3.3875, 3.3835, 3.3827, 3.3822, 3.3804, 3.3792, 3.3765, 3.3762, 3.3688, 3.3654, 3.3644, 3.3612, 3.3592, 3.3562, 3.3562, 3.3448, 3.3448, 3.3448, 3.3416, 3.3411, 3.3385, 3.3355, 3.3307, 3.3011, 3.3195, 3.3085, 3.1889, 3.2642, 3.2264, 3.0816, 3.2258, 3.0666, 2.8626, 2.8704, 2.5989, 2.5628, 2.6797, 2.3308, 2.4483, 2.4266, 2.6982, 2.5551, 2.2398, 2.1424, 2.7195, 1.916, 1.6147, 0.5081, 1.2685, 3.4967, 3.4813, 3.4811, 3.4801, 3.4733, 3.4727, 3.4719, 3.4715, 3.4711, 3.4697, 3.4688, 3.4688, 3.4627, 3.4555, 3.4526, 3.4509, 3.4467, 3.4458, 3.4428, 3.442, 3.4364, 3.4317, 3.4198, 3.4189, 3.4151, 3.4151, 3.4151, 3.4131, 3.4086, 3.3963, 3.3843, 3.2231, 3.3326, 3.2745, 3.138, 3.3217, 3.1771, 3.0392, 3.112, 3.0204, 2.8015, 2.6893, 2.8774, 2.747, 2.1846, 2.8312, 2.9115, 2.3017, 2.5071, 2.4046, 2.2198, 0.672, 1.0351, 0.9155, 0.2794, 3.4972, 3.4868, 3.4861, 3.4821, 3.4812, 3.4785, 3.4754, 3.4734, 3.4734, 3.4709, 3.4687, 3.4605, 3.4571, 3.4554, 3.4546, 3.4537, 3.4509, 3.449, 3.4451, 3.4297, 3.4288, 3.418, 3.4123, 3.4114, 3.4103, 3.4103, 3.4103, 3.4103, 3.4103, 3.4103, 3.4087, 3.407, 3.3973, 3.3984, 3.4103, 3.3725, 3.3311, 3.338, 3.3188, 3.3368, 3.1891, 3.209, 2.6893, 2.942, 1.7471, 2.8001, 2.6669, 2.0169, 1.6173, 2.5338, 2.0101, 2.0491, 1.5024, 0.776, 2.0615, 0.7864, 0.7652, 1.8116, 1.4802, 1.8204, 3.6582, 3.6566, 3.6543, 3.654, 3.6528, 3.6497, 3.6497, 3.6469, 3.6432, 3.6431, 3.6423, 3.6409, 3.6349, 3.6346, 3.6309, 3.6281, 3.6259, 3.6255, 3.6196, 3.6196, 3.617, 3.6168, 3.6113, 3.6113, 3.6109, 3.6105, 3.6085, 3.6042, 3.6023, 3.5997, 3.5858, 3.5669, 3.5464, 3.4906, 3.5237, 3.4195, 3.4434, 3.2599, 3.4093, 3.3773, 3.2764, 2.8127, 2.3154, 2.9546, 3.008, 3.1105, 2.1764, 2.2225, 1.1046, 0.5323, 1.35, 2.0535, 0.7594, 0.4622, 1.7045, 0.1336], \"logprob\": [30.0, 29.0, 28.0, 27.0, 26.0, 25.0, 24.0, 23.0, 22.0, 21.0, 20.0, 19.0, 18.0, 17.0, 16.0, 15.0, 14.0, 13.0, 12.0, 11.0, 10.0, 9.0, 8.0, 7.0, 6.0, 5.0, 4.0, 3.0, 2.0, 1.0, -3.7146, -4.2877, -5.1639, -5.2983, -5.451, -5.5852, -5.6984, -5.7669, -5.9151, -3.1508, -6.0426, -6.1347, -6.2479, -6.2824, -6.3637, -6.3798, -6.5234, -6.5609, -6.7703, -6.8051, -6.8212, -6.8532, -6.8684, -6.8755, -6.8869, -6.8947, -6.8965, -6.8971, -6.945, -6.9688, -6.4812, -4.9863, -3.7382, -5.8458, -5.8913, -6.0036, -3.3145, -5.6317, -5.3878, -3.9946, -5.4972, -3.6272, -5.3836, -5.6753, -4.8517, -3.8233, -5.2758, -5.4431, -6.0769, -5.1039, -5.1086, -5.6017, -5.5094, -5.3569, -5.5187, -5.7548, -5.7445, -5.8994, -5.9485, -6.1789, -6.2165, -6.379, -6.5123, -6.554, -6.554, -6.6339, -6.6638, -6.7076, -6.7207, -6.8737, -6.9209, -6.9209, -6.9209, -6.924, -6.9673, -7.0316, -7.086, -6.648, -7.1715, -7.2058, -7.2058, -7.2125, -7.2179, -7.2348, -7.2925, -7.1898, -5.9972, -5.7141, -6.2763, -3.9608, -5.7533, -3.9689, -5.2541, -6.3434, -4.149, -4.6617, -5.7148, -6.5598, -6.3794, -6.0757, -5.8048, -5.6084, -4.7578, -6.1787, -5.9772, -5.8313, -5.989, -6.1233, -5.8908, -5.5882, -5.8887, -5.8896, -5.7532, -5.789, -5.7523, -5.6997, -5.785, -5.7484, -5.4622, -5.6108, -5.7827, -5.9082, -5.9592, -3.1587, -3.0215, -5.1574, -5.2565, -5.7939, -5.8186, -6.2258, -6.2398, -6.39, -6.4344, -6.6127, -6.6359, -6.7453, -6.7953, -6.8511, -6.9094, -6.9348, -7.0028, -7.04, -7.069, -7.1977, -7.2207, -7.2442, -7.2442, -7.2442, -7.28, -7.299, -7.305, -7.3418, -7.3774, -5.3729, -5.8058, -6.1226, -5.486, -6.4584, -5.4062, -5.779, -4.921, -3.4043, -6.4863, -5.9991, -4.0494, -4.6105, -4.9378, -6.0068, -5.0793, -5.4265, -6.2446, -5.7662, -5.9138, -4.9453, -5.7537, -5.3021, -5.452, -5.8741, -5.7786, -6.0005, -5.9375, -5.7557, -5.7646, -5.962, -4.2745, -5.6783, -5.8068, -5.6497, -6.1425, -6.2311, -3.8922, -4.5847, -6.3678, -6.3884, -6.4258, -6.4676, -6.488, -6.566, -6.6053, -6.6197, -6.6942, -6.695, -6.7107, -6.7707, -6.8184, -6.8729, -3.9063, -6.2895, -6.9868, -6.5346, -6.9958, -7.0742, -7.0796, -7.084, -5.1256, -4.2958, -5.4019, -5.3983, -4.5259, -3.5383, -4.4727, -6.0386, -5.5635, -5.6514, -6.0479, -4.8904, -5.7997, -5.813, -3.2455, -4.9509, -3.2765, -4.9761, -4.8202, -5.2075, -4.9194, -5.6928, -5.5166, -5.4111, -5.5954, -5.7391, -5.7085, -4.3369, -5.2744, -5.3223, -5.4635, -5.5078, -5.652, -5.693, -5.7717, -5.9874, -5.9887, -6.019, -6.0653, -6.1416, -6.3419, -6.5014, -6.5051, -6.5464, -6.5767, -6.6024, -6.6237, -6.6479, -5.0366, -6.7146, -6.7146, -6.7413, -3.745, -6.7988, -6.8299, -6.8842, -6.8896, -6.3532, -4.0714, -6.107, -4.8556, -5.0581, -5.6166, -4.4848, -6.4073, -5.8637, -5.2143, -5.3619, -5.3593, -5.5131, -5.342, -5.4605, -5.1883, -5.5035, -5.5728, -5.6788, -5.6691, -4.859, -5.1855, -5.6838, -5.5619, -5.7153, -5.4855, -6.0519, -6.2347, -4.0016, -6.2927, -6.3128, -6.3643, -6.5066, -6.5806, -6.6285, -6.6403, -6.6605, -6.6881, -5.9129, -6.8425, -6.9415, -7.0294, -4.0085, -7.1982, -7.2527, -7.2903, -7.3046, -7.3338, -7.3518, -6.6542, -7.3594, -7.4254, -7.4335, -7.5048, -7.5334, -4.9655, -6.1434, -4.6107, -6.7988, -4.3689, -6.1102, -5.6252, -5.0683, -6.3211, -3.1509, -5.2355, -5.1626, -3.5664, -3.7912, -5.1088, -5.8101, -5.8647, -5.7763, -5.6726, -5.6902, -6.1342, -5.8461, -5.0119, -4.3926, -4.7938, -6.0964, -5.8289, -5.4301, -5.8842, -5.4816, -5.5451, -5.789, -5.9059, -4.4095, -5.1968, -5.6845, -6.0764, -6.2325, -6.2407, -6.2605, -6.3012, -6.3416, -6.3416, -6.3577, -6.3814, -6.4215, -6.4911, -5.1528, -6.646, -6.6498, -6.6671, -6.67, -6.7773, -6.7795, -6.8988, -6.9123, -6.9591, -6.9591, -6.9591, -7.0344, -6.7115, -7.1127, -6.6328, -2.6333, -5.4941, -5.5718, -6.3231, -6.3502, -6.2734, -4.605, -4.7022, -6.2077, -5.6313, -4.8695, -5.4914, -5.5043, -5.2722, -5.1532, -4.9834, -5.8797, -5.5377, -5.982, -3.5977, -5.046, -5.5861, -5.1852, -4.9709, -5.921, -5.412, -5.8695, -5.6077, -5.7164, -5.3028, -5.1233, -5.0596, -5.2646, -5.3508, -5.4591, -5.6463, -4.8984, -4.9256, -5.0485, -5.4089, -5.7321, -5.2925, -5.8326, -5.9142, -5.9313, -5.9463, -6.0429, -6.0702, -6.0852, -6.1137, -6.1615, -6.2274, -6.2646, -6.3159, -6.3538, -6.421, -6.5742, -6.5932, -6.6186, -6.6638, -5.6928, -6.7045, -6.7179, -6.7468, -6.8072, -6.8731, -4.9437, -5.4265, -5.6363, -6.1645, -6.1258, -6.2664, -6.2474, -5.9873, -5.7509, -5.5942, -5.9253, -5.841, -5.5484, -5.3238, -5.6893, -5.8715, -5.557, -5.0698, -5.9276, -5.7632, -5.5562, -5.2903, -5.5047, -5.2499, -5.8043, -5.5025, -5.5304, -5.6327, -5.759, -5.8308, -4.6699, -4.7705, -5.0428, -5.2044, -5.3747, -5.6107, -5.7055, -5.7262, -5.7316, -5.7925, -5.8877, -5.9655, -5.9814, -6.0383, -6.0721, -6.1405, -6.2439, -6.244, -6.2609, -6.4015, -6.5608, -5.9036, -5.4289, -6.6063, -6.6531, -6.6848, -6.7558, -6.7888, -6.8023, -6.8486, -6.2774, -5.2589, -5.1891, -5.0643, -3.2162, -5.5825, -4.7462, -4.8749, -4.9256, -4.7483, -5.1036, -5.2407, -5.8373, -4.6644, -5.4126, -4.5896, -5.2616, -5.3989, -4.9085, -5.5289, -4.9293, -5.2957, -5.4413, -4.6145, -5.36, -3.1955, -5.8659, -6.1558, -6.2074, -6.4244, -6.475, -6.6783, -6.7111, -6.7078, -6.7692, -6.7927, -6.7927, -6.8474, -6.8474, -6.9258, -6.9668, -6.1108, -7.0251, -7.0483, -7.0615, -7.0795, -7.0855, -7.1195, -6.5986, -7.1596, -7.1962, -7.2133, -7.2237, -4.0658, -4.1423, -5.4296, -5.6079, -4.9774, -5.6475, -6.3641, -6.1917, -6.6329, -6.2297, -5.4928, -3.1775, -6.3524, -5.2576, -5.6263, -6.2135, -5.0543, -5.784, -4.9141, -4.907, -5.8655, -5.325, -4.7863, -5.5387, -5.8953, -5.7201, -5.0995, -5.6371, -5.499, -5.533, -5.8079, -5.9281, -5.7283, -3.4732, -5.2595, -5.5445, -5.6405, -5.7796, -5.797, -5.8341, -5.8959, -5.9054, -5.9521, -5.9955, -6.0061, -6.0061, -6.0061, -6.0061, -6.0061, -6.0061, -6.0061, -6.0061, -6.0632, -6.0632, -6.0632, -6.0632, -6.1147, -6.1619, -6.2947, -6.3192, -5.6061, -6.3493, -6.4806, -3.291, -5.6876, -3.6623, -5.7745, -4.7176, -3.2601, -4.8169, -5.8, -3.2304, -5.5694, -5.1395, -4.442, -5.8111, -4.8351, -5.4819, -4.1247, -4.8944, -5.5809, -5.5153, -5.2617, -5.4481, -5.1224, -5.336, -5.1903, -5.6347, -5.523, -5.6177, -5.6792, -5.5936, -5.5352, -3.6855, -5.0609, -5.3789, -5.4911, -5.5497, -5.5885, -5.6463, -5.7126, -5.8266, -4.494, -5.9884, -6.0016, -6.0581, -6.0921, -6.1657, -6.1726, -6.3515, -6.4237, -6.4442, -6.5069, -4.3943, -6.5978, -6.5978, -6.7793, -6.7793, -6.7793, -6.8256, -6.8261, -6.8682, -6.9086, -6.3429, -4.7935, -5.8066, -5.6668, -4.8323, -5.7323, -5.3678, -4.3064, -5.7383, -5.0931, -4.5232, -4.7194, -4.7777, -4.8423, -5.2504, -4.9619, -5.1082, -5.3348, -5.5455, -5.4625, -5.3232, -5.329, -5.5742, -5.3312, -5.5696, -5.603, -5.64, -3.8867, -5.3964, -5.409, -5.4553, -5.7409, -5.7624, -5.791, -5.8068, -5.8071, -5.8668, -5.8936, -5.8936, -6.0719, -6.2471, -6.3101, -6.3444, -4.7868, -6.4437, -6.498, -6.5132, -6.6063, -6.6796, -5.0758, -6.8553, -6.9016, -6.9016, -6.9016, -5.6529, -5.1386, -7.1094, -5.2169, -3.7599, -5.8321, -5.1851, -3.9143, -6.0751, -5.3814, -4.9089, -5.3004, -4.9858, -4.423, -4.1068, -5.0452, -4.775, -3.8206, -5.0833, -5.2915, -4.7515, -5.0466, -5.4694, -5.4204, -5.0663, -5.317, -5.3601, -5.3845, -4.1432, -5.1868, -5.2293, -5.4429, -5.4874, -5.6032, -5.7251, -5.7991, -5.7991, -5.879, -5.9487, -6.1661, -6.2468, -6.2836, -6.2995, -6.3193, -6.3761, -5.7374, -6.485, -4.991, -6.7411, -6.8832, -5.4793, -5.357, -6.9739, -6.9739, -6.9739, -6.9739, -6.9739, -6.9739, -2.6127, -6.5112, -5.558, -5.7976, -6.9739, -5.9794, -5.018, -5.6263, -5.8763, -6.0297, -5.1364, -5.4832, -4.4426, -5.4609, -4.1015, -5.6041, -5.5001, -5.0513, -4.8552, -5.4477, -5.2141, -5.3581, -5.1944, -5.1668, -5.478, -5.2972, -5.3459, -5.5081, -5.5093, -5.5459, -4.8225, -4.9357, -5.0847, -5.1025, -5.17, -5.3209, -5.3209, -5.4459, -5.5888, -5.5902, -5.62, -5.6687, -5.8506, -5.8579, -5.9557, -6.0245, -6.0732, -4.4461, -6.2063, -6.2063, -5.5524, -6.2609, -6.3599, -6.3599, -6.366, -6.3736, -6.4063, -6.475, -6.5042, -6.5415, -5.9421, -5.5157, -5.4815, -4.7056, -5.386, -4.9198, -5.2119, -4.6507, -5.4281, -5.6698, -5.8012, -5.3084, -4.8437, -5.5329, -5.593, -5.6702, -5.2059, -5.3316, -5.0065, -5.1072, -5.2899, -5.4532, -5.3241, -5.3864, -5.5112, -5.5304], \"Total\": [1931.0, 1434.0, 2331.0, 2510.0, 1463.0, 1707.0, 1272.0, 1406.0, 3018.0, 754.0, 1053.0, 1414.0, 1091.0, 707.0, 1160.0, 616.0, 1000.0, 698.0, 468.0, 604.0, 604.0, 896.0, 1018.0, 798.0, 802.0, 471.0, 615.0, 766.0, 815.0, 403.0, 1091.716076443163, 615.8600689005943, 256.8870074736579, 224.68889493838648, 192.9852967619952, 168.85819987392566, 150.87934327119595, 140.94285224439898, 121.64629946619607, 1931.300828251012, 107.18029073044862, 97.82123769211024, 87.44551468540311, 84.5080870703557, 77.97488781377687, 76.74011538024106, 66.58451281524013, 64.16823190006433, 52.20142755786767, 50.444499215641976, 49.647949680642746, 48.11114182336299, 47.39751560231962, 47.06783953869615, 46.546692729299494, 46.18937532758373, 46.10746071979982, 46.079818523784226, 43.966582620225516, 42.95092147744119, 70.26582912188205, 319.2835408638044, 1160.2344612172305, 137.24717946708176, 134.77106067000724, 120.48743309694348, 2510.6523819560757, 188.74586034300273, 251.0656290349611, 1406.2803209379936, 238.53521409651538, 2331.289486323302, 289.36676502961893, 201.79747692232672, 643.5923493330596, 3018.5404195620263, 393.11251010501564, 354.75774811673233, 125.28167180558192, 1053.744477558577, 1104.7844439590035, 372.3144825496242, 491.55398382734137, 766.4019908956698, 1078.0713552023321, 708.6811453483595, 105.46877816337629, 90.44657559592304, 86.15436354143344, 68.59612934129129, 66.09283034061238, 56.30524789302926, 49.379945262634514, 47.39575611482688, 47.395756119113656, 43.81910118007977, 42.55167711006443, 40.76275207708566, 40.24244621044666, 34.65005375781748, 33.08913622173164, 33.08913619431625, 33.089136199282706, 32.99210175165142, 31.626448112668825, 29.707745273053103, 28.179570677833013, 43.66757146153673, 25.93582626413058, 25.090477941466965, 25.090477682712116, 24.92795751356045, 24.79817983447241, 24.425466312002076, 23.074741115143112, 25.58586767426605, 84.88681127359509, 114.33114130992116, 66.87820202347858, 798.0016115399043, 117.98114232086294, 815.7339250251273, 205.82842757382326, 64.0779543652239, 729.9460184230553, 427.8571236637792, 133.44496168679157, 50.7041479170072, 63.74321400886064, 92.69325125985046, 132.8875019142005, 174.48241613174784, 541.7709968166118, 84.27981150317768, 113.0478919038487, 142.79080045824008, 117.98630481364069, 96.67857691306142, 139.5572676666188, 235.71525625215682, 143.6576646684752, 146.40980725589668, 197.2795952142638, 197.42115853336082, 233.73651428283867, 273.0062766738611, 332.8028494748537, 406.2603933620038, 1414.2845947514818, 802.5145238371097, 432.326025383338, 335.7312014844946, 268.74204037052317, 1272.0379633616978, 1463.3411053521302, 173.10893113220692, 156.8567346196384, 91.99339948831114, 89.76548381116713, 60.02204329949326, 59.19899177533703, 51.060697987890684, 48.88067086308579, 41.033284839233204, 40.11267062139134, 36.04352353846873, 34.3242487867808, 32.50741101207388, 30.714963956553227, 29.964194263258182, 28.05068404105108, 27.057788364396696, 26.307018330546363, 23.230767494329626, 22.72212306380715, 22.21348083681965, 22.213480854092285, 22.21348084729556, 21.462711278863832, 21.075130159390778, 20.95406783504183, 20.227636708222413, 19.549200912556064, 148.2616806102369, 96.91652702153588, 70.338555962114, 138.83296613972533, 51.23978333758471, 157.3253010233253, 106.90603407103103, 274.1180645178206, 1707.8433833820518, 51.88573816049685, 91.3278472917085, 896.3416384404273, 513.8844037441648, 347.3442618786907, 93.6901642935507, 303.5948130736953, 200.99015181431471, 70.62745304923743, 135.25472873121237, 115.65899738614684, 496.25354490990986, 149.6007511809059, 313.76799734719117, 266.1894671490204, 165.25476435204723, 212.77917084459796, 143.68567036334903, 208.93613605519425, 1414.2845947514818, 3018.5404195620263, 215.93707442828395, 407.0855369928949, 100.63115454979874, 88.59182316334866, 104.03271297053979, 63.570889707693134, 58.24995855409848, 604.381578935157, 302.75999274769987, 50.91305744398587, 49.891573116245155, 48.09118473728593, 46.15646860818411, 45.24224900628051, 41.91013294770738, 40.324269222929864, 39.75989469200475, 36.96508516544436, 36.93802205021629, 36.373641081814526, 34.30460346830877, 32.7458163737896, 31.052684146089103, 604.1782602713901, 55.80935900103906, 27.800764826081103, 43.702949582011094, 27.55917219498816, 25.543266579753418, 25.40893883905589, 25.30167405616504, 179.64641806855457, 415.90810333501616, 137.33225324987046, 138.83968181331747, 343.87245339379234, 1000.7989583765384, 386.39085224571613, 75.2614399799501, 128.21585402832926, 117.13156739104419, 76.29947542300383, 280.75508866392505, 100.90572943801291, 103.77328156819192, 2331.289486323302, 297.9008607858663, 3018.5404195620263, 352.0508122074646, 584.8437459751148, 456.67328074436483, 1104.7844439590035, 207.26988937886944, 348.12580767642396, 480.32450634115526, 344.0380921803462, 238.7260268626385, 432.326025383338, 377.62817256343607, 148.3934481709728, 141.48325508289943, 122.96549393555107, 117.67197509904057, 101.9771597735692, 97.91834463134566, 90.56349052258427, 73.15621563635393, 73.06159851454801, 70.90564433352428, 67.73498617367089, 62.820454622380964, 51.56474735910724, 44.082180980424575, 43.923705960768686, 42.180485278145994, 40.94345109009697, 39.928743484751855, 39.10444592680741, 38.185526300686426, 191.54482394232272, 35.775313588063625, 35.775313583739454, 34.856393798929176, 698.441767814239, 32.953532535384134, 31.970757112944916, 30.32213700364982, 30.163679822650206, 51.84517160851185, 531.7623727462811, 68.00942258460015, 255.06318748725334, 223.80626245665647, 123.3545818824235, 564.7418479146447, 52.752882449387315, 117.42702838413867, 310.54506519402423, 254.91191168769288, 269.6738564175098, 215.6586956336568, 285.21916757379046, 241.72919548773626, 383.78534977971213, 266.5664402057583, 241.9738936983722, 193.37518063187798, 212.4758586686287, 2510.6523819560757, 1104.7844439590035, 220.73994596801418, 896.3416384404273, 1078.0713552023321, 90.4922116788071, 51.72474274091848, 43.22558881152979, 403.34563897846647, 40.83942186882078, 40.04377546974082, 38.07612441420855, 33.13591652232587, 30.83329689884175, 29.430953192153964, 29.09598463979665, 28.530677274827354, 27.77719065561423, 60.47444018978059, 23.92543793430665, 21.748527846776234, 19.990135703154724, 411.67711111279897, 17.017579036266007, 16.15946288665403, 15.594155420101218, 15.384896441467134, 14.966379889854657, 14.714959332824051, 29.56581904316963, 14.610331752064104, 13.73113374570362, 13.62650450734978, 12.747308759550496, 12.412339697559613, 163.21757569457858, 50.02340312736078, 238.36562554067143, 25.916799960378036, 310.46652515145826, 52.45145281499159, 91.04356242068577, 166.20388030553423, 43.99863769823636, 1414.2845947514818, 145.7939558585855, 162.84211581005889, 1018.3369683688919, 802.5145238371097, 183.53283502887035, 80.65557355795092, 81.92941413139238, 96.11349412137469, 111.39038615926259, 109.71828967101388, 59.367146239633406, 91.8082356369331, 347.5078960570967, 1078.0713552023321, 708.6811453483595, 64.57792113362922, 119.64486970011085, 309.3539214086473, 115.74397777686633, 496.25354490990986, 1104.7844439590035, 432.326025383338, 247.67042028728363, 225.4329424661637, 103.04880545143533, 63.60126177556495, 43.25317737254481, 37.12189327234543, 36.82626278127718, 36.1223253575974, 34.714450160185116, 33.37434819514223, 33.37434819514223, 32.852529739954825, 32.10285512494375, 30.876263109795143, 28.85509300291278, 110.07567720748574, 24.83562115212513, 24.744978974939038, 24.335837544937213, 24.268064225347626, 21.883463101298297, 21.837752020859437, 19.476047517853594, 19.22615556165584, 18.385837385320844, 18.385837387261994, 18.3858373716994, 17.114343021589082, 23.725690323298625, 15.887752271345981, 25.768855606612966, 1434.9144777238735, 81.49199451256267, 75.41149014041864, 35.25198936192673, 34.338848465737186, 37.25480400609854, 212.53860575183933, 200.54562452317492, 40.730802534520016, 76.63039474187843, 215.76128592625278, 104.84804519685224, 107.66645997553374, 145.21630853367833, 172.81738528495896, 223.6726609862317, 68.51661742541789, 119.92104459811196, 60.74344094408098, 3018.5404195620263, 372.3144825496242, 139.65988720032735, 311.41963192357866, 541.7709968166118, 77.57689647799057, 251.54820636044528, 87.89657778886757, 176.09968548542622, 148.8936809445394, 456.67328074436483, 766.4019908956698, 1414.2845947514818, 802.5145238371097, 584.8437459751148, 491.55398382734137, 335.7312014844946, 137.39945920674484, 133.73782387393393, 118.36684965219504, 82.79420940973026, 60.159320768803624, 93.39313502071933, 54.48548340937293, 50.28190523746832, 49.44207239506298, 48.720800091287714, 44.30796941823606, 43.13780858829601, 42.507382173659174, 41.33611746853269, 39.44483810387282, 36.9835937783201, 35.662280176915715, 33.92103942647454, 32.69042769294777, 30.618869160275796, 26.386163562098666, 25.905785688587052, 25.275357506202358, 24.194786797322966, 63.97676574011457, 23.264262445056072, 22.964164591901444, 22.333738196041786, 21.07288546743045, 19.781801842023285, 138.39142176684652, 89.14633208413264, 72.85290094001091, 41.78072081080516, 44.65718876578362, 38.45701477045874, 39.76872837098532, 55.28394531537401, 76.75335291385844, 125.41465038037452, 71.02513469286075, 84.11654616190336, 145.27480103149583, 222.45992755709386, 116.07505652111416, 82.58069217461, 173.2557478288438, 689.3853918726699, 79.95157315619664, 132.35289639584084, 254.91191168769288, 708.6811453483595, 372.3144825496242, 1078.0713552023321, 148.13529023795888, 1104.7844439590035, 1018.3369683688919, 564.7418479146447, 228.43397434925947, 1053.744477558577, 170.16849275044908, 153.97030926443844, 117.4604419331908, 100.05743289285486, 84.52113417916173, 66.93653729705233, 60.95366772296252, 59.725859422644895, 59.40682644763223, 55.94913220421778, 50.944596681223075, 47.191613108248966, 46.4635895026741, 43.93841417556473, 42.505274481635155, 39.752696185615264, 35.930990120691085, 35.93062485287791, 35.339575320579655, 30.81275324986883, 26.39963249859571, 50.953707408868134, 81.94992855647979, 25.262617950105966, 24.147674983375644, 23.419651093348534, 21.87281012194236, 21.190601464023647, 20.91738354815732, 20.007772039358304, 35.53430752314864, 100.04870374849065, 110.13388875325246, 130.99026545099312, 1053.744477558577, 78.40031594794229, 209.2856770757045, 181.22990486769174, 173.10569381807224, 218.90358439049652, 150.70189223278845, 130.50630328114698, 61.34469922703843, 344.7862648136123, 136.12859484924502, 689.3853918726699, 221.3387338554836, 194.4634796017939, 798.0016115399043, 152.87927735304498, 1414.2845947514818, 406.2603933620038, 274.4758179364697, 170.19831389803053, 81.20326005241077, 707.3973157514168, 49.29842921067083, 37.1062187600868, 35.280630267778534, 28.56518555212041, 27.195993946400854, 22.349908990342044, 21.654370530321167, 21.747541504170087, 20.48054967359111, 20.024152357283924, 20.02415247611899, 19.002730114475117, 19.002730193574187, 17.633538494787608, 16.95988550848347, 40.03560201228757, 16.047090988513823, 15.699321818375392, 15.503951254550842, 15.242924632213784, 15.156182302182293, 14.677899567248652, 24.763179316108825, 14.134759727430747, 13.656477211379281, 13.439221289989147, 13.30870810230696, 327.5321457566702, 316.5572301025518, 89.00249898199677, 78.5463519136093, 160.99157493214662, 75.90190864492148, 34.219755638515416, 42.09932453690476, 25.430787785662478, 41.004245948323195, 101.3476733613261, 1707.8433833820518, 35.77954017317255, 138.41905526861433, 89.64083931404981, 43.57660783844322, 211.51587877735298, 79.76958864103071, 313.76799734719117, 332.8028494748537, 78.46353518862446, 188.91234460177046, 513.8844037441648, 176.90062026263917, 90.30842767474397, 158.35056386578046, 729.9460184230553, 296.1704389736937, 480.32450634115526, 496.25354490990986, 266.1894671490204, 143.32620107463856, 689.3853918726699, 468.87811453890555, 78.78052605034058, 59.459278650230374, 54.09330821426205, 47.18099640842263, 46.37968299201839, 44.72149840010428, 42.094410483314455, 41.70313477491342, 39.83988372780462, 38.181652078267014, 37.79037623953326, 37.79037623941146, 37.790376239411465, 37.79037623941145, 37.79037623941147, 37.79037623941145, 37.79037623941146, 37.79037623941145, 35.74086875134743, 35.74086875134743, 35.74086875134743, 35.74086875134743, 33.98950983267013, 32.46193079849904, 28.530409770800347, 27.85974929945401, 56.869646587827916, 27.058435379259695, 23.835099849104147, 616.2572671346171, 53.497833494196314, 471.4460483471715, 52.61374583178603, 201.25556483537045, 1406.2803209379936, 204.38891305257906, 52.89996314708288, 2510.6523819560757, 75.402395392468, 157.03880233812168, 643.5923493330596, 56.28758344866819, 436.13445855778986, 125.96920783902891, 3018.5404195620263, 766.4019908956698, 123.25342993969761, 156.30090182152023, 344.0380921803462, 224.94115919110516, 1104.7844439590035, 491.55398382734137, 1160.2344612172305, 149.41259772685902, 328.45682861000284, 171.84873121234466, 114.28650039018996, 296.1704389736937, 1018.3369683688919, 257.11088298646484, 65.61426124860189, 47.97425761657761, 42.97000275333163, 40.57335784503776, 39.059757193374864, 36.914855674589354, 34.602120499726674, 30.964797806566878, 117.84936725826806, 26.46558928264084, 26.12914922183674, 24.741840162733563, 23.942675811278473, 22.302820689520296, 22.155386580706633, 18.665498015328986, 17.424827219360253, 17.088387226158744, 16.100239740112443, 133.40329750396404, 14.775652086523426, 14.7756520904138, 12.462916979702744, 12.46291698658368, 12.46291706880721, 11.937471048230025, 11.937549817141038, 11.474769433473547, 11.054412646481733, 19.55701406043176, 94.84501201267109, 33.81152026131288, 39.31327800644027, 102.07639195981652, 38.49136457047105, 57.55293734251331, 192.26482403880317, 39.75992116764035, 88.8717237435584, 192.7085311168154, 157.12549645391306, 194.4634796017939, 189.00289005011464, 111.80942832888584, 211.51587877735298, 162.4452080623593, 132.35289639584084, 81.71673737276008, 102.45164001838148, 161.4055946572053, 176.90062026263917, 77.72607234164369, 221.3387338554836, 235.71525625215682, 689.3853918726699, 310.54506519402423, 193.17491429357426, 43.34505018101903, 42.81225827674421, 40.91489220577235, 30.958891662392023, 30.319541355214348, 29.48775912527747, 29.040057159676124, 29.040674698809934, 27.39874469077793, 26.694989199649832, 26.694989250725676, 22.474023655413028, 18.998966666906085, 17.890446167559855, 17.314717289323156, 82.54645501142333, 15.758522230892883, 14.969649427344981, 14.756533008819853, 13.519985415014311, 12.624581330129034, 63.51478603635476, 10.727215360489312, 10.279513363256433, 10.279513373065301, 10.279513398971403, 35.90778364529713, 60.32257902872637, 8.51020307964244, 57.15190497598324, 288.2839517010807, 32.530444973075056, 65.84581802851517, 268.9579635840646, 25.794585087011747, 59.64542084201854, 109.82422432150005, 69.02842440936152, 103.61667336315246, 226.41266733187456, 347.5078960570967, 112.65598491925611, 168.15529023085335, 766.4019908956698, 113.56955901922466, 85.10704894440369, 268.74204037052317, 162.90906464811107, 118.26553021908761, 149.41259772685902, 1000.7989583765384, 541.7709968166118, 584.8437459751148, 1078.0713552023321, 149.39111801984058, 53.16141138694554, 50.98382098281631, 41.343054176642326, 39.58119206731841, 35.34489492992069, 31.385507305703896, 29.207916867556776, 29.207916900151904, 27.030326420117902, 25.268464433663755, 20.497555184641037, 18.973460346894264, 18.319964820480926, 18.04305511741486, 17.706339744004325, 16.775934670385276, 31.831798194358893, 15.13295617936681, 68.4593625813437, 11.906077152126285, 10.441060626020027, 42.74504572484598, 48.35172820677959, 9.609603108919089, 9.609603108919089, 9.609603108919089, 9.609603108919089, 9.609603108919089, 9.609603108919089, 754.1016578788252, 15.312374259960755, 40.108333001387166, 31.52848611184279, 9.609603108919089, 26.978795986457595, 73.53548498572128, 39.75163594685724, 31.55714796472509, 26.589151118951836, 75.29092351661487, 52.18073117147057, 248.39856062700542, 69.68738553958407, 896.3416384404273, 69.59909225486433, 88.22473215591984, 264.7499536689468, 480.32450634115526, 106.20662735040727, 226.49443564607947, 188.6084457188319, 383.78534977971213, 815.7339250251273, 165.25476435204723, 708.6811453483595, 689.3853918726699, 205.87457635430835, 286.415062477997, 196.4906385258007, 64.47403913704943, 57.66245365866502, 49.798368672745426, 48.93142585552879, 45.793954520850654, 39.498225754847056, 39.49822578547865, 34.95716880504706, 30.416111819347275, 30.375298558907748, 29.508355711647834, 28.14558331681199, 23.604526336207595, 23.439755653859145, 21.333997852035182, 19.971984241662707, 19.063469370287077, 97.06013365733928, 16.792940872405932, 16.792940949111244, 32.38054808662768, 15.946784287145215, 14.522412383956732, 14.522412390077731, 14.440027076921599, 14.336855757156325, 13.90338438788987, 13.036441455601494, 12.685355952744642, 12.251883895721587, 22.623482661970364, 35.31784779800813, 37.30219765676, 85.68144563058954, 41.97974703807668, 74.26723562573169, 54.14158122788997, 114.01416810732752, 45.12685513270245, 36.59267814726694, 35.48996993600741, 92.3773762645732, 241.72919548773626, 64.03680368414142, 57.16610144014527, 47.757937769127466, 193.37518063187798, 162.84211581005889, 689.3853918726699, 1104.7844439590035, 406.2603933620038, 170.75712315427515, 708.6811453483595, 896.3416384404273, 228.43397434925947, 1078.0713552023321], \"Freq\": [1931.0, 1434.0, 2331.0, 2510.0, 1463.0, 1707.0, 1272.0, 1406.0, 3018.0, 754.0, 1053.0, 1414.0, 1091.0, 707.0, 1160.0, 616.0, 1000.0, 698.0, 468.0, 604.0, 604.0, 896.0, 1018.0, 798.0, 802.0, 471.0, 615.0, 766.0, 815.0, 403.0, 1090.8849592703652, 615.028951711937, 256.0558900053177, 223.85777781126714, 192.15417950784172, 168.02708271531148, 150.0482258462844, 140.1117347049183, 120.81518221624526, 1916.981030241007, 106.3491736369365, 96.99011949954402, 86.61439736838031, 83.67697001939658, 77.14376755791703, 75.90899832883437, 65.7533956659684, 63.33711481081557, 51.370310362923384, 49.613382139556975, 48.816832636637756, 47.28002444945703, 46.5663973939491, 46.23672061063225, 45.71557526477245, 45.358258258727034, 45.276343414685044, 45.248696323059804, 43.13546530711307, 42.11980407486311, 68.59170849250961, 305.829884792799, 1065.3830892898093, 129.48100804678978, 123.72397717413378, 110.57401239395429, 1627.6066292625683, 160.3936859154277, 204.70432972757368, 824.4201784260997, 183.4742171478624, 1190.5061031823623, 205.55911047181144, 153.54587489028944, 349.9065361238043, 978.4765171118614, 228.95967335478028, 193.69050498107165, 102.76089111109962, 271.8916944416476, 270.62624236561714, 165.27241665952536, 181.2586615149461, 211.11816681718676, 179.57993003850396, 141.8085936153433, 104.65023439097763, 89.62800240137528, 85.33582049504786, 67.77758426002924, 65.27428698978787, 55.486705089865595, 48.56140250202795, 46.57721337432234, 46.57721336813474, 43.00055855932964, 41.73313434316617, 39.94420929087141, 39.42390361576734, 33.83151040019779, 32.27059356248135, 32.27059348998057, 32.27059341114128, 32.17355915771369, 30.807905489885364, 28.88920236120306, 27.36102770852029, 42.39762654598583, 25.117283604488755, 24.271933515793737, 24.271931539533785, 24.109414608382842, 23.97963690791941, 23.576853163798603, 22.256197490412926, 24.662434224865102, 81.2829158330189, 107.87764003749469, 61.48611632119338, 622.8504671149941, 103.73103348697943, 617.842077786627, 170.8937417399889, 57.494273180672145, 515.9987507003952, 309.0124058833592, 107.79997895314537, 46.30617775528841, 55.46381145527453, 75.14016961291897, 98.52837755162783, 119.90927708431414, 280.6927276981145, 67.78906775214196, 82.9245080241638, 95.94528724924757, 81.95294311791321, 71.64801774564445, 90.40381468769085, 122.34996258149121, 90.59437537195488, 90.51514586625265, 103.74030785460067, 100.09829641629895, 103.83969776425808, 109.43790114692565, 100.49033126288082, 104.24319462831663, 138.77948818777145, 119.62086173802774, 100.72773400426432, 88.84493647211221, 84.43127167647732, 1271.198821028569, 1458.2164347107287, 172.26980276428253, 156.01760613613018, 91.15426201244333, 88.92635528418327, 59.182913329599984, 58.359862761226786, 50.22156937908287, 48.041541667624756, 40.19415639871758, 39.273542376896685, 35.20439379872189, 33.48512054710846, 31.668280758286432, 29.875835616933806, 29.12506561529595, 27.211555821765913, 26.218655657232397, 25.467889887041434, 22.39163880235976, 21.882957049049452, 21.37435259748465, 21.374352608482205, 21.37435259782965, 20.6235817213487, 20.23599504463343, 20.11493929362231, 19.388124937664525, 18.710072678257383, 138.86434046347296, 90.07298720814904, 65.61420514216877, 124.01670461927095, 46.90012609024725, 134.31952167547038, 92.5189890934821, 218.20669557294445, 994.3941586688125, 45.608800319313644, 74.2430811245636, 521.6587208965888, 297.64952103263676, 214.56824296487105, 73.67469507684694, 186.2521719113891, 131.6210911439569, 58.07841226991337, 93.71496627712328, 80.85622386923559, 212.95813606763073, 94.89380488892175, 149.06087142047556, 128.30154309557167, 84.12696924730959, 92.55721206840909, 74.14114512272958, 78.95789166822524, 94.69917828190277, 93.85998601931783, 77.0483264298372, 406.2529946501761, 99.79861247135472, 87.75928132999432, 102.6932995542008, 62.738347943925476, 57.41722992158506, 595.3906157546555, 297.88500335598707, 50.08051566929505, 49.0590313882807, 47.25864268670847, 45.32392666108387, 44.40970723760831, 41.07754440152506, 39.49172751448022, 38.92735298354361, 36.13254323293993, 36.10547927605463, 35.541063960923324, 33.472061672388705, 31.913191363056335, 30.220142391101724, 587.0602679640065, 54.15994194092895, 26.96822300176134, 42.38642333493789, 26.72662994139144, 24.710723844290307, 24.57639709349152, 24.469131707305547, 173.44180593224758, 397.6937794950558, 131.57494102331475, 132.0463471579875, 315.9279297307497, 848.1798586089191, 333.2135709495315, 69.6020086869755, 111.9397802152235, 102.51977009851686, 68.95985432785346, 219.4362974868504, 88.39223020266256, 87.22207150950183, 1136.7038796572485, 206.55028907971948, 1102.1143282876062, 201.40287264574584, 235.38952645410885, 159.8090328487877, 213.16853897526872, 98.35663205158777, 117.31567611850257, 130.36968044683263, 108.42558938434529, 93.90670862150813, 96.82433117428614, 376.80762066392555, 147.57289627079547, 140.66270293745208, 122.14494217616276, 116.85142316810177, 101.15660715317466, 97.09779192933287, 89.74293855811042, 72.3356608204185, 72.24104673383225, 70.08509255097574, 66.91443384728869, 61.99868479629778, 50.74419556162935, 43.261628814562236, 43.10315325798992, 41.35993287876107, 40.1228993396782, 39.10818410876196, 38.283893563301945, 37.36497427625994, 187.1869736141435, 34.95476184081647, 34.95476183343179, 34.03584199538028, 681.1083741398609, 32.132980102027076, 31.150205367101737, 29.50155193696713, 29.343127060206964, 50.171504869313516, 491.4215601410499, 64.17723007558872, 224.32519585306494, 183.20920361665574, 104.80384588762976, 325.0096820705621, 47.529694695642526, 81.85671688367428, 156.71523713268556, 135.20151676257393, 135.55512491826235, 116.23346371425951, 137.9241464917586, 122.50801644379632, 160.83783850707522, 117.35799934661298, 109.49999839217479, 98.4862850486857, 99.44725265025038, 223.55112631524477, 161.2926238030477, 97.98723497376925, 110.69060246187142, 94.95607559572194, 89.64144315762773, 50.87745396924391, 42.3782799656701, 395.33550570166005, 39.99213294684652, 39.196487228444106, 37.22883399011587, 32.28862829080796, 29.986008562912648, 28.583663587623498, 28.2486961749703, 27.683386484454545, 26.929901751224023, 58.46830049843105, 23.07814968941149, 20.901238508826417, 19.14284663900807, 392.6109320793425, 16.1702903237917, 15.312173521265384, 14.746867009732808, 14.537606995254016, 14.119078014856964, 13.86767095707324, 27.857686245246946, 13.762935207127683, 12.883844548612256, 12.779211711633305, 11.900018304426599, 11.565051457178166, 150.77853094399745, 46.42875264591167, 214.99050904782703, 24.107337856839717, 273.80369690648985, 47.99851008910658, 77.95327725202829, 136.05003662791475, 38.87166314402936, 925.5864546687667, 115.10736929066967, 123.80589282224983, 610.920818129786, 487.9204868926447, 130.6497390541905, 64.79267511450024, 61.35126014971389, 67.02276520909825, 74.34713139063622, 73.04679803685177, 46.861014253117176, 62.50742462430994, 143.95078711504593, 267.4060803349651, 179.0257439268637, 48.66499088055429, 63.5912440302322, 94.7504111589306, 60.16849417360602, 89.99332864368131, 84.45951854993484, 66.1745815449053, 58.877646277639215, 224.59006417291576, 102.20592725310976, 62.75838359006954, 42.41029891836397, 36.279015041232476, 35.983383809905206, 35.279446389978915, 33.8715680902608, 32.53147014684745, 32.53147014684745, 32.00965149804347, 31.259957274227933, 30.03338490258516, 28.0122130241858, 106.80436600208472, 23.99274271222357, 23.902097617158574, 23.492946657270814, 23.425183735212673, 21.040243152046642, 20.99487371051455, 18.633169360197225, 18.38327705211638, 17.54295938845307, 17.54295931818586, 17.54295914008768, 16.271464566194695, 22.47200267923002, 15.04487416362402, 24.31325691488687, 1326.6935507852695, 75.91851005038167, 70.24071647273921, 33.13784614533992, 32.25161715629999, 34.827185344816534, 184.70223519286398, 167.59257864814086, 37.19073057474426, 66.18314028554002, 141.77290947547047, 76.12712411807507, 75.14753502099764, 94.77716307975781, 106.75721514651578, 126.51922876223416, 51.626241510492775, 72.6771095378762, 46.60701701637654, 505.78616383291956, 118.84272782024567, 69.24681730064388, 103.39315302699266, 128.1128566615633, 49.5387132886247, 82.41748171976685, 52.15699125664206, 67.76570596150451, 60.78451307268571, 91.92318303474602, 109.99488139577076, 117.23778311038043, 95.50659039781763, 87.61974647219512, 78.62557548236437, 65.19992525448208, 136.57472054509424, 132.91308796881978, 117.54211178488373, 81.96947390014792, 59.334585143856344, 92.08944967206958, 53.660747850120444, 49.45716936666115, 48.61733680845577, 47.89570841995617, 43.48323202180678, 42.31307290064843, 41.68264609010328, 40.51138163747003, 38.62010172531539, 36.15885793859175, 34.83754470360847, 33.09627098903023, 31.865691991120933, 29.794133690293, 25.56142718612646, 25.08104798658381, 24.45061091872105, 23.37005073722337, 61.71068886385442, 22.43952657804394, 22.13942901866647, 21.509002469460437, 20.248149795895255, 18.957064618359503, 130.52450051120317, 80.54217708057533, 65.30056152350835, 38.50380836994128, 40.02489085850358, 34.77336369563619, 35.4402481441434, 45.96832319550611, 58.23010474681798, 68.11003867615698, 48.90864691172623, 53.2098790739306, 71.29642396990856, 89.25010457923337, 61.92696960938485, 51.61250501511726, 70.68633174226598, 115.0627462838597, 48.79633478421839, 57.517631321235015, 70.74691985948924, 92.29130948765466, 74.4848305041042, 96.09713319481557, 55.20359832623162, 74.64469435349244, 72.59706702577265, 65.53466419766453, 57.760522059923225, 53.757936916029614, 169.3254414055621, 153.12752556746722, 116.61765801904073, 99.21464925914549, 83.67834609346073, 66.09375362294324, 60.110884061560924, 58.883075558901744, 58.56403971760555, 55.106348537960244, 50.101813026244805, 46.348829200814265, 45.62080526828746, 43.09563027517385, 41.66249002702888, 38.909911880249595, 35.08820645392896, 35.083383848373835, 34.49678994240908, 29.96996898237959, 25.556846381404878, 49.3111153280307, 79.26489538975993, 24.41983425821408, 23.30489112351748, 22.576865014677743, 21.03002600553518, 20.347817707705588, 20.07459991906433, 19.16498831583104, 33.932437956406254, 93.95728705081805, 100.74978064121791, 114.1358757159118, 724.5511502196568, 67.98167004834585, 156.89497172477388, 137.94097175277903, 131.12251829764435, 156.5595081929155, 109.73761243948779, 95.68453547703399, 52.68960565355022, 170.2663259656797, 80.57238809858994, 183.47826518012357, 93.70676808397836, 81.68498045736243, 133.377946348255, 71.7242091460271, 130.63697467583015, 90.56253705596642, 78.29334900931191, 169.3530110269767, 80.35795656271995, 699.9622470095442, 48.453126254201024, 36.2609148469845, 34.435325647473505, 27.719882316073726, 26.350691108489126, 21.50460573328227, 20.809067618843176, 20.878951607959262, 19.63524540618291, 19.17884951989539, 19.178849236849878, 18.157426756223874, 18.15742161544548, 16.788235652941168, 16.1145820990808, 37.93055247328941, 15.20178715011071, 14.854018255981371, 14.658648350196872, 14.397621793047458, 14.3108782253308, 13.83259633864084, 23.28740877871142, 13.289456759757028, 12.811172818575015, 12.593918306431409, 12.463400260012268, 293.1562977775831, 271.57800783233114, 74.95923159709207, 62.71504911252079, 117.81806507690824, 60.28433638731544, 29.443275443890407, 34.981587915384885, 22.502837386374583, 33.67841030695304, 70.36876568799863, 712.6640325233719, 29.788899486623393, 89.02348832805197, 61.57091128086439, 34.22652187994315, 109.09411809953767, 52.588876305393065, 125.51575488125592, 126.41284723213164, 48.4730002608559, 83.21951827171303, 142.63053455181387, 67.20841696408196, 47.0524330352633, 56.05989706839162, 104.27688307010656, 60.91358900613243, 69.9332515827794, 67.59558293320136, 51.34966460442159, 45.53311438856886, 55.60096103426477, 465.03273226410215, 77.92752677330581, 58.60627948212023, 53.240307294648964, 46.32799705058684, 45.5266797993587, 43.86823386517219, 41.241411213661266, 40.85013458423924, 38.98688461388842, 37.32865295984472, 36.93737712581383, 36.93737712538019, 36.93737712538019, 36.93737712538015, 36.93737712538018, 36.93737712538015, 36.93737712538013, 36.937377125380124, 34.88786963727346, 34.88786963727346, 34.88786963727346, 34.88786963727346, 33.13650346690234, 31.608931342958606, 27.67741044723425, 27.006749037285402, 55.10179660477279, 26.205433659983765, 22.982099872334857, 557.9993447241859, 50.78799305679368, 384.90610208938267, 46.56247294189075, 133.9839530323484, 575.508464705302, 121.31297924686875, 45.392099630865786, 592.8249604136704, 57.16537669534476, 87.86890155502843, 176.49574041246558, 44.887961491370625, 119.13283132345741, 62.39145954506389, 242.40363166666737, 112.26615292927185, 56.51183107772584, 60.34317921795892, 77.75703487256052, 64.53824489127743, 89.38445448045496, 72.19236998834339, 83.5126327501743, 53.551254906589, 59.88031036390138, 54.47035828371746, 51.220041118288854, 55.798063861432226, 59.14943666148336, 256.26382187898514, 64.76717135356661, 47.12719574847075, 42.12294113916768, 39.72626690159662, 38.21269594575749, 36.067793931361386, 33.755060355986636, 30.117737746641065, 114.16821108294283, 25.61852881628075, 25.28208914949762, 23.894607291679762, 23.095614835875793, 21.45576017020855, 21.30832656013691, 17.81843758348567, 16.577766676528288, 16.241327108530932, 15.25317915460958, 126.14330716163757, 13.92859206917466, 13.928592048829334, 11.615856946951455, 11.615856944650877, 11.615856139881501, 11.090410777945003, 11.084784895261727, 10.627709365622708, 10.207352113224719, 17.97142683406721, 84.62067817731099, 30.726475866363234, 35.334743219480224, 81.39946585819779, 33.097337446358075, 47.652473485095584, 137.7315163939548, 32.89968689373463, 62.71549483218794, 110.88863829470914, 91.12804078473418, 85.9680180078669, 80.58930449367163, 53.58593264089784, 71.51127045773518, 61.77359059846752, 49.24992943033518, 39.89428832538304, 43.34776217038547, 49.82588130409076, 49.53908860928564, 38.763279709325985, 49.42782501809197, 38.94359317583694, 37.66519877950244, 36.294571829726436, 192.32858328310866, 42.498719586673054, 41.96592763085189, 40.06856164409893, 30.112560753098872, 29.473210638330688, 28.64142848272684, 28.19372666861978, 28.184262648175324, 26.552413966954152, 25.848658646850897, 25.848658579291033, 21.62769239961256, 18.15263576546503, 17.04411441950261, 16.468386774634265, 78.18270265888779, 14.911754872798936, 14.12331698592123, 13.910200820586814, 12.673653437341024, 11.77825084509258, 58.559343127724716, 9.880883390560642, 9.433182822188506, 9.433182819631103, 9.433182771964562, 32.88386239313091, 54.9965295459727, 7.663771986068802, 50.85398425874876, 218.33209408516527, 27.48755035870134, 52.49569179654729, 187.08329354487034, 21.558754297693415, 43.14085689244564, 69.19950486513062, 46.78223992119859, 64.07418158866224, 112.48646253659398, 154.32666847568242, 60.38111862830368, 79.11215754784193, 205.4662864457601, 58.12426629457837, 47.19717824652718, 80.99329578060068, 60.295331696317916, 39.505716322532535, 41.48926720402677, 59.11909964129867, 46.01259094951532, 44.07021091985413, 43.005553435360135, 148.54100880970375, 52.31130217739993, 50.133711730133996, 40.492944922496015, 38.73108055313018, 34.494785381845, 30.535397885660124, 28.357807557774013, 28.35780743241464, 26.18021721058033, 24.41835517319103, 19.64744592370937, 18.12335041134725, 17.469855467807196, 17.192945446115193, 16.85623045836614, 15.9258250792008, 30.162211363053988, 14.282846422963951, 63.625704860302136, 11.055967477413773, 9.590944103424512, 39.04391997048293, 44.1241121802303, 8.759493899271675, 8.759493899271675, 8.759493899271675, 8.759493899271675, 8.759493899271675, 8.759493899271675, 686.3372431361547, 13.912617087973894, 36.08893469414741, 28.400673028831083, 8.759493899271675, 23.67988282794201, 61.93095141347678, 33.70869902001931, 26.25098964056814, 22.51918362942566, 55.013650537428084, 38.893354698119666, 110.10608957314332, 39.77079572955123, 154.85929106163368, 34.46541086214855, 38.240845232365665, 59.905832961225165, 72.88380093192092, 40.29795083115164, 50.902003333387555, 44.07557499537722, 51.91468811517967, 53.36943762358624, 39.09819637959676, 46.846355309720764, 44.616055512386836, 37.93783328444016, 37.89207579012848, 36.53103489672702, 63.62602679035373, 56.81444123842208, 48.95035612605035, 48.08341326076845, 44.94594138332595, 38.65021339104178, 38.650213411019095, 34.10915640591346, 29.568099468674102, 29.527285966866724, 28.660342639392326, 27.297571005764873, 22.75651390772797, 22.591743278648654, 20.4859855365159, 19.12397190638357, 18.215456928846223, 92.70213591480967, 15.944928569141537, 15.944928401640597, 30.66392424368365, 15.098769929808558, 13.674400096558632, 13.674400071686733, 13.592014537065571, 13.488843213449682, 13.055371452291567, 12.188428919259376, 11.837341852347862, 11.403871608256166, 20.76675538402532, 31.811167519648478, 32.91716459285623, 71.51008939224484, 36.21357954080722, 57.72672073783385, 43.10087187049359, 75.54936908545064, 34.72032446484983, 27.26780197805856, 23.908440267734825, 39.13783264664376, 62.28652514825713, 31.268597871982436, 29.444854288359807, 27.255145294892337, 43.36197752502663, 38.240163249874385, 52.92768161526521, 47.86114113771557, 39.86748157795843, 33.861781065925335, 38.52903005294027, 36.201525593947494, 31.953717866477533, 31.346204626153845], \"Term\": [\"bee\", \"water\", \"oil\", \"food\", \"tax\", \"trade\", \"tpp\", \"gmo\", \"environ\", \"bank\", \"anim\", \"privat\", \"palm\", \"ttip\", \"pesticid\", \"frack\", \"climat\", \"wage\", \"merger\", \"pipelin\", \"energi\", \"econom\", \"health\", \"women\", \"meddl\", \"farmer\", \"neonic\", \"suppli\", \"sharehold\", \"nh\", \"palm\", \"neonic\", \"deforest\", \"orangutan\", \"neonicotinoid\", \"beekeep\", \"bird\", \"extinct\", \"pollin\", \"bee\", \"insecticid\", \"tiger\", \"low\", \"kreme\", \"westjet\", \"krispi\", \"sumatran\", \"flupyradifuron\", \"wilmar\", \"dorito\", \"ioi\", \"donut\", \"brink\", \"aldi\", \"southeast\", \"malathion\", \"snack\", \"tyson\", \"kfc\", \"dunkin\", \"honey\", \"rainforest\", \"pesticid\", \"plantat\", \"indonesia\", \"garden\", \"food\", \"epa\", \"speci\", \"gmo\", \"harm\", \"oil\", \"label\", \"popul\", \"chemic\", \"environ\", \"produc\", \"respons\", \"supermarket\", \"anim\", \"industri\", \"forest\", \"toxic\", \"suppli\", \"protect\", \"consum\", \"el\", \"apologis\", \"sexism\", \"nra\", \"salvador\", \"editor\", \"costa\", \"hillsborough\", \"attawapiskat\", \"westconnex\", \"rica\", \"diamond\", \"ticketmast\", \"cathol\", \"berwick\", \"kca\", \"yellowston\", \"yelp\", \"infinito\", \"guatemalan\", \"stereotyp\", \"youtub\", \"soho\", \"ivi\", \"unsold\", \"verdict\", \"or\\u00e9al\", \"column\", \"g20\", \"op\", \"alec\", \"rent\", \"beer\", \"women\", \"men\", \"sharehold\", \"gold\", \"sexist\", \"media\", \"account\", \"apolog\", \"femal\", \"enterpris\", \"channel\", \"harass\", \"hire\", \"mine\", \"offens\", \"car\", \"kid\", \"gender\", \"tv\", \"educ\", \"school\", \"hous\", \"newspap\", \"advertis\", \"bulli\", \"board\", \"report\", \"protest\", \"children\", \"privat\", \"meddl\", \"lobbi\", \"citi\", \"council\", \"tpp\", \"tax\", \"haven\", \"ratifi\", \"judiciari\", \"clinton\", \"beyonc\\u00e9\", \"evas\", \"hillari\", \"affair\", \"nafta\", \"pelosi\", \"andrea\", \"luxembourg\", \"postal\", \"ratif\", \"acu\\u00f1a\", \"guernsey\", \"princ\", \"fipa\", \"maxima\", \"zeitung\", \"freeland\", \"clare\", \"mossack\", \"bori\", \"manchest\", \"nanci\", \"wyden\", \"antoin\", \"m\\u00e1xima\", \"peru\", \"treati\", \"dodg\", \"hawaii\", \"avoid\", \"newmont\", \"offshor\", \"trade\", \"hmrc\", \"agreement\", \"econom\", \"secret\", \"elect\", \"osborn\", \"paper\", \"democraci\", \"wealthi\", \"democrat\", \"ordinari\", \"govern\", \"rich\", \"negoti\", \"leak\", \"taxpay\", \"pass\", \"scheme\", \"cut\", \"privat\", \"environ\", \"offici\", \"spill\", \"solar\", \"enbridg\", \"nuclear\", \"microbead\", \"barrel\", \"pipelin\", \"tar\", \"der\", \"acc\", \"gateway\", \"deepwat\", \"dakota\", \"ecuador\", \"waututh\", \"tsleil\", \"von\", \"acrylamid\", \"santiago\", \"und\", \"tribe\", \"zu\", \"energi\", \"gulf\", \"sundarban\", \"kxl\", \"exxonmobil\", \"bio\", \"f\\u00fcr\", \"tate\", \"keyston\", \"fuel\", \"pari\", \"xl\", \"drill\", \"climat\", \"ga\", \"loom\", \"east\", \"plastic\", \"alberta\", \"coal\", \"northern\", \"electr\", \"oil\", \"pollut\", \"environ\", \"land\", \"environment\", \"clean\", \"industri\", \"indigen\", \"nation\", \"invest\", \"approv\", \"park\", \"lobbi\", \"bangladesh\", \"sweeten\", \"accord\", \"guaran\\u00ed\", \"bangladeshi\", \"fairli\", \"asda\", \"fcc\", \"medicar\", \"plaza\", \"rana\", \"formula\", \"apparel\", \"nanoparticl\", \"corey\", \"bpa\", \"wendi\", \"textil\", \"postpon\", \"deriv\", \"taker\", \"garment\", \"paraguay\", \"sagar\", \"tazreen\", \"wage\", \"mylan\", \"danon\", \"underpaid\", \"infant\", \"warehous\", \"factori\", \"sweatshop\", \"cloth\", \"strike\", \"babi\", \"safeti\", \"bell\", \"tradit\", \"retail\", \"drug\", \"benefit\", \"supplier\", \"internet\", \"child\", \"custom\", \"natur\", \"build\", \"employ\", \"fire\", \"food\", \"industri\", \"exploit\", \"econom\", \"protect\", \"ambul\", \"egg\", \"tilli\", \"nh\", \"hen\", \"cambi\", \"rnc\", \"snooper\", \"duracel\", \"gp\", \"jeremi\", \"sussex\", \"dismantl\", \"surgeri\", \"plasma\", \"kidney\", \"probabl\", \"glyphos\", \"liam\", \"mortgag\", \"lick\", \"revolv\", \"nsa\", \"glyphosateth\", \"plaintiff\", \"chemotherapi\", \"protein\", \"toe\", \"greek\", \"embodi\", \"privatis\", \"dairi\", \"roundup\", \"closur\", \"healthcar\", \"weedkil\", \"doctor\", \"patient\", \"cabinet\", \"privat\", \"insur\", \"privaci\", \"health\", \"meddl\", \"medic\", \"trial\", \"dr\", \"licenc\", \"carcinogen\", \"record\", \"vice\", \"milk\", \"cancer\", \"protect\", \"consum\", \"batteri\", \"person\", \"hand\", \"hospit\", \"govern\", \"industri\", \"lobbi\", \"scientist\", \"bottl\", \"drought\", \"desert\", \"87\", \"seismic\", \"bernardino\", \"colorado\", \"drain\", \"beatti\", \"balfour\", \"athabasca\", \"lake\", \"wynn\", \"sara\", \"suck\", \"stricken\", \"polley\", \"nightclub\", \"imperi\", \"fin\", \"tripadvisor\", \"pakistan\", \"sludg\", \"outbid\", \"engi\", \"mekerot\", \"sak\", \"tuna\", \"canfisco\", \"shortag\", \"water\", \"dri\", \"oregon\", \"fishermen\", \"nigeria\", \"mercuri\", \"arctic\", \"river\", \"boat\", \"tail\", \"fish\", \"gallon\", \"permit\", \"town\", \"dump\", \"ocean\", \"litr\", \"45\", \"dam\", \"environ\", \"forest\", \"ontario\", \"plant\", \"mine\", \"san\", \"wast\", \"middl\", \"drink\", \"extract\", \"clean\", \"suppli\", \"privat\", \"meddl\", \"environment\", \"toxic\", \"citi\", \"turnbul\", \"samsung\", \"lgbtq\", \"pharmacist\", \"pnc\", \"rail\", \"fifa\", \"telstra\", \"tasmania\", \"malcolm\", \"isi\", \"mountaintop\", \"yahoo\", \"soni\", \"saudi\", \"inject\", \"cp\", \"kesha\", \"auction\", \"zimmerman\", \"arabia\", \"moham\", \"maryland\", \"lac\", \"boot\", \"lockhe\", \"tasmanian\", \"piraci\", \"scout\", \"airgun\", \"antibiot\", \"cup\", \"chicken\", \"lee\", \"iraq\", \"lethal\", \"log\", \"usda\", \"meat\", \"crime\", \"500\", \"91\", \"arm\", \"remov\", \"system\", \"train\", \"execut\", \"liberti\", \"johnson\", \"weapon\", \"drug\", \"consum\", \"forest\", \"protect\", \"war\", \"industri\", \"health\", \"safeti\", \"compens\", \"anim\", \"prison\", \"detent\", \"orca\", \"yarl\", \"cruelti\", \"aquarium\", \"msd\", \"asylum\", \"orlando\", \"helplin\", \"ferrovi\", \"seeker\", \"deport\", \"bristol\", \"detain\", \"ceremoni\", \"panther\", \"juma\", \"mccrori\", \"corexit\", \"lame\", \"52\", \"cage\", \"geo\", \"manu\", \"999\", \"jaguar\", \"detaine\", \"connolli\", \"glade\", \"dog\", \"captiv\", \"wood\", \"salmon\", \"anim\", \"welfar\", \"blood\", \"centr\", \"contract\", \"whale\", \"tortur\", \"dolphin\", \"breed\", \"farm\", \"wild\", \"liberti\", \"sexual\", \"discrimin\", \"women\", \"abus\", \"privat\", \"children\", \"profit\", \"ceta\", \"transatlant\", \"ttip\", \"tisa\", \"66\", \"magnum\", \"craigslist\", \"korryn\", \"adani\", \"fooddrinkeurop\", \"incit\", \"07\", \"deactiv\", \"mackenzi\", \"buzzfe\", \"weasel\", \"kern\", \"bleach\", \"zuckerberg\", \"whiten\", \"islamophobia\", \"text\", \"standoff\", \"vattenfal\", \"skype\", \"fil\", \"homecar\", \"gaza\", \"dove\", \"scariest\", \"racism\", \"polic\", \"racist\", \"muslim\", \"sponsor\", \"palestinian\", \"995\", \"04\", \"hatr\", \"coral\", \"republican\", \"trade\", \"encrypt\", \"reef\", \"barrier\", \"isra\", \"hate\", \"skin\", \"negoti\", \"protest\", \"brussel\", \"black\", \"secret\", \"violenc\", \"mark\", \"court\", \"media\", \"lobbyist\", \"invest\", \"govern\", \"leak\", \"parliament\", \"liberti\", \"merger\", \"ineo\", \"ryedal\", \"energ\", \"perdu\", \"71\", \"78\", \"headphon\", \"endocrin\", \"2016bayer\", \"flake\", \"worrisomevox\", \"coon\", \"vitter\", \"leahi\", \"grassley\", \"blumenth\", \"graham\", \"feinstein\", \"530000\", \"state_nam\", \"hoursnow\", \"shrinkbloomberg\", \"disruptor\", \"pebbl\", \"antitrust\", \"earthquak\", \"hors\", \"authoris\", \"centrica\", \"frack\", \"monarch\", \"farmer\", \"shale\", \"senat\", \"gmo\", \"crop\", \"valuabl\", \"food\", \"agrochem\", \"quick\", \"chemic\", \"louder\", \"regul\", \"agricultur\", \"environ\", \"suppli\", \"contamin\", \"caus\", \"approv\", \"expert\", \"industri\", \"toxic\", \"pesticid\", \"genet\", \"creat\", \"35\", \"pro\", \"lobbyist\", \"health\", \"lgbt\", \"marriag\", \"homophob\", \"bae\", \"rifl\", \"airway\", \"mccain\", \"cosbi\", \"gucci\", \"gay\", \"sandi\", \"ar\", \"andi\", \"plane\", \"adida\", \"hilton\", \"homophobia\", \"toddler\", \"mandalena\", \"owen\", \"airlin\", \"prayer\", \"zika\", \"washroom\", \"nale\", \"klm\", \"lesbian\", \"transgend\", \"elementari\", \"campu\", \"latino\", \"flight\", \"courier\", \"russian\", \"shoot\", \"grade\", \"le\", \"gun\", \"palestin\", \"sex\", \"37\", \"assault\", \"discrimin\", \"air\", \"student\", \"hate\", \"equal\", \"weapon\", \"hotel\", \"univers\", \"parent\", \"violenc\", \"militari\", \"sexual\", \"school\", \"liberti\", \"retail\", \"tobacco\", \"footprint\", \"tppa\", \"myriad\", \"uranium\", \"gene\", \"ive\", \"mitsubishi\", \"ashburton\", \"cigarett\", \"burkini\", \"ail\", \"disclosur\", \"roger\", \"farmwork\", \"yamaha\", \"nauru\", \"kiwi\", \"purest\", \"jeff\", \"congratul\", \"foodstuff\", \"plain\", \"aberfoyl\", \"760\", \"swimwear\", \"rlt\", \"canterburi\", \"canyon\", \"trigg\", \"colombia\", \"emiss\", \"banana\", \"grand\", \"amazon\", \"denier\", \"smoke\", \"packag\", \"electron\", \"fruit\", \"carbon\", \"cancer\", \"patent\", \"reduc\", \"suppli\", \"disclos\", \"breast\", \"council\", \"40\", \"greenhous\", \"genet\", \"climat\", \"mine\", \"environment\", \"protect\", \"queri\", \"payment_count\", \"bh\", \"trident\", \"con\", \"colgat\", \"epipen\", \"lafarg\", \"hinkley\", \"created_at_day_ago\", \"tang\", \"petco\", \"bonus\", \"sadiq\", \"barclay\", \"lender\", \"syria\", \"toothpast\", \"banker\", \"pension\", \"bahrain\", \"revis\", \"swing\", \"quot\", \"created_at_m\", \"first_payment_at_i\", \"created_at_i\", \"period_diff\", \"order_count\", \"first_payment_at_dt\", \"bank\", \"malta\", \"branch\", \"hike\", \"first_payment_at_m\", \"obamacar\", \"loan\", \"goug\", \"pet\", \"sir\", \"credit\", \"session\", \"green\", \"basf\", \"econom\", \"royal\", \"fee\", \"donat\", \"invest\", \"financ\", \"job\", \"financi\", \"custom\", \"sharehold\", \"taxpay\", \"consum\", \"liberti\", \"renew\", \"rate\", \"economi\", \"herm\", \"marikana\", \"museum\", \"doll\", \"steel\", \"lonmin\", \"gorman\", \"portrait\", \"deliveroo\", \"outfitt\", \"fur\", \"priti\", \"aetna\", \"vaccin\", \"aliexpress\", \"buffett\", \"axa\", \"miner\", \"northpoint\", \"odebrecht\", \"ebola\", \"autism\", \"vauxhal\", \"algorithm\", \"pluck\", \"blackfac\", \"bunni\", \"gsk\", \"tunnel\", \"audi\", \"ivori\", \"massacr\", \"instagram\", \"zara\", \"art\", \"angora\", \"artist\", \"aid\", \"phone\", \"african\", \"softwar\", \"africa\", \"child\", \"steal\", \"indian\", \"urban\", \"employ\", \"privaci\", \"liberti\", \"industri\", \"children\", \"treat\", \"consum\", \"econom\", \"compens\", \"protect\"], \"Category\": [\"Default\", \"Default\", \"Default\", \"Default\", \"Default\", \"Default\", \"Default\", \"Default\", \"Default\", \"Default\", \"Default\", \"Default\", \"Default\", \"Default\", \"Default\", \"Default\", \"Default\", \"Default\", \"Default\", \"Default\", \"Default\", \"Default\", \"Default\", \"Default\", \"Default\", \"Default\", \"Default\", \"Default\", \"Default\", \"Default\", \"Topic1\", \"Topic1\", \"Topic1\", \"Topic1\", \"Topic1\", \"Topic1\", \"Topic1\", \"Topic1\", \"Topic1\", \"Topic1\", \"Topic1\", \"Topic1\", \"Topic1\", \"Topic1\", \"Topic1\", \"Topic1\", \"Topic1\", \"Topic1\", \"Topic1\", \"Topic1\", \"Topic1\", \"Topic1\", \"Topic1\", \"Topic1\", \"Topic1\", \"Topic1\", \"Topic1\", \"Topic1\", \"Topic1\", \"Topic1\", \"Topic1\", \"Topic1\", \"Topic1\", \"Topic1\", \"Topic1\", \"Topic1\", \"Topic1\", \"Topic1\", \"Topic1\", \"Topic1\", \"Topic1\", \"Topic1\", \"Topic1\", \"Topic1\", \"Topic1\", \"Topic1\", \"Topic1\", \"Topic1\", \"Topic1\", \"Topic1\", \"Topic1\", \"Topic1\", \"Topic1\", \"Topic1\", \"Topic1\", \"Topic1\", \"Topic2\", \"Topic2\", \"Topic2\", \"Topic2\", \"Topic2\", \"Topic2\", \"Topic2\", \"Topic2\", \"Topic2\", \"Topic2\", \"Topic2\", \"Topic2\", \"Topic2\", \"Topic2\", \"Topic2\", \"Topic2\", \"Topic2\", \"Topic2\", \"Topic2\", \"Topic2\", \"Topic2\", \"Topic2\", \"Topic2\", \"Topic2\", \"Topic2\", \"Topic2\", \"Topic2\", \"Topic2\", \"Topic2\", \"Topic2\", \"Topic2\", \"Topic2\", \"Topic2\", \"Topic2\", \"Topic2\", \"Topic2\", \"Topic2\", \"Topic2\", \"Topic2\", \"Topic2\", \"Topic2\", \"Topic2\", \"Topic2\", \"Topic2\", \"Topic2\", \"Topic2\", \"Topic2\", \"Topic2\", \"Topic2\", \"Topic2\", \"Topic2\", \"Topic2\", \"Topic2\", \"Topic2\", \"Topic2\", \"Topic2\", \"Topic2\", \"Topic2\", \"Topic2\", \"Topic2\", \"Topic2\", \"Topic2\", \"Topic2\", \"Topic2\", \"Topic2\", \"Topic2\", \"Topic2\", \"Topic3\", \"Topic3\", \"Topic3\", \"Topic3\", \"Topic3\", \"Topic3\", \"Topic3\", \"Topic3\", \"Topic3\", \"Topic3\", \"Topic3\", \"Topic3\", \"Topic3\", \"Topic3\", \"Topic3\", \"Topic3\", \"Topic3\", \"Topic3\", \"Topic3\", \"Topic3\", \"Topic3\", \"Topic3\", \"Topic3\", \"Topic3\", \"Topic3\", \"Topic3\", \"Topic3\", \"Topic3\", \"Topic3\", \"Topic3\", \"Topic3\", \"Topic3\", \"Topic3\", \"Topic3\", \"Topic3\", \"Topic3\", \"Topic3\", \"Topic3\", \"Topic3\", \"Topic3\", \"Topic3\", \"Topic3\", \"Topic3\", \"Topic3\", \"Topic3\", \"Topic3\", \"Topic3\", \"Topic3\", \"Topic3\", \"Topic3\", \"Topic3\", \"Topic3\", \"Topic3\", \"Topic3\", \"Topic3\", \"Topic3\", \"Topic3\", \"Topic3\", \"Topic3\", \"Topic3\", \"Topic3\", \"Topic4\", \"Topic4\", \"Topic4\", \"Topic4\", \"Topic4\", \"Topic4\", \"Topic4\", \"Topic4\", \"Topic4\", \"Topic4\", \"Topic4\", \"Topic4\", \"Topic4\", \"Topic4\", \"Topic4\", \"Topic4\", \"Topic4\", \"Topic4\", \"Topic4\", \"Topic4\", \"Topic4\", \"Topic4\", \"Topic4\", \"Topic4\", \"Topic4\", \"Topic4\", \"Topic4\", \"Topic4\", \"Topic4\", \"Topic4\", \"Topic4\", \"Topic4\", \"Topic4\", \"Topic4\", \"Topic4\", \"Topic4\", \"Topic4\", \"Topic4\", \"Topic4\", \"Topic4\", \"Topic4\", \"Topic4\", \"Topic4\", \"Topic4\", \"Topic4\", \"Topic4\", \"Topic4\", \"Topic4\", \"Topic4\", \"Topic4\", \"Topic4\", \"Topic4\", \"Topic4\", \"Topic4\", \"Topic4\", \"Topic4\", \"Topic4\", \"Topic5\", \"Topic5\", \"Topic5\", \"Topic5\", \"Topic5\", \"Topic5\", \"Topic5\", \"Topic5\", \"Topic5\", \"Topic5\", \"Topic5\", \"Topic5\", \"Topic5\", \"Topic5\", \"Topic5\", \"Topic5\", \"Topic5\", \"Topic5\", \"Topic5\", \"Topic5\", \"Topic5\", \"Topic5\", \"Topic5\", \"Topic5\", \"Topic5\", \"Topic5\", \"Topic5\", \"Topic5\", \"Topic5\", \"Topic5\", \"Topic5\", \"Topic5\", \"Topic5\", \"Topic5\", \"Topic5\", \"Topic5\", \"Topic5\", \"Topic5\", \"Topic5\", \"Topic5\", \"Topic5\", \"Topic5\", \"Topic5\", \"Topic5\", \"Topic5\", \"Topic5\", \"Topic5\", \"Topic5\", \"Topic5\", \"Topic5\", \"Topic5\", \"Topic5\", \"Topic5\", \"Topic5\", \"Topic5\", \"Topic6\", \"Topic6\", \"Topic6\", \"Topic6\", \"Topic6\", \"Topic6\", \"Topic6\", \"Topic6\", \"Topic6\", \"Topic6\", \"Topic6\", \"Topic6\", \"Topic6\", \"Topic6\", \"Topic6\", \"Topic6\", \"Topic6\", \"Topic6\", \"Topic6\", \"Topic6\", \"Topic6\", \"Topic6\", \"Topic6\", \"Topic6\", \"Topic6\", \"Topic6\", \"Topic6\", \"Topic6\", \"Topic6\", \"Topic6\", \"Topic6\", \"Topic6\", \"Topic6\", \"Topic6\", \"Topic6\", \"Topic6\", \"Topic6\", \"Topic6\", \"Topic6\", \"Topic6\", \"Topic6\", \"Topic6\", \"Topic6\", \"Topic6\", \"Topic6\", \"Topic6\", \"Topic6\", \"Topic6\", \"Topic6\", \"Topic6\", \"Topic6\", \"Topic6\", \"Topic6\", \"Topic6\", \"Topic6\", \"Topic6\", \"Topic6\", \"Topic6\", \"Topic6\", \"Topic6\", \"Topic6\", \"Topic6\", \"Topic6\", \"Topic7\", \"Topic7\", \"Topic7\", \"Topic7\", \"Topic7\", \"Topic7\", \"Topic7\", \"Topic7\", \"Topic7\", \"Topic7\", \"Topic7\", \"Topic7\", \"Topic7\", \"Topic7\", \"Topic7\", \"Topic7\", \"Topic7\", \"Topic7\", \"Topic7\", \"Topic7\", \"Topic7\", \"Topic7\", \"Topic7\", \"Topic7\", \"Topic7\", \"Topic7\", \"Topic7\", \"Topic7\", \"Topic7\", \"Topic7\", \"Topic7\", \"Topic7\", \"Topic7\", \"Topic7\", \"Topic7\", \"Topic7\", \"Topic7\", \"Topic7\", \"Topic7\", \"Topic7\", \"Topic7\", \"Topic7\", \"Topic7\", \"Topic7\", \"Topic7\", \"Topic7\", \"Topic7\", \"Topic7\", \"Topic7\", \"Topic7\", \"Topic7\", \"Topic7\", \"Topic7\", \"Topic7\", \"Topic7\", \"Topic7\", \"Topic7\", \"Topic7\", \"Topic7\", \"Topic7\", \"Topic7\", \"Topic7\", \"Topic7\", \"Topic7\", \"Topic7\", \"Topic7\", \"Topic8\", \"Topic8\", \"Topic8\", \"Topic8\", \"Topic8\", \"Topic8\", \"Topic8\", \"Topic8\", \"Topic8\", \"Topic8\", \"Topic8\", \"Topic8\", \"Topic8\", \"Topic8\", \"Topic8\", \"Topic8\", \"Topic8\", \"Topic8\", \"Topic8\", \"Topic8\", \"Topic8\", \"Topic8\", \"Topic8\", \"Topic8\", \"Topic8\", \"Topic8\", \"Topic8\", \"Topic8\", \"Topic8\", \"Topic8\", \"Topic8\", \"Topic8\", \"Topic8\", \"Topic8\", \"Topic8\", \"Topic8\", \"Topic8\", \"Topic8\", \"Topic8\", \"Topic8\", \"Topic8\", \"Topic8\", \"Topic8\", \"Topic8\", \"Topic8\", \"Topic8\", \"Topic8\", \"Topic8\", \"Topic8\", \"Topic8\", \"Topic8\", \"Topic8\", \"Topic8\", \"Topic8\", \"Topic8\", \"Topic8\", \"Topic8\", \"Topic8\", \"Topic8\", \"Topic8\", \"Topic9\", \"Topic9\", \"Topic9\", \"Topic9\", \"Topic9\", \"Topic9\", \"Topic9\", \"Topic9\", \"Topic9\", \"Topic9\", \"Topic9\", \"Topic9\", \"Topic9\", \"Topic9\", \"Topic9\", \"Topic9\", \"Topic9\", \"Topic9\", \"Topic9\", \"Topic9\", \"Topic9\", \"Topic9\", \"Topic9\", \"Topic9\", \"Topic9\", \"Topic9\", \"Topic9\", \"Topic9\", \"Topic9\", \"Topic9\", \"Topic9\", \"Topic9\", \"Topic9\", \"Topic9\", \"Topic9\", \"Topic9\", \"Topic9\", \"Topic9\", \"Topic9\", \"Topic9\", \"Topic9\", \"Topic9\", \"Topic9\", \"Topic9\", \"Topic9\", \"Topic9\", \"Topic9\", \"Topic9\", \"Topic9\", \"Topic9\", \"Topic9\", \"Topic9\", \"Topic9\", \"Topic10\", \"Topic10\", \"Topic10\", \"Topic10\", \"Topic10\", \"Topic10\", \"Topic10\", \"Topic10\", \"Topic10\", \"Topic10\", \"Topic10\", \"Topic10\", \"Topic10\", \"Topic10\", \"Topic10\", \"Topic10\", \"Topic10\", \"Topic10\", \"Topic10\", \"Topic10\", \"Topic10\", \"Topic10\", \"Topic10\", \"Topic10\", \"Topic10\", \"Topic10\", \"Topic10\", \"Topic10\", \"Topic10\", \"Topic10\", \"Topic10\", \"Topic10\", \"Topic10\", \"Topic10\", \"Topic10\", \"Topic10\", \"Topic10\", \"Topic10\", \"Topic10\", \"Topic10\", \"Topic10\", \"Topic10\", \"Topic10\", \"Topic10\", \"Topic10\", \"Topic10\", \"Topic10\", \"Topic10\", \"Topic10\", \"Topic10\", \"Topic10\", \"Topic10\", \"Topic10\", \"Topic10\", \"Topic10\", \"Topic10\", \"Topic10\", \"Topic10\", \"Topic10\", \"Topic10\", \"Topic10\", \"Topic10\", \"Topic10\", \"Topic11\", \"Topic11\", \"Topic11\", \"Topic11\", \"Topic11\", \"Topic11\", \"Topic11\", \"Topic11\", \"Topic11\", \"Topic11\", \"Topic11\", \"Topic11\", \"Topic11\", \"Topic11\", \"Topic11\", \"Topic11\", \"Topic11\", \"Topic11\", \"Topic11\", \"Topic11\", \"Topic11\", \"Topic11\", \"Topic11\", \"Topic11\", \"Topic11\", \"Topic11\", \"Topic11\", \"Topic11\", \"Topic11\", \"Topic11\", \"Topic11\", \"Topic11\", \"Topic11\", \"Topic11\", \"Topic11\", \"Topic11\", \"Topic11\", \"Topic11\", \"Topic11\", \"Topic11\", \"Topic11\", \"Topic11\", \"Topic11\", \"Topic11\", \"Topic11\", \"Topic11\", \"Topic11\", \"Topic11\", \"Topic11\", \"Topic11\", \"Topic11\", \"Topic11\", \"Topic11\", \"Topic11\", \"Topic11\", \"Topic11\", \"Topic11\", \"Topic11\", \"Topic11\", \"Topic11\", \"Topic12\", \"Topic12\", \"Topic12\", \"Topic12\", \"Topic12\", \"Topic12\", \"Topic12\", \"Topic12\", \"Topic12\", \"Topic12\", \"Topic12\", \"Topic12\", \"Topic12\", \"Topic12\", \"Topic12\", \"Topic12\", \"Topic12\", \"Topic12\", \"Topic12\", \"Topic12\", \"Topic12\", \"Topic12\", \"Topic12\", \"Topic12\", \"Topic12\", \"Topic12\", \"Topic12\", \"Topic12\", \"Topic12\", \"Topic12\", \"Topic12\", \"Topic12\", \"Topic12\", \"Topic12\", \"Topic12\", \"Topic12\", \"Topic12\", \"Topic12\", \"Topic12\", \"Topic12\", \"Topic12\", \"Topic12\", \"Topic12\", \"Topic12\", \"Topic12\", \"Topic12\", \"Topic12\", \"Topic12\", \"Topic12\", \"Topic12\", \"Topic12\", \"Topic12\", \"Topic12\", \"Topic12\", \"Topic12\", \"Topic12\", \"Topic12\", \"Topic13\", \"Topic13\", \"Topic13\", \"Topic13\", \"Topic13\", \"Topic13\", \"Topic13\", \"Topic13\", \"Topic13\", \"Topic13\", \"Topic13\", \"Topic13\", \"Topic13\", \"Topic13\", \"Topic13\", \"Topic13\", \"Topic13\", \"Topic13\", \"Topic13\", \"Topic13\", \"Topic13\", \"Topic13\", \"Topic13\", \"Topic13\", \"Topic13\", \"Topic13\", \"Topic13\", \"Topic13\", \"Topic13\", \"Topic13\", \"Topic13\", \"Topic13\", \"Topic13\", \"Topic13\", \"Topic13\", \"Topic13\", \"Topic13\", \"Topic13\", \"Topic13\", \"Topic13\", \"Topic13\", \"Topic13\", \"Topic13\", \"Topic13\", \"Topic13\", \"Topic13\", \"Topic13\", \"Topic13\", \"Topic13\", \"Topic13\", \"Topic13\", \"Topic13\", \"Topic13\", \"Topic13\", \"Topic13\", \"Topic14\", \"Topic14\", \"Topic14\", \"Topic14\", \"Topic14\", \"Topic14\", \"Topic14\", \"Topic14\", \"Topic14\", \"Topic14\", \"Topic14\", \"Topic14\", \"Topic14\", \"Topic14\", \"Topic14\", \"Topic14\", \"Topic14\", \"Topic14\", \"Topic14\", \"Topic14\", \"Topic14\", \"Topic14\", \"Topic14\", \"Topic14\", \"Topic14\", \"Topic14\", \"Topic14\", \"Topic14\", \"Topic14\", \"Topic14\", \"Topic14\", \"Topic14\", \"Topic14\", \"Topic14\", \"Topic14\", \"Topic14\", \"Topic14\", \"Topic14\", \"Topic14\", \"Topic14\", \"Topic14\", \"Topic14\", \"Topic14\", \"Topic14\", \"Topic14\", \"Topic14\", \"Topic14\", \"Topic14\", \"Topic14\", \"Topic14\", \"Topic14\", \"Topic14\", \"Topic14\", \"Topic14\", \"Topic14\", \"Topic14\", \"Topic14\", \"Topic14\", \"Topic14\", \"Topic14\", \"Topic15\", \"Topic15\", \"Topic15\", \"Topic15\", \"Topic15\", \"Topic15\", \"Topic15\", \"Topic15\", \"Topic15\", \"Topic15\", \"Topic15\", \"Topic15\", \"Topic15\", \"Topic15\", \"Topic15\", \"Topic15\", \"Topic15\", \"Topic15\", \"Topic15\", \"Topic15\", \"Topic15\", \"Topic15\", \"Topic15\", \"Topic15\", \"Topic15\", \"Topic15\", \"Topic15\", \"Topic15\", \"Topic15\", \"Topic15\", \"Topic15\", \"Topic15\", \"Topic15\", \"Topic15\", \"Topic15\", \"Topic15\", \"Topic15\", \"Topic15\", \"Topic15\", \"Topic15\", \"Topic15\", \"Topic15\", \"Topic15\", \"Topic15\", \"Topic15\", \"Topic15\", \"Topic15\", \"Topic15\", \"Topic15\", \"Topic15\", \"Topic15\", \"Topic15\", \"Topic15\", \"Topic15\", \"Topic15\", \"Topic15\"]}, \"token.table\": {\"Topic\": [5, 10, 12, 10, 11, 1, 7, 10, 11, 1, 7, 9, 12, 13, 1, 2, 3, 4, 5, 6, 7, 8, 11, 13, 15, 1, 7, 8, 11, 4, 5, 8, 10, 14, 4, 9, 11, 10, 11, 13, 11, 7, 3, 8, 6, 10, 9, 13, 1, 2, 5, 8, 9, 14, 15, 4, 5, 2, 3, 6, 9, 10, 11, 13, 4, 3, 10, 12, 1, 2, 3, 5, 6, 10, 13, 15, 15, 3, 1, 7, 9, 10, 11, 15, 2, 9, 15, 1, 3, 10, 1, 3, 4, 9, 11, 1, 11, 1, 2, 3, 14, 15, 13, 1, 2, 4, 5, 7, 8, 9, 11, 12, 8, 12, 13, 12, 4, 7, 1, 2, 13, 15, 15, 1, 2, 4, 12, 13, 6, 12, 3, 9, 15, 1, 7, 8, 9, 1, 8, 11, 3, 2, 12, 2, 5, 1, 2, 3, 4, 6, 7, 9, 10, 11, 15, 9, 12, 8, 4, 7, 1, 2, 4, 8, 12, 14, 15, 3, 15, 3, 8, 15, 5, 13, 2, 9, 10, 12, 9, 7, 2, 8, 15, 11, 15, 3, 5, 6, 15, 15, 5, 6, 7, 12, 14, 7, 2, 7, 13, 5, 5, 3, 4, 12, 14, 14, 14, 4, 4, 7, 10, 14, 1, 4, 11, 14, 6, 13, 7, 1, 11, 1, 2, 6, 1, 5, 2, 3, 5, 6, 11, 13, 14, 7, 2, 3, 14, 4, 1, 2, 4, 5, 8, 9, 10, 15, 10, 5, 6, 8, 9, 11, 1, 2, 3, 4, 6, 7, 8, 9, 11, 7, 8, 14, 8, 15, 3, 7, 5, 2, 14, 5, 6, 13, 8, 9, 14, 1, 9, 1, 10, 11, 15, 1, 2, 3, 4, 5, 7, 9, 10, 11, 13, 14, 1, 2, 4, 5, 6, 7, 8, 10, 11, 13, 15, 13, 10, 3, 4, 6, 6, 9, 6, 12, 1, 6, 8, 10, 11, 13, 7, 13, 14, 2, 13, 9, 14, 1, 2, 4, 11, 15, 1, 4, 8, 13, 1, 5, 6, 10, 11, 2, 1, 2, 4, 6, 7, 8, 9, 11, 3, 6, 7, 9, 10, 11, 13, 11, 9, 10, 2, 3, 9, 10, 1, 4, 5, 6, 7, 8, 11, 13, 6, 1, 6, 8, 1, 3, 5, 8, 9, 12, 15, 1, 2, 3, 5, 6, 8, 9, 11, 12, 13, 15, 13, 1, 2, 4, 5, 7, 8, 9, 10, 12, 13, 15, 3, 1, 2, 3, 4, 5, 7, 8, 13, 1, 2, 4, 7, 10, 11, 12, 13, 3, 2, 6, 4, 5, 6, 9, 13, 14, 4, 8, 14, 14, 10, 11, 13, 7, 2, 2, 4, 5, 8, 14, 15, 14, 13, 9, 1, 2, 3, 5, 6, 8, 10, 11, 12, 13, 14, 15, 1, 6, 7, 8, 11, 2, 6, 8, 9, 11, 10, 11, 14, 9, 5, 12, 2, 1, 2, 7, 8, 9, 11, 13, 12, 14, 1, 2, 3, 6, 8, 10, 13, 8, 10, 1, 2, 3, 4, 5, 6, 7, 8, 9, 10, 11, 13, 14, 15, 14, 14, 14, 4, 8, 10, 14, 2, 5, 6, 8, 9, 10, 11, 1, 11, 9, 7, 8, 1, 2, 3, 5, 6, 7, 8, 9, 10, 12, 13, 14, 15, 1, 3, 4, 5, 6, 8, 10, 14, 6, 8, 4, 7, 9, 14, 5, 10, 4, 1, 15, 2, 3, 10, 2, 3, 10, 11, 12, 2, 13, 9, 4, 5, 7, 9, 9, 9, 2, 2, 3, 9, 13, 15, 13, 5, 9, 10, 12, 6, 11, 5, 6, 8, 3, 5, 9, 9, 14, 15, 7, 9, 1, 2, 3, 5, 6, 8, 10, 11, 13, 14, 15, 1, 1, 10, 2, 6, 8, 7, 7, 13, 4, 7, 1, 2, 4, 6, 7, 13, 7, 3, 5, 6, 8, 9, 1, 2, 3, 4, 7, 9, 10, 11, 1, 6, 11, 1, 4, 6, 10, 8, 15, 1, 2, 3, 5, 7, 8, 9, 10, 14, 15, 1, 2, 3, 4, 5, 6, 7, 10, 11, 12, 14, 15, 4, 2, 2, 3, 7, 14, 6, 2, 1, 3, 4, 6, 7, 10, 11, 3, 4, 5, 8, 10, 11, 13, 15, 12, 6, 1, 4, 13, 2, 5, 10, 12, 14, 15, 4, 6, 10, 11, 11, 3, 4, 11, 7, 2, 10, 12, 1, 2, 3, 4, 6, 7, 8, 10, 11, 13, 1, 2, 3, 4, 7, 10, 11, 13, 1, 11, 14, 2, 3, 5, 9, 10, 12, 3, 1, 2, 5, 6, 8, 10, 14, 1, 2, 3, 4, 5, 6, 7, 8, 9, 10, 11, 15, 1, 2, 5, 7, 9, 10, 11, 14, 15, 1, 1, 4, 7, 9, 13, 4, 5, 7, 8, 15, 5, 1, 8, 9, 11, 1, 3, 4, 7, 8, 11, 13, 5, 2, 5, 6, 8, 14, 15, 11, 2, 9, 9, 8, 1, 10, 7, 2, 4, 7, 12, 14, 1, 2, 3, 4, 5, 6, 8, 11, 14, 15, 3, 1, 2, 4, 5, 7, 14, 14, 14, 1, 4, 7, 9, 4, 7, 11, 2, 3, 12, 14, 1, 1, 2, 3, 4, 5, 6, 7, 8, 10, 11, 10, 13, 13, 1, 4, 7, 8, 15, 5, 4, 11, 3, 1, 6, 12, 13, 3, 4, 8, 13, 14, 15, 4, 2, 1, 4, 11, 13, 4, 7, 1, 6, 11, 4, 5, 4, 10, 12, 10, 2, 6, 9, 12, 13, 1, 11, 13, 9, 9, 6, 11, 14, 6, 1, 6, 11, 2, 3, 7, 15, 2, 14, 1, 3, 4, 5, 6, 7, 9, 10, 11, 13, 6, 12, 15, 11, 1, 2, 4, 9, 13, 11, 6, 1, 2, 3, 4, 6, 7, 9, 14, 1, 4, 13, 15, 5, 2, 12, 3, 4, 8, 1, 2, 8, 12, 1, 3, 4, 5, 6, 9, 10, 11, 14, 15, 2, 3, 9, 1, 3, 4, 6, 9, 10, 1, 2, 10, 11, 12, 14, 10, 12, 3, 3, 7, 11, 1, 2, 3, 4, 5, 6, 7, 8, 9, 10, 11, 13, 3, 6, 10, 9, 6, 15, 5, 14, 3, 2, 12, 14, 1, 2, 3, 4, 5, 9, 3, 15, 10, 12, 12, 1, 5, 10, 11, 3, 6, 9, 3, 7, 8, 12, 11, 2, 5, 9, 12, 14, 7, 10, 2, 7, 10, 11, 15, 1, 2, 3, 4, 5, 1, 3, 7, 1, 2, 3, 4, 5, 6, 7, 8, 9, 11, 12, 13, 15, 11, 5, 2, 8, 1, 10, 15, 6, 15, 1, 2, 3, 5, 6, 8, 9, 10, 11, 1, 2, 3, 4, 7, 10, 13, 14, 15, 1, 3, 8, 8, 10, 10, 14, 13, 2, 10, 15, 9, 13, 6, 1, 3, 4, 5, 7, 8, 9, 12, 14, 15, 2, 4, 8, 9, 10, 3, 9, 2, 10, 8, 3, 4, 1, 1, 2, 3, 5, 7, 8, 9, 12, 13, 6, 13, 12, 10, 1, 1, 4, 7, 1, 2, 5, 6, 7, 8, 10, 12, 15, 8, 14, 7, 9, 1, 2, 3, 4, 7, 10, 11, 13, 15, 2, 12, 5, 12, 13, 14, 11, 2, 3, 4, 9, 10, 15, 8, 14, 14, 12, 1, 8, 12, 8, 6, 1, 2, 3, 4, 5, 6, 7, 8, 9, 10, 12, 13, 14, 15, 3, 6, 8, 11, 6, 4, 7, 9, 3, 9, 14, 1, 2, 3, 4, 6, 7, 10, 11, 12, 13, 1, 2, 3, 4, 6, 10, 11, 8, 1, 7, 8, 15, 3, 4, 15, 10, 11, 1, 3, 10, 10, 1, 8, 3, 14, 3, 12, 9, 15, 1, 4, 7, 8, 10, 11, 15, 12, 8, 10, 15, 3, 12, 9, 1, 8, 2, 3, 6, 7, 9, 1, 2, 3, 4, 5, 6, 9, 10, 15, 3, 6, 8, 10, 5, 7, 2, 3, 8, 7, 10, 3, 11, 4, 2, 5, 7, 9, 10, 13, 14, 1, 2, 5, 8, 12, 14, 5, 6, 2, 3, 7, 8, 13, 15, 11, 15, 13, 8, 1, 11, 6, 3, 8, 9, 15, 10, 12, 5, 13, 2, 3, 3, 12, 3, 5, 1, 2, 3, 4, 5, 6, 7, 8, 9, 10, 12, 13, 15, 1, 2, 4, 5, 6, 7, 11, 13, 8, 13, 1, 3, 5, 10, 1, 1, 2, 3, 2, 3, 9, 10, 3, 6, 1, 7, 7, 4, 7, 11, 15, 2, 6, 4, 9, 2, 14, 4, 7, 9, 15, 2, 8, 10, 12, 13, 1, 2, 3, 4, 6, 7, 8, 9, 10, 15, 3, 4, 9, 1, 4, 7, 1, 2, 6, 7, 2, 1, 9, 14, 3, 5, 7, 8, 10, 14, 15, 1, 7, 13, 9, 2, 3, 14, 7, 15, 12, 1, 2, 4, 5, 13, 14, 15, 7, 10, 12, 10, 12, 1, 9, 1, 2, 3, 8, 11, 5, 1, 4, 5, 6, 9, 12, 14, 15, 4, 10, 1, 3, 4, 5, 6, 9, 13, 1, 3, 6, 10, 11, 14, 1, 3, 5, 6, 10, 12, 15, 3, 5, 10, 11, 13, 6, 8, 9, 13, 14, 11, 3, 12, 14, 11, 14, 4, 7, 9, 1, 2, 3, 5, 6, 8, 14, 15, 2, 3, 7, 1, 6, 11, 6, 14, 15, 14, 8, 8, 15, 4, 7, 8, 3, 13, 6, 8, 12, 1, 2, 4, 5, 7, 11, 14, 15, 1, 13, 6, 4, 7, 5, 15, 8, 2, 9, 10, 15, 7, 1, 1, 2, 3, 4, 7, 11, 13, 1, 3, 6, 7, 9, 11, 15, 3, 5, 12, 3, 9, 15, 6, 15, 2, 3, 6, 7, 9, 13, 3, 6, 7, 10, 1, 3, 10, 11, 12, 6, 1, 2, 3, 4, 5, 6, 7, 8, 9, 11, 15, 1, 3, 5, 6, 7, 8, 9, 10, 13, 14, 15, 1, 2, 3, 4, 5, 6, 7, 8, 9, 10, 11, 12, 13, 14, 15, 6, 2, 3, 4, 5, 7, 8, 10, 11, 12, 14, 13, 14, 1, 3, 5, 9, 11, 14, 1, 5, 14, 2, 8, 9, 10, 10, 15, 6, 8, 1, 4, 5, 1, 2, 3, 4, 5, 7, 8, 9, 11, 13, 14, 3, 3, 5, 6, 8, 10, 13, 1, 2, 3, 4, 5, 7, 8, 10, 13, 4, 7, 10, 14, 1, 2, 3, 4, 5, 6, 7, 8, 10, 11, 12, 14, 15, 1, 2, 5, 6, 7, 8, 10, 11, 12, 13, 15, 1, 4, 6, 7, 8, 9, 11, 14, 2, 9, 1, 2, 4, 5, 6, 7, 8, 9, 10, 11, 13, 3, 9, 10, 12, 13, 1, 2, 3, 4, 5, 8, 9, 12, 13, 14, 15, 1, 2, 5, 9, 12, 14, 15, 14, 6, 2, 1, 2, 3, 4, 5, 7, 8, 14, 12, 4, 5, 7, 13, 6, 13, 6, 11, 3, 4, 7, 14, 15, 7, 12, 11, 14, 1, 2, 3, 4, 5, 6, 8, 9, 10, 11, 12, 5, 7, 7, 9, 2, 8, 5, 7, 9, 10, 12, 4, 7, 8, 10, 3, 5, 6, 8, 14, 1, 2, 3, 7, 12, 14, 1, 4, 6, 7, 11, 8, 1, 2, 3, 7, 8, 9, 10, 13, 9, 7, 2, 3, 4, 11, 13, 14, 3, 13, 14, 2, 12, 2, 2, 10, 2, 6, 9, 12, 4, 11, 1, 2, 4, 5, 8, 11, 13, 14, 2, 8, 9, 10, 12, 7, 11, 11, 3, 14, 5, 9, 10, 12, 15, 10, 7, 1, 3, 13, 1, 6, 14, 15, 2, 4, 8, 1, 1, 7, 9, 4, 1, 2, 3, 4, 10, 11, 14, 15, 10, 11, 1, 2, 5, 7, 15, 15, 2, 7, 2, 5, 6, 13, 14, 15, 2, 3, 5, 12, 14, 7, 12, 1, 4, 1, 5, 13, 1, 4, 5, 6, 7, 8, 11, 13, 15, 1, 4, 5, 13, 6, 13, 6, 3, 5, 5, 13, 6, 14, 14, 1, 3, 6, 7, 8, 10, 13, 15, 7, 9, 5, 14, 2, 4, 8, 8, 4, 3, 14, 2, 3, 5, 6, 9, 14, 5, 8, 10, 5, 2, 1, 6, 10, 13, 12, 6, 1, 14, 5, 9, 1, 2, 7, 8, 13, 14, 1, 2, 4, 7, 10, 11, 13, 3, 13, 3, 10, 2, 3, 5, 8, 9, 1, 2, 5, 8, 9, 10, 10, 12, 1, 5, 9, 11, 12, 13, 15, 2, 3, 1, 3, 6, 11, 12, 4, 14, 13, 7, 4, 3, 10, 7, 15, 8, 1, 2, 5, 9, 12, 1, 4, 5, 2, 3, 4, 6, 8, 12, 2, 13, 1, 2, 15, 1, 8, 9, 15, 2, 9, 11, 10, 15, 2, 3, 6, 10, 2, 8, 9, 10, 12, 11, 4, 5, 7, 12, 13, 14, 1, 2, 6, 8, 9, 10, 12, 14, 1, 5, 12, 1, 4, 6, 7, 11, 15, 4, 6, 7, 11, 13, 4, 3, 7, 14, 4, 8, 12, 14, 10, 6, 11, 5, 9, 5, 2, 1, 4, 7, 9, 10, 1, 7, 9, 14, 1, 1, 2, 5, 9, 10, 13, 8, 9, 11, 3, 7, 3, 4, 8, 13, 9, 2, 2, 2, 6, 5, 9, 15, 3, 12, 8, 4, 6, 10], \"Freq\": [0.09501340090370222, 0.8313672579073945, 0.04750670045185111, 0.9765362902241457, 0.9789185196035486, 0.25603913214600027, 0.22694377622031844, 0.1978484202946366, 0.314229843997364, 0.067459390223465, 0.16086469976364734, 0.062270206360121545, 0.5759994088311243, 0.12454041272024309, 0.09821430154645186, 0.024553575386612965, 0.018415181539959722, 0.12276787693306482, 0.07979912000649213, 0.042968756926572683, 0.12890627077971806, 0.06138393846653241, 0.024553575386612965, 0.3683036307991944, 0.030691969233266204, 0.0166776399146834, 0.6087338568859441, 0.0917270195307587, 0.2835198785496178, 0.05631809101520886, 0.07039761376901107, 0.6898966149363086, 0.07039761376901107, 0.09855665927661551, 0.019625657304495905, 0.9616572079202993, 0.9792711039985703, 0.9701877799179932, 0.9918135923420665, 0.8755278272383998, 0.9838668554070049, 0.9710269291490184, 0.3566480243049624, 0.6300781762721003, 0.11689154189920263, 0.847463678769219, 0.982081240592533, 0.932208375048775, 0.006541108888752099, 0.18969215777381088, 0.15044550444129828, 0.08503441555377729, 0.4709598399901511, 0.08503441555377729, 0.013082217777504198, 0.9821297854415648, 0.9965843655306328, 0.7222037051855187, 0.07946577985860076, 0.011686144096853054, 0.03505843229055916, 0.09115192395545381, 0.007011686458111832, 0.053756262845524046, 0.974605514909784, 0.9678217857357684, 0.9843440530118825, 0.9415849363783627, 0.050689479513271914, 0.5271705869380279, 0.035482635659290336, 0.18755107419910608, 0.0557584274645991, 0.005068947951327191, 0.020275791805308765, 0.1115168549291982, 0.9743893892384404, 0.9819832492571033, 0.17320258105377706, 0.07577612921102746, 0.2489787102648045, 0.021650322631722133, 0.05412580657930533, 0.42218129131858156, 0.19129509930452634, 0.0546557426584361, 0.7378525258888874, 0.05474781403781037, 0.8102676477595935, 0.12044519088318281, 0.4048608455581533, 0.04763068771272392, 0.02381534385636196, 0.02381534385636196, 0.4921837730314805, 0.22545702840759013, 0.7559441540725081, 0.026312519310546935, 0.11402091701237006, 0.16664595563346393, 0.026312519310546935, 0.6665838225338557, 0.97396555420202, 0.015872773158148754, 0.1746005047396363, 0.10052756333494212, 0.11640033649309087, 0.026454621930247925, 0.05820016824654543, 0.047618319474446266, 0.03174554631629751, 0.42856487527001635, 0.9604787345325403, 0.9445043890032474, 0.044976399476345116, 0.9728683107749934, 0.9043312502145581, 0.09174375002176677, 0.9773127564561734, 0.954211835557497, 0.03534117909472211, 0.9640271618760349, 0.9374707984275941, 0.12269575349341025, 0.018590265680819736, 0.04833469077013131, 0.11525964722108235, 0.6952759364626581, 0.9945607288221207, 0.9700167749102618, 0.9710482373524054, 0.21543820589514998, 0.7809634963699187, 0.2581270941796036, 0.0028469900093338633, 0.051245820168009534, 0.688022585589017, 0.05058116977649941, 0.9465904629602033, 0.981408967657268, 0.9719067334254403, 0.8093224250270805, 0.17984942778379567, 0.9950625483277759, 0.9869396898301233, 0.25578562955717715, 0.01743992928798935, 0.043599823219973376, 0.3139187271838083, 0.06685306227062585, 0.029066548813315586, 0.0029066548813315583, 0.031973203694647144, 0.22671908074386157, 0.014533274406657793, 0.986008578649712, 0.9567858405089943, 0.9853649219906544, 0.12703574442153476, 0.8704301006660715, 0.055068049952211505, 0.16520414985663454, 0.1789711623446874, 0.48872894332587713, 0.027534024976105752, 0.041301037464158634, 0.041301037464158634, 0.11910505309774437, 0.8575563823037594, 0.12929064577068702, 0.05541027675886586, 0.7942139668770773, 0.9906213219310115, 0.9641649269652616, 0.22911622118921524, 0.14637980798199862, 0.03818603686486921, 0.5791548924505163, 0.9878468149364179, 0.9740497993091233, 0.9916499671802038, 0.9788798207404085, 0.8978211100940362, 0.9608833487810982, 0.940628513555023, 0.8517383988995701, 0.06991882379026322, 0.02542502683282299, 0.04449379695744023, 0.9442142796974493, 0.8512047010955918, 0.032426845756022546, 0.10538724870707326, 0.9774260486111693, 0.9238979270376666, 0.9887833556193101, 0.12296173640756337, 0.030740434101890843, 0.8299917207510528, 0.9983365315167778, 0.9942894210921931, 0.06497797675956535, 0.015912973900301716, 0.007956486950150858, 0.9096916746339148, 0.9251331883910725, 0.9421907703198158, 0.9785414687816885, 0.11155629595307298, 0.10040066635776568, 0.6916490349090525, 0.08924503676245837, 0.07174899677015265, 0.17219759224836637, 0.1865473916023969, 0.5739919741612212, 0.7587732639860878, 0.23227752979165953, 0.9887833556193101, 0.9925952352726101, 0.007249000153268931, 0.9949176298541237, 0.9121058604204857, 0.07476277544430211, 0.07582524052287984, 0.9099028862745582, 0.14832731852980177, 0.27069735631688824, 0.5043128830013259, 0.011124548889735133, 0.04449819555894053, 0.007416365926490088, 0.014832731852980176, 0.977563219320282, 0.9670847792933216, 0.9829722008230618, 0.9807032708837594, 0.9787315150919643, 0.9941718776597842, 0.20115149213834843, 0.010586920638860443, 0.07940190479145333, 0.22761879373549954, 0.037054222236011555, 0.43935720651270843, 0.9067539089601968, 0.9434025950232194, 0.02389078923060444, 0.17201368246035198, 0.04778157846120888, 0.7501707818409794, 0.979085250847882, 0.06845314712205729, 0.44494545629337234, 0.00855664339025716, 0.22675104984181477, 0.05561818203667154, 0.012834965085385742, 0.1283496508538574, 0.025669930170771484, 0.021391608475642903, 0.9084034121017355, 0.07365433071095152, 0.9486935788677258, 0.9691018181796723, 0.015630674486768907, 0.9784411543885649, 0.998079506653165, 0.9789702180049719, 0.07479742426333809, 0.897569091160057, 0.11749908055832738, 0.3172475175074839, 0.5522456786241386, 0.09780796182232199, 0.8639703294305109, 0.032602653940773996, 0.99161315530428, 0.9786425114976816, 0.25489547408131025, 0.6117491377951445, 0.11470296333658961, 0.9513326152323367, 0.05785748117708692, 0.07438819008482604, 0.13224567126191294, 0.07025551285789126, 0.450461817735891, 0.0826535445386956, 0.02892874058854346, 0.033061417815478236, 0.02892874058854346, 0.01239803168080434, 0.02479606336160868, 0.10637157717039411, 0.5065313198590196, 0.040522505588721565, 0.08104501117744313, 0.015195939595770586, 0.030391879191541172, 0.060783758383082344, 0.07597969797885293, 0.07597969797885293, 0.010130626397180391, 0.9350241378151972, 0.97396555606552, 0.94723231301847, 0.09091190566930521, 0.022727976417326302, 0.8863910802757258, 0.024405146352526743, 0.9640032809248064, 0.9739341393887908, 0.9046161311141828, 0.04316448682229497, 0.41437907349403175, 0.025898692093376984, 0.020143427183737652, 0.05179738418675397, 0.44315539804222837, 0.9441234822784172, 0.9190207985538543, 0.055698230215385114, 0.0828877027558609, 0.9117647303144699, 0.9395424076288255, 0.04997565998025667, 0.026537425417464733, 0.7342021032165243, 0.0796122762523942, 0.01769161694497649, 0.13268712708732366, 0.34450369283299853, 0.141334848341743, 0.013250142032038406, 0.4946719691961005, 0.20648101504123792, 0.04488717718287781, 0.6643302223065916, 0.04488717718287781, 0.026932306309726685, 0.9812394588948994, 0.14715206202881456, 0.057581241663449176, 0.18553955647111403, 0.038387494442299455, 0.08957082036536539, 0.08317290462498214, 0.012795831480766484, 0.3838749444229945, 0.08828565027212766, 0.027589265710039893, 0.011035706284015958, 0.7614637335971011, 0.04966067827807181, 0.03862497199405585, 0.022071412568031915, 0.9649634423857665, 0.981065531200683, 0.9929593080531428, 0.8091203942102505, 0.0539413596140167, 0.02157654384560668, 0.11867099115083674, 0.5438224993859813, 0.03729068567218157, 0.06681247849599198, 0.03729068567218157, 0.01553778569674232, 0.006215114278696928, 0.27346502826266483, 0.018645342836090786, 0.9582260168748133, 0.04117886812043741, 0.04117886812043741, 0.8922088092761439, 0.06205290995046976, 0.012410581990093953, 0.508833861593852, 0.016547442653458602, 0.08687407393065767, 0.05377918862374046, 0.25648536112860837, 0.03938360780777117, 0.2559934507505126, 0.01230737743992849, 0.21168689196677004, 0.017230328415899887, 0.034460656831799774, 0.22399426940669853, 0.014768852927914189, 0.05169098524769966, 0.03938360780777117, 0.09845901951942793, 0.9854466073070806, 0.21147870583985345, 0.26509302563023884, 0.02978573321688077, 0.02978573321688077, 0.193607265909725, 0.038721453181945, 0.08340005300726615, 0.1280786528325873, 0.0029785733216880768, 0.00893571996506423, 0.0059571466433761535, 0.9453718729602555, 0.12700545980150535, 0.08977972158382276, 0.11824646257381534, 0.350359889107601, 0.017517994455380048, 0.20145693623687058, 0.07883097504921023, 0.019707743762302558, 0.03097525206289896, 0.017985630230070365, 0.8473230241722037, 0.017985630230070365, 0.015987226871173658, 0.0029976050383450606, 0.007993613435586829, 0.058952899087452854, 0.9914724036604379, 0.038585010554112155, 0.9260402532986918, 0.003920597126741288, 0.8782137563900486, 0.011761791380223865, 0.031364777013930305, 0.02744417988718902, 0.04312656839415417, 0.7800392899099031, 0.18521480856308203, 0.03205640917437958, 0.9619493866769939, 0.05249168861931514, 0.05249168861931514, 0.8923587065283574, 0.9689298696446921, 0.9825810362607893, 0.08317501831382725, 0.12695134374215739, 0.34583297088380804, 0.25390268748431477, 0.052531590513996154, 0.14008424137065642, 0.9853164587279246, 0.9615394988195141, 0.9561425287228078, 0.20037219972911577, 0.08043109425746196, 0.01269964646170452, 0.0776089505993054, 0.2525818574050121, 0.12981860827520175, 0.0282214365815656, 0.04797644218866152, 0.035276795726957, 0.01552179011986108, 0.06632037596667917, 0.05503180133405292, 0.07302028028269313, 0.016226728951709582, 0.38944149484103, 0.056793551330983544, 0.4624617751237231, 0.057768174919246934, 0.12131316733041857, 0.057768174919246934, 0.7567630914421348, 0.9790852508478818, 0.8291824227873742, 0.048775436634551424, 0.09755087326910285, 0.9736228293759406, 0.9754508294200521, 0.9825987398740077, 0.992305676715239, 0.01488416175781457, 0.31256739691410595, 0.19349410285158938, 0.007442080878907285, 0.07814184922852649, 0.08558393010743377, 0.301404275595745, 0.916847268635542, 0.059151436686164, 0.018945306709124386, 0.07578122683649754, 0.46100246325536004, 0.05683592012737316, 0.01263020447274959, 0.3536457252369885, 0.01263020447274959, 0.9814291129554747, 0.9802141823623317, 0.05784626272014542, 0.07611350357913871, 0.17962786844676734, 0.030445401431655483, 0.10046982472446309, 0.09133620429496644, 0.08524712400863535, 0.04871264229064877, 0.04566810214748322, 0.003044540143165548, 0.1826724085899329, 0.027400861288489935, 0.05480172257697987, 0.012178160572662192, 0.961882575737189, 0.936563133564456, 0.936563133564456, 0.17266357474193045, 0.013281813441686958, 0.06640906720843479, 0.7304997392927827, 0.11960325172941096, 0.039867750576470316, 0.07176195103764657, 0.5422014078399964, 0.14352390207529314, 0.047841300691764385, 0.031894200461176254, 0.4011959297366854, 0.5920086280260844, 0.9938342737089038, 0.0897400915210951, 0.9086184266510879, 0.08859118780723538, 0.0964080573196385, 0.015633739024806245, 0.41950533049896754, 0.015633739024806245, 0.026056231708010406, 0.06514057927002602, 0.0026056231708010405, 0.010422492683204162, 0.03908434756201561, 0.007816869512403122, 0.13549240488165412, 0.07556307195323018, 0.1052953328963081, 0.3781059681276518, 0.11008148439159483, 0.06221996943872751, 0.1052953328963081, 0.08136457541987444, 0.03828921196229385, 0.11486763588688156, 0.9195695839182093, 0.059971929385970166, 0.9725422799802004, 0.7737460912572787, 0.18108951071978863, 0.04938804837812417, 0.9696360924605111, 0.9488541467818297, 0.974944603799714, 0.996547090947179, 0.986319361862597, 0.17911325343571408, 0.6567485959309516, 0.1641871489827379, 0.14786913690644707, 0.6949849434603012, 0.07393456845322353, 0.05914765476257882, 0.02218037053596706, 0.1163034795822546, 0.8528921836032005, 0.9900225206955348, 0.9820663403491254, 0.9717565125746923, 0.9905463860499077, 0.9881126639506007, 0.9438146450894755, 0.9936980754986212, 0.98128801324201, 0.16729835146039218, 0.19371388063834885, 0.07044141114121777, 0.5107002307738288, 0.05283105835591332, 0.9789079310994293, 0.02056941492660147, 0.42167300599533014, 0.11313178209630809, 0.4422424209219316, 0.9720205450129944, 0.9708877875102797, 0.08787002383578019, 0.8567327323988568, 0.05491876489736262, 0.8931596251801102, 0.05762320162452324, 0.043217401218392425, 0.9568217975783228, 0.028141817575833023, 0.9809646696526103, 0.2605238149053576, 0.7355966538504215, 0.27195472181283736, 0.030217191312537486, 0.12464591416421712, 0.06043438262507497, 0.0793201271954109, 0.022662893484403115, 0.06043438262507497, 0.05665723371100778, 0.05665723371100778, 0.22662893484403113, 0.011331446742201557, 0.9769046881605413, 0.9911883511075843, 0.9673179509056583, 0.10985065736667494, 0.7445433443741302, 0.13426191455926936, 0.9794192286817627, 0.9326069444561694, 0.04908457602400892, 0.9189453731501033, 0.07851748441472402, 0.18171525923962129, 0.028393009256190826, 0.3123231018180991, 0.04542881480990532, 0.38614492588419524, 0.04542881480990532, 0.9898222454220529, 0.06668970424900218, 0.5295947102126644, 0.05884385669029604, 0.27852758833406793, 0.06668970424900218, 0.06365100352526498, 0.03471872919559908, 0.01735936459779954, 0.15623428138019588, 0.6191506706548503, 0.00578645486593318, 0.02314581946373272, 0.08101036812306453, 0.9778602776208041, 0.9729741226967833, 0.9691400920297994, 0.046796084973035404, 0.873526919496661, 0.023398042486517702, 0.046796084973035404, 0.030882738529462196, 0.9573648944133282, 0.017850336650475033, 0.016734690609820344, 0.5823672332217479, 0.12383671051267053, 0.0055782302032734475, 0.004462584162618758, 0.030122443097676616, 0.006693876243928137, 0.17292513630147688, 0.04016325746356882, 0.005089300984019615, 0.005089300984019615, 0.25446504920098073, 0.11705392263245115, 0.24937574821696112, 0.04071440787215692, 0.025446504920098076, 0.01017860196803923, 0.01017860196803923, 0.055982310824215765, 0.18830413640872576, 0.0356251068881373, 0.9782837017281003, 0.9768183616648128, 0.6448965468068376, 0.2866206874697056, 0.0358275859337132, 0.02866206874697056, 0.9859884708455949, 0.9955552897118982, 0.020152916769486568, 0.6189824436342303, 0.04606380975882644, 0.020152916769486568, 0.05757976219853305, 0.1036435719573595, 0.13243345305662602, 0.03854556721685151, 0.8383660869665205, 0.11563670165055455, 0.043460357463890556, 0.15935464403426539, 0.08692071492778111, 0.6808789336009521, 0.028973571642593704, 0.9586249260844775, 0.9667798571738507, 0.038156823975431735, 0.2046593285954975, 0.7561988751494653, 0.12928236146081065, 0.5067868569263777, 0.015513883375297279, 0.05688423904275668, 0.062055533501189114, 0.2223656617125943, 0.9933196637994746, 0.13974466904270036, 0.8384680142562022, 0.9831395222755198, 0.9797884756848021, 0.013241125220901677, 0.9715675630836604, 0.014896265873514386, 0.979014424030025, 0.8628369443742625, 0.04706383332950523, 0.07843972221584204, 0.3239976492154783, 0.0039754312787175245, 0.031140878349953945, 0.365077105762226, 0.004638003158503779, 0.16763068558592228, 0.00033128593989312704, 0.013251437595725083, 0.08017119745413676, 0.009607292256900685, 0.16585626616947252, 0.04958589400942993, 0.06668447815061265, 0.4018167273177942, 0.15046754044240804, 0.018808442555301005, 0.06839433656473093, 0.07523377022120402, 0.847700710941349, 0.1483476244147361, 0.9877170280553714, 0.313952012548269, 0.018467765444015825, 0.09233882722007912, 0.104650670849423, 0.09233882722007912, 0.3816671525096604, 0.9797464156165487, 0.04617451426721528, 0.27704708560329167, 0.14429535708504773, 0.063489957117421, 0.40979881412153557, 0.01731544285020573, 0.040402699983813364, 0.06223849850487301, 0.09335774775730951, 0.09780335479337188, 0.04445607036062358, 0.0844665336851848, 0.18671549551461902, 0.02667364221637415, 0.04445607036062358, 0.04001046332456122, 0.01778242814424943, 0.28896445734405324, 0.02222803518031179, 0.07248348245187322, 0.176678488476441, 0.44396133001772353, 0.027181305919452458, 0.14496696490374644, 0.054362611838904916, 0.013590652959726229, 0.04530217653242077, 0.013590652959726229, 0.9933103933304539, 0.006716201746483013, 0.3290938855776676, 0.4096883065354638, 0.1611888419155923, 0.09402682445076219, 0.9797101236919645, 0.923344759171725, 0.020685931468205652, 0.03949132371202897, 0.015044313795058656, 0.9904178565500462, 0.27843336523830653, 0.07540903641870803, 0.49305908427616785, 0.15081807283741605, 0.12302574218903829, 0.019090201374161113, 0.02757473531823272, 0.008484533944071606, 0.004242266972035803, 0.8166363921168921, 0.9502278389694679, 0.9937779504816706, 0.14735097157365193, 0.045338760484200595, 0.2606978727841534, 0.07934283084735104, 0.43071822459990566, 0.022669380242100298, 0.979085250847882, 0.907223607727183, 0.07888900936758113, 0.9814583539225225, 0.9910896741848597, 0.040382536799282664, 0.9287983463835013, 0.9596287343914098, 0.10357169109332251, 0.2542214235927007, 0.1788965573430116, 0.08474047453090024, 0.37662433124844547, 0.06892586358184487, 0.07422785308814063, 0.3605352864281116, 0.053019895062957595, 0.04771790555666183, 0.0636238740755491, 0.037113926544070315, 0.04771790555666183, 0.2332875382770134, 0.01060397901259152, 0.9503167438390873, 0.21649518344453567, 0.2306144345387445, 0.04706417031402949, 0.46593528610889196, 0.032944919219820644, 0.936563133564456, 0.936563133564456, 0.936563133564456, 0.06488652466033781, 0.03707801409162161, 0.6581347501262835, 0.24100709159554046, 0.02836719340100652, 0.9361173822332152, 0.9690518347439552, 0.06326110222009791, 0.010543517036682985, 0.8961989481180537, 0.031630551110048956, 0.9817942326682192, 0.6484370403885257, 0.0035847256532535203, 0.0039830285036150225, 0.003186422802892018, 0.0892198384809765, 0.003186422802892018, 0.0007966057007230045, 0.003186422802892018, 0.008364359857591546, 0.23619359026437084, 0.9697811335866404, 0.9505265708385554, 0.9689687709345868, 0.44317373546705335, 0.032230817124876604, 0.319622269821693, 0.19875670560340575, 0.0026859014270730506, 0.9891490909618494, 0.09249383827152297, 0.9054659957106985, 0.9453718736953526, 0.19301912859047915, 0.04825478214761979, 0.13511339001333542, 0.6176612114895332, 0.004808754587762839, 0.956942162964805, 0.024043772938814195, 0.007213131881644259, 0.007213131881644259, 0.9827724825938989, 0.9839057096541429, 0.9534234811224903, 0.03882079483201922, 0.8618216452708267, 0.08022964265283973, 0.015528317932807689, 0.2670531429310865, 0.7248585308129492, 0.9212579033922157, 0.05809734525896856, 0.016599241502562444, 0.02088284046351712, 0.9762727916694254, 0.9773100882574034, 0.02545622492334193, 0.9673365470869933, 0.9519292419839964, 0.6949959160897442, 0.02542667985694186, 0.18646231895090698, 0.08475559952313953, 0.9564788484180875, 0.36141530782241893, 0.36141530782241893, 0.27440791890220695, 0.9500203046018566, 0.949630971535668, 0.9546316503671698, 0.03886541070197129, 0.004858176337746411, 0.9514127550981931, 0.5859429217144909, 0.004266574672678333, 0.4095911685771199, 0.8307890315037676, 0.0680178154447529, 0.09716830777821843, 0.9873861223999124, 0.12578098689282496, 0.8553107108712097, 0.02821138537668596, 0.4292160775167221, 0.10075494777387843, 0.022166088510253253, 0.18135890599298116, 0.0060452968664327054, 0.02821138537668596, 0.13702672897247467, 0.062468067619804626, 0.004030197910955137, 0.9853571445905852, 0.8573351547353613, 0.12989926586899414, 0.9790852508478818, 0.015186993342036397, 0.015186993342036397, 0.06074797336814559, 0.09112196005221838, 0.7897236537858926, 0.9790852508478814, 0.9413751738781255, 0.11272207024598956, 0.06441261156913689, 0.08051576446142111, 0.19323783470741066, 0.02012894111535528, 0.02818051756149739, 0.060386823346065835, 0.4428367045378161, 0.11837768768351113, 0.5411551436960509, 0.3382219648100318, 0.920496597240027, 0.9921482531021499, 0.9761764056293065, 0.9688421086230291, 0.9625433718652477, 0.9675796491229118, 0.017918141650424293, 0.03640811591509453, 0.02600579708221038, 0.2184486954905672, 0.7177599994690066, 0.06788341296718081, 0.1583946302567552, 0.042023065170159545, 0.18102243457914882, 0.3070916300896275, 0.09697630423882972, 0.06465086949255315, 0.006465086949255315, 0.042023065170159545, 0.029092891271648918, 0.7449910531384649, 0.20317937812867223, 0.05267613507039651, 0.7671823243923855, 0.04611478452631826, 0.02515351883253723, 0.020961265693781025, 0.10480632846890513, 0.03353802511004964, 0.04727777440542067, 0.04727777440542067, 0.5153277410190853, 0.03782221952433654, 0.3403999757190288, 0.009455554881084134, 0.9044155530630898, 0.07864483070113824, 0.9935940270386164, 0.917256025271387, 0.07806434257628826, 0.9740010497653064, 0.1040912814643115, 0.016693884763144297, 0.0471356746253486, 0.0029459796640842876, 0.016693884763144297, 0.5999978582518333, 0.004909966106807146, 0.07168550515938434, 0.05695560683896289, 0.01276591187769858, 0.05793760006032432, 0.008837938992252863, 0.04509342832748306, 0.8825428115521685, 0.07086110165747338, 0.9830358011496337, 0.9794457945189071, 0.992647596716536, 0.0634346981616969, 0.8880857742637566, 0.9792267236898674, 0.991649967269895, 0.947850759611084, 0.9586441955350256, 0.04011865582325759, 0.6877483855415587, 0.051581128915616906, 0.01719370963853897, 0.17193709638538968, 0.02865618273089828, 0.8865634687071302, 0.09636559442468806, 0.919718498983144, 0.979692075188237, 0.9643460884471206, 0.9819851393244594, 0.01423166868586173, 0.017584072699583734, 0.9671239984771053, 0.3196710594423269, 0.518385501798368, 0.15551565053951039, 0.41607143277031705, 0.024474790162959826, 0.07342437048887948, 0.4894958032591965, 0.9792711039985703, 0.6334503641696007, 0.034804965064263775, 0.2157907833984354, 0.06264893711567479, 0.05568794410282204, 0.9477476154021732, 0.9656263902737353, 0.12245019029903978, 0.06997153731373701, 0.06997153731373701, 0.2274074962696453, 0.5072936455245933, 0.10131717666724865, 0.13026494142931969, 0.08201866682586796, 0.47281349111382703, 0.21228360825518766, 0.9200788313421332, 0.014839981150679568, 0.06677991517805806, 0.2452967196287354, 0.006336077628786523, 0.017197924992420562, 0.1927977907045042, 0.14572978546209003, 0.07603293154543828, 0.053404082871200693, 0.06788654602271274, 0.02534431051514609, 0.08055870128028579, 0.017197924992420562, 0.0280597723560546, 0.043447389454536155, 0.9900923985980771, 0.961421158509434, 0.9801922710246465, 0.9734045916625689, 0.9889878006263579, 0.1072322879420245, 0.8846663755217021, 0.7887844137485751, 0.2057698470648457, 0.007012151451857001, 0.007012151451857001, 0.24542530081499503, 0.48383845017813304, 0.20335239210385303, 0.010518227177785501, 0.010518227177785501, 0.031554681533356506, 0.0035060757259285005, 0.02706503588381689, 0.16030828946568465, 0.12699747607021772, 0.2706503588381689, 0.024983110046600206, 0.14573480860516785, 0.05621199760485046, 0.15198058611681792, 0.03331081339546694, 0.9869491150226617, 0.08957124509066283, 0.8957124509066284, 0.9704800415047291, 0.9554552848546066, 0.7802351235335314, 0.2065328268176995, 0.9834589287302149, 0.9565381757967737, 0.044201859410486814, 0.9282390476202231, 0.9600961139846053, 0.9487323337827606, 0.9623321000005756, 0.017660478009492497, 0.15894430208543248, 0.06622679253559687, 0.20309549710916372, 0.11479310706170123, 0.03090583651661187, 0.026490717014238746, 0.08830239004746249, 0.22517109462102933, 0.07064191203796999, 0.30018171066018456, 0.01250757127750769, 0.6128709925978768, 0.03752271383252307, 0.02501514255501538, 0.9892014047329846, 0.974099396915905, 0.967084780094582, 0.9640719589562311, 0.9728475470667419, 0.027832450286272663, 0.9630027799050341, 0.9780155162711949, 0.03501626143949152, 0.6723122196382372, 0.03501626143949152, 0.07703577516688134, 0.028013009151593216, 0.02100975686369491, 0.05602601830318643, 0.028013009151593216, 0.04902276601528813, 0.9655825970360018, 0.9518659034280587, 0.9628564431383547, 0.9560231573533229, 0.9939877106680607, 0.9903555607575796, 0.9610335321002668, 0.022881750764292066, 0.7118993087506588, 0.08293972529133888, 0.04492568453280856, 0.04838150641994768, 0.01036746566141736, 0.02073493132283472, 0.02419075320997384, 0.03110239698425208, 0.02764657509711296, 0.9506180067908198, 0.9586441966048427, 0.9656461981137984, 0.9848621946302862, 0.12498195849657823, 0.11361996226961657, 0.08521497170221243, 0.5709403104048233, 0.04828848396458704, 0.011361996226961657, 0.008521497170221243, 0.017042994340442486, 0.017042994340442486, 0.05113255003601112, 0.9203859006482001, 0.03475061556106948, 0.8340147734656677, 0.1216271544637432, 0.01737530778053474, 0.979085250847882, 0.007513445296768047, 0.48086049899315503, 0.16905251917728106, 0.13524201534182487, 0.19159285506758522, 0.01127016794515207, 0.9334448818296591, 0.07180345244843532, 0.9601080881640993, 0.9214682034040179, 0.07800917512465085, 0.9101070431209265, 0.9956793622519536, 0.9969007399176967, 0.9402042420900497, 0.037714753324512316, 0.052220427680093974, 0.04641815793786131, 0.02465964640448882, 0.018857376662256158, 0.034813618453395985, 0.052220427680093974, 0.16681525508918907, 0.26545384070714434, 0.0812317763912573, 0.055121562551210306, 0.02465964640448882, 0.06527553460011747, 0.07688007408458279, 0.041617465232807925, 0.6970925426495328, 0.041617465232807925, 0.21849169247224162, 0.9618988393988084, 0.1167599963426129, 0.7589399762269838, 0.1167599963426129, 0.10879101431850753, 0.040796630369440326, 0.8431303609684334, 0.1665409801229489, 0.23361998600580333, 0.1202795967554631, 0.22436770933230618, 0.15266256511270318, 0.009252276673497161, 0.04626138336748581, 0.018504553346994322, 0.025443760852117196, 0.0046261383367485805, 0.2937497756409358, 0.057399381447079414, 0.15869240753016073, 0.04727007883877128, 0.04727007883877128, 0.20596248636893202, 0.18908031535508513, 0.9456564570640518, 0.02514538535583615, 0.07543615606750845, 0.8800884874542653, 0.9873861231656483, 0.03986104970618699, 0.9300911598110299, 0.026574033137457997, 0.19542498231482114, 0.7994658367424502, 0.9949052311372869, 0.9614194386304878, 0.9488541411507726, 0.963701604589867, 0.9742500235357491, 0.9852054956007052, 0.0653066587207726, 0.9142932220908164, 0.9489858353775473, 0.9363083706054688, 0.9524726507141679, 0.988511524976262, 0.07751214565722805, 0.07751214565722805, 0.033219490995954885, 0.12180480031850124, 0.5204386922699599, 0.07751214565722805, 0.08858530932254635, 0.990638296661231, 0.9495414652042252, 0.08494288828576907, 0.9060574750482034, 0.9470199383369472, 0.9752171406911635, 0.9620941873684722, 0.23451744212662212, 0.7556673135191158, 0.14953000405056469, 0.08348758559489862, 0.608088683138963, 0.11962400324045175, 0.03987466774681725, 0.05205864412014138, 0.706901588578762, 0.024659357741119603, 0.023289393422168514, 0.017809536146364158, 0.008219785913706534, 0.010959714551608712, 0.14247628917091326, 0.012329678870559801, 0.08717786110307262, 0.713768737781407, 0.19070157116297135, 0.0054486163189420385, 0.9841952508574081, 0.9790144248587066, 0.8814968049483733, 0.09323523898492411, 0.016951861633622566, 0.9394761543845612, 0.05368435167911778, 0.006398251287437884, 0.991728949552872, 0.9910196363411279, 0.011377007218666182, 0.1934091227173251, 0.5916043753706415, 0.034131021655998545, 0.07963905053066328, 0.04550802887466473, 0.04550802887466473, 0.038597087304418895, 0.29591100266721154, 0.025731391536279263, 0.05146278307255853, 0.5017621349574456, 0.07719417460883779, 0.31587580132444815, 0.6862129477048355, 0.5186693301249528, 0.0812151264252595, 0.2362621859643913, 0.03137857157339572, 0.08490672308095312, 0.04614495819617018, 0.041211564926559696, 0.958168884542513, 0.9641854300094042, 0.9650353901836646, 0.03738469147945905, 0.9533096327262058, 0.9282486741801536, 0.9453718732495138, 0.9736238667301075, 0.9843542192194735, 0.9839679753770253, 0.802074169775469, 0.19097004042273072, 0.9710643302243767, 0.9776391392852485, 0.06070348024490547, 0.9375315282268734, 0.9748183738328147, 0.9628564494907564, 0.9544686099829109, 0.9890478012977699, 0.020107673276858466, 0.13213613867649848, 0.13788118818417233, 0.3360853961989201, 0.051705445569064624, 0.051705445569064624, 0.04596039606139078, 0.04596039606139078, 0.01723514852302154, 0.04308787130755386, 0.09479331687661849, 0.01723514852302154, 0.005745049507673848, 0.15755921851070556, 0.007502819929081217, 0.1275479387943807, 0.4389149658512512, 0.011254229893621827, 0.14630498861708374, 0.09003383914897461, 0.022508459787243654, 0.04845756246523795, 0.94492246807214, 0.035057749971321196, 0.4748731587024416, 0.0892379090179085, 0.40157059058058825, 0.9986034670146261, 0.9948944464758352, 0.13095612536424325, 0.8699228327767587, 0.6215430626238664, 0.1024521531797582, 0.12294258381570984, 0.1570933015422959, 0.017354842406945452, 0.9793089643919219, 0.02912153565655487, 0.9318891410097558, 0.9451082157139433, 0.8721011233961596, 0.039640960154370894, 0.07928192030874179, 0.9527812979018531, 0.9913095775663183, 0.935429950531341, 0.9900731900471322, 0.00961236106841876, 0.11119843900765232, 0.8895875120612186, 0.35766552625277903, 0.5677940229262867, 0.07600392432871554, 0.9527812935498228, 0.8068361661847824, 0.02373047547602301, 0.09492190190409204, 0.05932618869005753, 0.011865237738011505, 0.08798859598475385, 0.15282229828930932, 0.3565853626750551, 0.06946468104059515, 0.05557174483247612, 0.09725055345683321, 0.0602027235685158, 0.04167880862435709, 0.06483370230455547, 0.004630978736039677, 0.7952777588134025, 0.16051477700820965, 0.043776757365875364, 0.5108760653651543, 0.48771291882466866, 0.0012868414744714213, 0.4152946215458783, 0.05012176466933014, 0.035801260478092956, 0.49405739459768283, 0.977101903217638, 0.9969340054007769, 0.9960800255335946, 0.936563133564456, 0.7003346201382673, 0.12969159632190136, 0.034584425685840366, 0.008646106421460091, 0.017292212842920183, 0.095107170636061, 0.017292212842920183, 0.03978173610432446, 0.928240509100904, 0.026521157402882974, 0.9931518569167999, 0.9678129669274014, 0.7898374451361049, 0.2027961007781891, 0.9790144241333879, 0.98764461333014, 0.9316631455262567, 0.027316377771244557, 0.07284367405665215, 0.009105459257081519, 0.16389826662746734, 0.6282766887386249, 0.07284367405665215, 0.027316377771244557, 0.9755572829950634, 0.150905731797156, 0.829981524884358, 0.7904939555695157, 0.19762348889237893, 0.9993440818005574, 0.974089494401242, 0.023057047415038688, 0.21739501848465048, 0.6126586884567422, 0.003293863916434098, 0.14163614840666622, 0.9783282517942119, 0.24782288423739193, 0.07434686527121759, 0.14249815843650038, 0.06195572105934798, 0.024782288423739196, 0.30977860529673995, 0.055760148953413184, 0.08054243737715239, 0.9611726078638742, 0.03640805332817705, 0.025133413724731254, 0.1382337754860219, 0.39375681502078963, 0.07121133888673854, 0.18431170064802918, 0.13404487319856667, 0.054455729736917716, 0.076748005022973, 0.1883814668745701, 0.2581523805318183, 0.3209462028233417, 0.076748005022973, 0.076748005022973, 0.14099124402505697, 0.43707285647767663, 0.09399416268337132, 0.061096205744191355, 0.09399416268337132, 0.15979007656173125, 0.009399416268337133, 0.04438290609756462, 0.07988923097561632, 0.16865504317074556, 0.15977846195123263, 0.5325948731707755, 0.8182721110360953, 0.03610024019276891, 0.08423389378312746, 0.06016706698794819, 0.9781531122548275, 0.9857700762974826, 0.9722613676886931, 0.05842882330736258, 0.9348611729178012, 0.9749688116334101, 0.936563133564456, 0.22291064464693824, 0.696595764521682, 0.07430354821564608, 0.025074205083088663, 0.19223557230367974, 0.1086548886933842, 0.025074205083088663, 0.5349163751058914, 0.050148410166177326, 0.016716136722059106, 0.04179034180514777, 0.05159078800759077, 0.9286341841366338, 0.010318157601518153, 0.917917917110204, 0.009480842336349524, 0.07239915965939638, 0.12675416689972244, 0.8239020848481958, 0.03168854172493061, 0.9757261204978309, 0.9904074280629954, 0.22159753810881488, 0.7755913833808521, 0.9844773910024092, 0.013236670803393738, 0.9850567695782816, 0.06297746162146355, 0.9289175589165872, 0.9470395512844293, 0.03382284111730104, 0.9606278003883586, 0.35643224967666465, 0.016055506742192104, 0.012844405393753682, 0.20872158764849733, 0.3307434388891573, 0.035322114832822625, 0.01926660809063052, 0.01926660809063052, 0.9399100258445762, 0.051002869619473125, 0.9613199166156258, 0.8793530411501632, 0.11952371433109016, 0.985469815386853, 0.9695272678799294, 0.980729157942807, 0.060020742517379135, 0.0505437831725298, 0.8592443139330066, 0.02843087803454801, 0.9698937317468109, 0.994687060198032, 0.07720689339173342, 0.013427285807257987, 0.023497750162701475, 0.6948620405256007, 0.12084557226532187, 0.04699550032540295, 0.02014092871088698, 0.7631413551284176, 0.019821853379958898, 0.014866390034969175, 0.13379751031472256, 0.05451009679488698, 0.014866390034969175, 0.972618812170256, 0.9843909128326024, 0.9767399771769295, 0.9475047137018824, 0.9609063257443258, 0.993133319032433, 0.9592979365921435, 0.7614737709784807, 0.23335486529985697, 0.09828290608258028, 0.06717177034420954, 0.6547479930393478, 0.08272733821339491, 0.09262633594833106, 0.004949498867468071, 0.018380373481430453, 0.9251454652319995, 0.018380373481430453, 0.036760746962860906, 0.008749939814290064, 0.11374921758577083, 0.22749843517154167, 0.4462469305287933, 0.20124861572867148, 0.9504687853120243, 0.5825304311450815, 0.025438010093671685, 0.007631403028101506, 0.027981811103038854, 0.15771566258076444, 0.01780660706557018, 0.022894209084304517, 0.0814016322997494, 0.025438010093671685, 0.025438010093671685, 0.025438010093671685, 0.029146465652765387, 0.025503157446169714, 0.21859849239574042, 0.14208902005723126, 0.021859849239574042, 0.043719698479148084, 0.2841780401144625, 0.05100631489233943, 0.021859849239574042, 0.09108270516489184, 0.0692228559253178, 0.1669648294905467, 0.0760617556568046, 0.048234284075046825, 0.012986153404820299, 0.08812032667556632, 0.2476644970776443, 0.04081362498657808, 0.08904790906162491, 0.04359637214475386, 0.025972306809640598, 0.04081362498657808, 0.024117142037523413, 0.03988604260051949, 0.027827471581757784, 0.02875505396781638, 0.9467535777275211, 0.3004781964992037, 0.03906216554489648, 0.09915780484473721, 0.0570908573348487, 0.01802869178995222, 0.027043037684928332, 0.37860252758899665, 0.03305260161491241, 0.027043037684928332, 0.015023909824960185, 0.9352256422536036, 0.9973819191861953, 0.2547141178132245, 0.09551779417995919, 0.038207117671983676, 0.02547141178132245, 0.5603710591890939, 0.02547141178132245, 0.04136356804966429, 0.04136356804966429, 0.9099984970926144, 0.09464719845553872, 0.006106270868099273, 0.0030531354340496363, 0.8945686821765434, 0.8426729682631815, 0.14606331449895146, 0.010707425120466824, 0.9850831110829478, 0.9583957856773122, 0.0407161608294283, 0.987227471916561, 0.24789199068556098, 0.12220027709851597, 0.08379447572469666, 0.10474309465587082, 0.038405801373819305, 0.09776022167881278, 0.04888011083940639, 0.1012516581673418, 0.01396574595411611, 0.006982872977058055, 0.13267458656410305, 0.976722617758414, 0.9945381075175644, 0.018228501428494047, 0.6653403021400327, 0.17317076357069344, 0.0820282564282232, 0.05468550428548214, 0.04757507176263759, 0.04757507176263759, 0.04162818779230789, 0.11893767940659397, 0.07136260764395638, 0.023787535881318794, 0.13677833131758307, 0.03568130382197819, 0.4698038336560462, 0.10114214385318387, 0.10114214385318387, 0.6429750573523833, 0.14448877693311982, 0.14903660723104087, 0.07795760993623677, 0.07337186817528166, 0.09630057698005719, 0.0619075137728939, 0.10088631874101228, 0.02063583792429797, 0.009171483521910207, 0.043564546729073485, 0.27285163477682867, 0.06878612641432656, 0.01375722528286531, 0.01146435440238776, 0.1977884308566427, 0.166322089583995, 0.0314663412726477, 0.022475958051891214, 0.04495191610378243, 0.40007205332366363, 0.004495191610378243, 0.004495191610378243, 0.06742787415567364, 0.008990383220756485, 0.04495191610378243, 0.014571978984121993, 0.4128727378834565, 0.2040077057777079, 0.04857326328040665, 0.03400128429628465, 0.014571978984121993, 0.0825745475766913, 0.18457840046554524, 0.9446245245400015, 0.052479140252222306, 0.010988758341200562, 0.39925821973028713, 0.05128087225893596, 0.06226963060013652, 0.029303355576534833, 0.007325838894133708, 0.10256174451787192, 0.18680889180040958, 0.0879100667296045, 0.01831459723533427, 0.04395503336480225, 0.1677394205132995, 0.009867024736076441, 0.6906917315253508, 0.08880322262468797, 0.02960107420822932, 0.5468520448950552, 0.09020239915794726, 0.022550599789486814, 0.10147769905269066, 0.0817459242368897, 0.056376499473717034, 0.019731774815800962, 0.0028188249736858517, 0.01691294984211511, 0.028188249736858517, 0.028188249736858517, 0.25761156420250025, 0.0064402891050625065, 0.5055626947474068, 0.03864173463037504, 0.11592520389112511, 0.025761156420250026, 0.048302168287968794, 0.957757105162203, 0.974982188347416, 0.9870351265206901, 0.12032025145537778, 0.04010675048512592, 0.6350235493478271, 0.046791208899313576, 0.08021350097025184, 0.026737833656750618, 0.0066844584141876546, 0.03342229207093827, 0.9858686124222799, 0.06482315448621383, 0.09474153347985098, 0.8377146118218403, 0.8755278241964805, 0.9717375538933006, 0.947419947388709, 0.9019756918067675, 0.0964904228444449, 0.1436800348398379, 0.028736006967967583, 0.04310401045195137, 0.4885121184554489, 0.27299206619569205, 0.07631009552315994, 0.8902844477701993, 0.9922757446666637, 0.9279493801753776, 0.0531216167365274, 0.00531216167365274, 0.019477926136726713, 0.03541441115768493, 0.5754841813123801, 0.08499458677844383, 0.11686755682036026, 0.04249729338922192, 0.017707205578842464, 0.014165764463073972, 0.03718513171556918, 0.9783282519124626, 0.934888355329598, 0.1221464812283018, 0.8702936787516503, 0.9834652210386448, 0.9944830575781656, 0.07734261452057788, 0.6445217876714823, 0.24491827931516325, 0.03867130726028894, 0.9824077492600467, 0.9897276964664026, 0.970365959214671, 0.9887225268183026, 0.9016652786847053, 0.5150130824658471, 0.14615236124030798, 0.20182945123661575, 0.0835156349944617, 0.04871745374676932, 0.059393694844356935, 0.5175736265008247, 0.16545386420928002, 0.038181660971372315, 0.16545386420928002, 0.050908881295163085, 0.5248911026565359, 0.19380594559625944, 0.23821980812873556, 0.012112871599766215, 0.032300990932709904, 0.9490869217180217, 0.03697329567032174, 0.007783851720067735, 0.5798969531450463, 0.009729814650084668, 0.04864907325042334, 0.0019459629300169338, 0.2782726989924215, 0.03697329567032174, 0.9747494728456172, 0.9697781235424972, 0.009937613410272779, 0.2782531754876378, 0.024844033525681947, 0.6658200984882762, 0.009937613410272779, 0.009937613410272779, 0.13414913595206956, 0.0958208113943354, 0.7474023288758161, 0.2813043220826697, 0.7088868916483277, 0.9866012179304385, 0.8895415055717631, 0.09363594795492243, 0.338847153833314, 0.01355388615333256, 0.4246884328044202, 0.2213801405044318, 0.09503219968381921, 0.8933026770279006, 0.08213462496111852, 0.7575999735219588, 0.025743688420649086, 0.00980711939834251, 0.011033009323135322, 0.04658381714212692, 0.0012258899247928137, 0.06497216601401913, 0.09796584506960834, 0.01959316901392167, 0.01959316901392167, 0.05877950704176501, 0.7935233450638276, 0.9313568427866454, 0.03880653511611023, 0.9792711039985703, 0.11282797207699131, 0.8650144525902667, 0.0626805288228373, 0.13789716341024205, 0.6644136055220754, 0.07521663458740475, 0.05014442305826984, 0.9538149471494358, 0.9362246103895439, 0.15089171763643172, 0.1005944784242878, 0.7209270953740626, 0.9759808780941119, 0.9657194777889868, 0.3099467263521015, 0.6762474029500397, 0.9639176228819503, 0.9937280402612652, 0.9918686734720898, 0.9882549608308612, 0.8165195721452322, 0.17923600364163633, 0.003983022303147473, 0.997333393367611, 0.03105752584945739, 0.03105752584945739, 0.018634515509674435, 0.06832655686880626, 0.7329576100471944, 0.02484602067956591, 0.006211505169891478, 0.08074956720858921, 0.9184589137450015, 0.9792711039985703, 0.1405441790066863, 0.20300825856521354, 0.062464079558527244, 0.09369611933779086, 0.48409661657858616, 0.9826624599435029, 0.9581409280035305, 0.9663539257984844, 0.053617802595331686, 0.8176714895788082, 0.022340751081388204, 0.017872600865110562, 0.013404450648832921, 0.07149040346044225, 0.17887579159398154, 0.026831368739097233, 0.017887579159398155, 0.48296463730375017, 0.2951450561300695, 0.9720585211418842, 0.01816931815218475, 0.9912214899452363, 0.9711963022927387, 0.8221473940724571, 0.1436762436243129, 0.02394604060405215, 0.2753124372151108, 0.01696237764832436, 0.10568866073186718, 0.003914394841921007, 0.1435278108704369, 0.024791167332166374, 0.14613740743171758, 0.2674836475312688, 0.015657579367684027, 0.30603913190736975, 0.037095652352408456, 0.5378869591099226, 0.11128695705722537, 0.9590828756410922, 0.016535911648984346, 0.9813997659531353, 0.044111534637250566, 0.9410460722613453, 0.9973486149434342, 0.8755278264029578, 0.07018357213397997, 0.9123864377417397, 0.9537471571253171, 0.07753603805795167, 0.0947662687374965, 0.060305807378406864, 0.03446046135908964, 0.5341371510658893, 0.12061161475681373, 0.025845346019317227, 0.04307557669886204, 0.8612770457768641, 0.13049652208740364, 0.968953516802383, 0.9498004939321183, 0.01321178522861617, 0.9842779995319046, 0.991058781041162, 0.9580143841922529, 0.9485538366641051, 0.9963500612860561, 0.0027334706756819097, 0.054461364761787, 0.508306071110012, 0.02420505100523867, 0.036307576507858, 0.13917904328012234, 0.23599924730107702, 0.97543079746375, 0.9745056351501754, 0.9674953019216364, 0.9769572162341449, 0.9691259769858591, 0.9916047096572723, 0.9716466832441879, 0.9736618543134071, 0.9939178733539454, 0.9756194300229135, 0.9540230946966729, 0.03141512753675399, 0.9424538261026197, 0.2654246699053533, 0.7299178422397216, 0.013772557780837427, 0.11706674113711814, 0.6541964945897778, 0.1514981355892117, 0.027545115561674854, 0.027545115561674854, 0.368219983877857, 0.07934021752064321, 0.16274916414490914, 0.16071479959309778, 0.03254983282898183, 0.14647424773041823, 0.04679038469166138, 0.999184015421242, 0.9810274367800534, 0.5820205820229114, 0.41748558851341633, 0.18735039371030893, 0.034063707947328895, 0.6983060129202423, 0.04257963493416112, 0.034063707947328895, 0.012109368106113513, 0.04843747242445405, 0.0968749448489081, 0.6296871415179026, 0.12109368106113513, 0.08476557674279458, 0.9851821213626872, 0.9214621231741528, 0.15811931883864147, 0.4860704986521201, 0.06441898174907615, 0.02928135534048916, 0.046850168544782654, 0.005856271068097832, 0.1991132163153263, 0.05686781517315331, 0.9383189503570297, 0.07439039529846017, 0.037195197649230086, 0.8058959490666519, 0.037195197649230086, 0.04959359686564011, 0.9772240714576728, 0.9675143938107719, 0.9400480723118211, 0.9616374423494133, 0.980887909842539, 0.009895429123256437, 0.9895429123256437, 0.9272649056873175, 0.9459726668059042, 0.9970927163101583, 0.12412263795309116, 0.744735827718547, 0.010343553162757596, 0.05171776581378798, 0.07240487213930318, 0.9765663459975027, 0.9619700175367429, 0.9893761774240699, 0.17569264871475468, 0.02928210811912578, 0.12688913518287837, 0.22449616224663096, 0.01952140541275052, 0.4197102163741362, 0.9565381856614281, 0.9690269382751561, 0.3559617687468373, 0.06281678272003012, 0.5653510444802711, 0.1266190384942255, 0.8320679672477677, 0.03617686814120729, 0.9812388976935967, 0.11342162910997916, 0.018903604851663192, 0.8506622183248437, 0.9237154661292364, 0.9640271622823592, 0.962774426542742, 0.06737733331250487, 0.7916836664219322, 0.13475466662500973, 0.06218180571480542, 0.06783469714342409, 0.2035040914302723, 0.3787437257174512, 0.28264457143093374, 0.9790852508478817, 0.973891980469545, 0.9750275991242294, 0.01288582730120127, 0.00429527576706709, 0.00429527576706709, 0.00429527576706709, 0.027002343557531446, 0.08100703067259434, 0.04050351533629717, 0.37128222391605736, 0.1417623036770401, 0.12826113189827437, 0.013501171778765723, 0.18901640490272012, 0.019288199247388, 0.9644099623694, 0.9628564500223619, 0.3458581607826575, 0.13516295938632594, 0.03577843042579216, 0.3259812549905508, 0.14311372170316863, 0.011926143475264052, 0.04878339516863554, 0.0041814338715973325, 0.9247937912682767, 0.013241207260058218, 0.008362867743194665, 0.9671594985241088, 0.8212104145899995, 0.07079400125775859, 0.09911160176086202, 0.045333348671533484, 0.4382223704914903, 0.3702223474841901, 0.14355560412652268, 0.9472323090756052, 0.9151319443773485, 0.07626099536477904, 0.1275505063862241, 0.8673434434263239, 0.9720134732836369, 0.9813072117405244, 0.9874974130632269, 0.027409327337905773, 0.2558203884871206, 0.7172107320085345, 0.934748859512088, 0.28649381155509884, 0.044075971008476746, 0.595025608614436, 0.07345995168079457, 0.9769847758179443, 0.0037593909042500525, 0.7807001777825943, 0.006265651507083421, 0.166666330088419, 0.011278172712750159, 0.03007512723400042, 0.08171871620881282, 0.9170655930100106, 0.9790852508447262, 0.9393089402419718, 0.9716201696209423, 0.04321531079326114, 0.950736837451745, 0.9880636692331153, 0.9240693759329323, 0.9894317407284754, 0.967084779949429, 0.9699291133641779, 0.9618121318469574, 0.022900288853498985, 0.08169796796123263, 0.08169796796123263, 0.8403219561726786, 0.9682193841755315, 0.9475047134524079, 0.979787981161672, 0.9661000594622774, 0.024977768529447462, 0.9491552041190037], \"Term\": [\"04\", \"04\", \"04\", \"07\", \"2016bayer\", \"35\", \"35\", \"35\", \"35\", \"37\", \"37\", \"37\", \"37\", \"37\", \"40\", \"40\", \"40\", \"40\", \"40\", \"40\", \"40\", \"40\", \"40\", \"40\", \"40\", \"45\", \"45\", \"45\", \"45\", \"500\", \"500\", \"500\", \"500\", \"500\", \"52\", \"52\", \"530000\", \"66\", \"71\", \"760\", \"78\", \"87\", \"91\", \"91\", \"995\", \"995\", \"999\", \"aberfoyl\", \"abus\", \"abus\", \"abus\", \"abus\", \"abus\", \"abus\", \"abus\", \"acc\", \"accord\", \"account\", \"account\", \"account\", \"account\", \"account\", \"account\", \"account\", \"acrylamid\", \"acu\\u00f1a\", \"adani\", \"adida\", \"advertis\", \"advertis\", \"advertis\", \"advertis\", \"advertis\", \"advertis\", \"advertis\", \"advertis\", \"aetna\", \"affair\", \"africa\", \"africa\", \"africa\", \"africa\", \"africa\", \"africa\", \"african\", \"african\", \"african\", \"agreement\", \"agreement\", \"agreement\", \"agricultur\", \"agricultur\", \"agricultur\", \"agricultur\", \"agricultur\", \"agrochem\", \"agrochem\", \"aid\", \"aid\", \"aid\", \"aid\", \"aid\", \"ail\", \"air\", \"air\", \"air\", \"air\", \"air\", \"air\", \"air\", \"air\", \"air\", \"airgun\", \"airlin\", \"airlin\", \"airway\", \"alberta\", \"alberta\", \"aldi\", \"alec\", \"alec\", \"algorithm\", \"aliexpress\", \"amazon\", \"amazon\", \"amazon\", \"amazon\", \"amazon\", \"ambul\", \"andi\", \"andrea\", \"angora\", \"angora\", \"anim\", \"anim\", \"anim\", \"anim\", \"antibiot\", \"antibiot\", \"antitrust\", \"antoin\", \"apolog\", \"apolog\", \"apologis\", \"apparel\", \"approv\", \"approv\", \"approv\", \"approv\", \"approv\", \"approv\", \"approv\", \"approv\", \"approv\", \"approv\", \"aquarium\", \"ar\", \"arabia\", \"arctic\", \"arctic\", \"arm\", \"arm\", \"arm\", \"arm\", \"arm\", \"arm\", \"arm\", \"art\", \"art\", \"artist\", \"artist\", \"artist\", \"asda\", \"ashburton\", \"assault\", \"assault\", \"assault\", \"assault\", \"asylum\", \"athabasca\", \"attawapiskat\", \"auction\", \"audi\", \"authoris\", \"autism\", \"avoid\", \"avoid\", \"avoid\", \"avoid\", \"axa\", \"babi\", \"babi\", \"babi\", \"bae\", \"bahrain\", \"balfour\", \"banana\", \"banana\", \"banana\", \"bangladesh\", \"bangladeshi\", \"bank\", \"bank\", \"bank\", \"bank\", \"banker\", \"barclay\", \"barrel\", \"barrier\", \"barrier\", \"barrier\", \"barrier\", \"basf\", \"basf\", \"basf\", \"basf\", \"batteri\", \"batteri\", \"beatti\", \"bee\", \"bee\", \"beekeep\", \"beer\", \"beer\", \"bell\", \"bell\", \"benefit\", \"benefit\", \"benefit\", \"benefit\", \"benefit\", \"benefit\", \"benefit\", \"bernardino\", \"berwick\", \"beyonc\\u00e9\", \"bh\", \"bio\", \"bird\", \"black\", \"black\", \"black\", \"black\", \"black\", \"black\", \"blackfac\", \"bleach\", \"blood\", \"blood\", \"blood\", \"blood\", \"blumenth\", \"board\", \"board\", \"board\", \"board\", \"board\", \"board\", \"board\", \"board\", \"board\", \"boat\", \"boat\", \"bonus\", \"boot\", \"boot\", \"bori\", \"bottl\", \"bpa\", \"branch\", \"branch\", \"breast\", \"breast\", \"breast\", \"breed\", \"breed\", \"breed\", \"brink\", \"bristol\", \"brussel\", \"brussel\", \"brussel\", \"buffett\", \"build\", \"build\", \"build\", \"build\", \"build\", \"build\", \"build\", \"build\", \"build\", \"build\", \"build\", \"bulli\", \"bulli\", \"bulli\", \"bulli\", \"bulli\", \"bulli\", \"bulli\", \"bulli\", \"bulli\", \"bulli\", \"bunni\", \"burkini\", \"buzzfe\", \"cabinet\", \"cabinet\", \"cabinet\", \"cage\", \"cage\", \"cambi\", \"campu\", \"cancer\", \"cancer\", \"cancer\", \"cancer\", \"cancer\", \"cancer\", \"canfisco\", \"canterburi\", \"canterburi\", \"canyon\", \"canyon\", \"captiv\", \"captiv\", \"car\", \"car\", \"car\", \"car\", \"car\", \"carbon\", \"carbon\", \"carbon\", \"carbon\", \"carcinogen\", \"carcinogen\", \"carcinogen\", \"carcinogen\", \"carcinogen\", \"cathol\", \"caus\", \"caus\", \"caus\", \"caus\", \"caus\", \"caus\", \"caus\", \"caus\", \"centr\", \"centr\", \"centr\", \"centr\", \"centr\", \"centr\", \"centr\", \"centrica\", \"ceremoni\", \"ceta\", \"channel\", \"channel\", \"channel\", \"channel\", \"chemic\", \"chemic\", \"chemic\", \"chemic\", \"chemic\", \"chemic\", \"chemic\", \"chemic\", \"chemotherapi\", \"chicken\", \"chicken\", \"chicken\", \"child\", \"child\", \"child\", \"child\", \"child\", \"child\", \"child\", \"children\", \"children\", \"children\", \"children\", \"children\", \"children\", \"children\", \"children\", \"children\", \"children\", \"children\", \"cigarett\", \"citi\", \"citi\", \"citi\", \"citi\", \"citi\", \"citi\", \"citi\", \"citi\", \"citi\", \"citi\", \"citi\", \"clare\", \"clean\", \"clean\", \"clean\", \"clean\", \"clean\", \"clean\", \"clean\", \"clean\", \"climat\", \"climat\", \"climat\", \"climat\", \"climat\", \"climat\", \"climat\", \"climat\", \"clinton\", \"closur\", \"closur\", \"cloth\", \"cloth\", \"cloth\", \"cloth\", \"cloth\", \"cloth\", \"coal\", \"coal\", \"coal\", \"colgat\", \"colombia\", \"colombia\", \"colombia\", \"colorado\", \"column\", \"compens\", \"compens\", \"compens\", \"compens\", \"compens\", \"compens\", \"con\", \"congratul\", \"connolli\", \"consum\", \"consum\", \"consum\", \"consum\", \"consum\", \"consum\", \"consum\", \"consum\", \"consum\", \"consum\", \"consum\", \"consum\", \"contamin\", \"contamin\", \"contamin\", \"contamin\", \"contamin\", \"contract\", \"contract\", \"contract\", \"contract\", \"coon\", \"coral\", \"coral\", \"coral\", \"corexit\", \"corey\", \"cosbi\", \"costa\", \"council\", \"council\", \"council\", \"council\", \"council\", \"council\", \"council\", \"courier\", \"courier\", \"court\", \"court\", \"court\", \"court\", \"court\", \"court\", \"court\", \"cp\", \"craigslist\", \"creat\", \"creat\", \"creat\", \"creat\", \"creat\", \"creat\", \"creat\", \"creat\", \"creat\", \"creat\", \"creat\", \"creat\", \"creat\", \"creat\", \"created_at_day_ago\", \"created_at_i\", \"created_at_m\", \"credit\", \"credit\", \"credit\", \"credit\", \"crime\", \"crime\", \"crime\", \"crime\", \"crime\", \"crime\", \"crime\", \"crop\", \"crop\", \"cruelti\", \"cup\", \"cup\", \"custom\", \"custom\", \"custom\", \"custom\", \"custom\", \"custom\", \"custom\", \"custom\", \"custom\", \"custom\", \"custom\", \"custom\", \"custom\", \"cut\", \"cut\", \"cut\", \"cut\", \"cut\", \"cut\", \"cut\", \"cut\", \"dairi\", \"dairi\", \"dakota\", \"dam\", \"dam\", \"dam\", \"danon\", \"deactiv\", \"deepwat\", \"deforest\", \"deliveroo\", \"democraci\", \"democraci\", \"democraci\", \"democrat\", \"democrat\", \"democrat\", \"democrat\", \"democrat\", \"denier\", \"denier\", \"deport\", \"der\", \"deriv\", \"desert\", \"detain\", \"detaine\", \"detent\", \"diamond\", \"disclos\", \"disclos\", \"disclos\", \"disclos\", \"disclos\", \"disclosur\", \"discrimin\", \"discrimin\", \"discrimin\", \"discrimin\", \"dismantl\", \"disruptor\", \"doctor\", \"doctor\", \"doctor\", \"dodg\", \"dodg\", \"dodg\", \"dog\", \"dog\", \"doll\", \"dolphin\", \"dolphin\", \"donat\", \"donat\", \"donat\", \"donat\", \"donat\", \"donat\", \"donat\", \"donat\", \"donat\", \"donat\", \"donat\", \"donut\", \"dorito\", \"dove\", \"dr\", \"dr\", \"dr\", \"drain\", \"dri\", \"dri\", \"drill\", \"drill\", \"drink\", \"drink\", \"drink\", \"drink\", \"drink\", \"drink\", \"drought\", \"drug\", \"drug\", \"drug\", \"drug\", \"drug\", \"dump\", \"dump\", \"dump\", \"dump\", \"dump\", \"dump\", \"dump\", \"dump\", \"dunkin\", \"duracel\", \"earthquak\", \"east\", \"east\", \"east\", \"east\", \"ebola\", \"ebola\", \"econom\", \"econom\", \"econom\", \"econom\", \"econom\", \"econom\", \"econom\", \"econom\", \"econom\", \"econom\", \"economi\", \"economi\", \"economi\", \"economi\", \"economi\", \"economi\", \"economi\", \"economi\", \"economi\", \"economi\", \"economi\", \"economi\", \"ecuador\", \"editor\", \"educ\", \"educ\", \"educ\", \"educ\", \"egg\", \"el\", \"elect\", \"elect\", \"elect\", \"elect\", \"elect\", \"elect\", \"elect\", \"electr\", \"electr\", \"electr\", \"electron\", \"electron\", \"electron\", \"electron\", \"electron\", \"elementari\", \"embodi\", \"emiss\", \"emiss\", \"emiss\", \"employ\", \"employ\", \"employ\", \"employ\", \"employ\", \"employ\", \"enbridg\", \"encrypt\", \"encrypt\", \"endocrin\", \"energ\", \"energi\", \"energi\", \"energi\", \"engi\", \"enterpris\", \"enterpris\", \"enterpris\", \"environ\", \"environ\", \"environ\", \"environ\", \"environ\", \"environ\", \"environ\", \"environ\", \"environ\", \"environ\", \"environment\", \"environment\", \"environment\", \"environment\", \"environment\", \"environment\", \"environment\", \"environment\", \"epa\", \"epa\", \"epipen\", \"equal\", \"equal\", \"equal\", \"equal\", \"equal\", \"equal\", \"evas\", \"execut\", \"execut\", \"execut\", \"execut\", \"execut\", \"execut\", \"execut\", \"expert\", \"expert\", \"expert\", \"expert\", \"expert\", \"expert\", \"expert\", \"expert\", \"expert\", \"expert\", \"expert\", \"expert\", \"exploit\", \"exploit\", \"exploit\", \"exploit\", \"exploit\", \"exploit\", \"exploit\", \"exploit\", \"exploit\", \"extinct\", \"extract\", \"extract\", \"extract\", \"extract\", \"extract\", \"exxonmobil\", \"factori\", \"factori\", \"factori\", \"factori\", \"fairli\", \"farm\", \"farm\", \"farm\", \"farm\", \"farmer\", \"farmer\", \"farmer\", \"farmer\", \"farmer\", \"farmer\", \"farmwork\", \"fcc\", \"fee\", \"fee\", \"fee\", \"fee\", \"fee\", \"fee\", \"feinstein\", \"femal\", \"femal\", \"ferrovi\", \"fifa\", \"fil\", \"fil\", \"fin\", \"financ\", \"financ\", \"financ\", \"financ\", \"financ\", \"financi\", \"financi\", \"financi\", \"financi\", \"financi\", \"financi\", \"financi\", \"financi\", \"financi\", \"financi\", \"fipa\", \"fire\", \"fire\", \"fire\", \"fire\", \"fire\", \"first_payment_at_dt\", \"first_payment_at_i\", \"first_payment_at_m\", \"fish\", \"fish\", \"fish\", \"fish\", \"fishermen\", \"fishermen\", \"flake\", \"flight\", \"flight\", \"flight\", \"flight\", \"flupyradifuron\", \"food\", \"food\", \"food\", \"food\", \"food\", \"food\", \"food\", \"food\", \"food\", \"food\", \"fooddrinkeurop\", \"foodstuff\", \"footprint\", \"forest\", \"forest\", \"forest\", \"forest\", \"forest\", \"formula\", \"frack\", \"frack\", \"freeland\", \"fruit\", \"fruit\", \"fruit\", \"fruit\", \"fuel\", \"fuel\", \"fuel\", \"fuel\", \"fuel\", \"fur\", \"f\\u00fcr\", \"g20\", \"ga\", \"ga\", \"ga\", \"ga\", \"gallon\", \"gallon\", \"garden\", \"garden\", \"garden\", \"garment\", \"garment\", \"gateway\", \"gay\", \"gay\", \"gaza\", \"gender\", \"gender\", \"gender\", \"gender\", \"gene\", \"genet\", \"genet\", \"genet\", \"geo\", \"glade\", \"glyphos\", \"glyphos\", \"glyphos\", \"glyphosateth\", \"gmo\", \"gmo\", \"gmo\", \"gold\", \"gold\", \"gold\", \"gorman\", \"goug\", \"goug\", \"govern\", \"govern\", \"govern\", \"govern\", \"govern\", \"govern\", \"govern\", \"govern\", \"govern\", \"govern\", \"gp\", \"grade\", \"grade\", \"graham\", \"grand\", \"grand\", \"grand\", \"grand\", \"grand\", \"grassley\", \"greek\", \"green\", \"green\", \"green\", \"green\", \"green\", \"green\", \"green\", \"green\", \"greenhous\", \"greenhous\", \"greenhous\", \"gsk\", \"guaran\\u00ed\", \"guatemalan\", \"gucci\", \"guernsey\", \"gulf\", \"gulf\", \"gun\", \"gun\", \"gun\", \"gun\", \"hand\", \"hand\", \"hand\", \"hand\", \"hand\", \"hand\", \"hand\", \"hand\", \"hand\", \"hand\", \"harass\", \"harass\", \"harass\", \"harm\", \"harm\", \"harm\", \"harm\", \"harm\", \"harm\", \"hate\", \"hate\", \"hate\", \"hate\", \"hate\", \"hate\", \"hatr\", \"hatr\", \"haven\", \"hawaii\", \"hawaii\", \"headphon\", \"health\", \"health\", \"health\", \"health\", \"health\", \"health\", \"health\", \"health\", \"health\", \"health\", \"health\", \"health\", \"healthcar\", \"healthcar\", \"healthcar\", \"helplin\", \"hen\", \"herm\", \"hike\", \"hike\", \"hillari\", \"hillsborough\", \"hilton\", \"hinkley\", \"hire\", \"hire\", \"hire\", \"hire\", \"hire\", \"hire\", \"hmrc\", \"hmrc\", \"homecar\", \"homophob\", \"homophobia\", \"honey\", \"honey\", \"hors\", \"hors\", \"hospit\", \"hospit\", \"hospit\", \"hotel\", \"hotel\", \"hotel\", \"hotel\", \"hoursnow\", \"hous\", \"hous\", \"hous\", \"hous\", \"hous\", \"imperi\", \"incit\", \"indian\", \"indian\", \"indian\", \"indian\", \"indian\", \"indigen\", \"indigen\", \"indigen\", \"indigen\", \"indigen\", \"indonesia\", \"indonesia\", \"indonesia\", \"industri\", \"industri\", \"industri\", \"industri\", \"industri\", \"industri\", \"industri\", \"industri\", \"industri\", \"industri\", \"industri\", \"industri\", \"industri\", \"ineo\", \"infant\", \"infinito\", \"inject\", \"insecticid\", \"instagram\", \"instagram\", \"insur\", \"insur\", \"internet\", \"internet\", \"internet\", \"internet\", \"internet\", \"internet\", \"internet\", \"internet\", \"internet\", \"invest\", \"invest\", \"invest\", \"invest\", \"invest\", \"invest\", \"invest\", \"invest\", \"invest\", \"ioi\", \"iraq\", \"iraq\", \"isi\", \"islamophobia\", \"isra\", \"isra\", \"ive\", \"ivi\", \"ivori\", \"ivori\", \"jaguar\", \"jeff\", \"jeremi\", \"job\", \"job\", \"job\", \"job\", \"job\", \"job\", \"job\", \"job\", \"job\", \"job\", \"johnson\", \"johnson\", \"johnson\", \"johnson\", \"johnson\", \"judiciari\", \"juma\", \"kca\", \"kern\", \"kesha\", \"keyston\", \"keyston\", \"kfc\", \"kid\", \"kid\", \"kid\", \"kid\", \"kid\", \"kid\", \"kid\", \"kid\", \"kid\", \"kidney\", \"kiwi\", \"klm\", \"korryn\", \"kreme\", \"krispi\", \"kxl\", \"kxl\", \"label\", \"label\", \"label\", \"label\", \"label\", \"label\", \"label\", \"label\", \"label\", \"lac\", \"lafarg\", \"lake\", \"lame\", \"land\", \"land\", \"land\", \"land\", \"land\", \"land\", \"land\", \"land\", \"land\", \"latino\", \"latino\", \"le\", \"le\", \"le\", \"le\", \"leahi\", \"leak\", \"leak\", \"leak\", \"leak\", \"leak\", \"leak\", \"lee\", \"lee\", \"lender\", \"lesbian\", \"lethal\", \"lethal\", \"lgbt\", \"lgbtq\", \"liam\", \"liberti\", \"liberti\", \"liberti\", \"liberti\", \"liberti\", \"liberti\", \"liberti\", \"liberti\", \"liberti\", \"liberti\", \"liberti\", \"liberti\", \"liberti\", \"liberti\", \"licenc\", \"licenc\", \"licenc\", \"licenc\", \"lick\", \"litr\", \"litr\", \"litr\", \"loan\", \"loan\", \"loan\", \"lobbi\", \"lobbi\", \"lobbi\", \"lobbi\", \"lobbi\", \"lobbi\", \"lobbi\", \"lobbi\", \"lobbi\", \"lobbi\", \"lobbyist\", \"lobbyist\", \"lobbyist\", \"lobbyist\", \"lobbyist\", \"lobbyist\", \"lobbyist\", \"lockhe\", \"log\", \"log\", \"log\", \"lonmin\", \"loom\", \"loom\", \"loom\", \"louder\", \"louder\", \"low\", \"luxembourg\", \"mackenzi\", \"magnum\", \"malathion\", \"malcolm\", \"malta\", \"malta\", \"manchest\", \"mandalena\", \"manu\", \"marikana\", \"mark\", \"mark\", \"mark\", \"mark\", \"mark\", \"mark\", \"mark\", \"marriag\", \"maryland\", \"massacr\", \"massacr\", \"maxima\", \"mccain\", \"mccrori\", \"meat\", \"meat\", \"meddl\", \"meddl\", \"meddl\", \"meddl\", \"meddl\", \"media\", \"media\", \"media\", \"media\", \"media\", \"media\", \"media\", \"media\", \"media\", \"medic\", \"medic\", \"medic\", \"medic\", \"medicar\", \"mekerot\", \"men\", \"men\", \"men\", \"mercuri\", \"mercuri\", \"merger\", \"merger\", \"microbead\", \"middl\", \"middl\", \"middl\", \"middl\", \"middl\", \"middl\", \"middl\", \"militari\", \"militari\", \"militari\", \"militari\", \"militari\", \"militari\", \"milk\", \"milk\", \"mine\", \"mine\", \"mine\", \"mine\", \"mine\", \"mine\", \"miner\", \"miner\", \"mitsubishi\", \"moham\", \"monarch\", \"monarch\", \"mortgag\", \"mossack\", \"mountaintop\", \"msd\", \"museum\", \"muslim\", \"muslim\", \"mylan\", \"myriad\", \"m\\u00e1xima\", \"m\\u00e1xima\", \"nafta\", \"nale\", \"nanci\", \"nanoparticl\", \"nation\", \"nation\", \"nation\", \"nation\", \"nation\", \"nation\", \"nation\", \"nation\", \"nation\", \"nation\", \"nation\", \"nation\", \"nation\", \"natur\", \"natur\", \"natur\", \"natur\", \"natur\", \"natur\", \"natur\", \"natur\", \"nauru\", \"nauru\", \"negoti\", \"negoti\", \"negoti\", \"negoti\", \"neonic\", \"neonicotinoid\", \"newmont\", \"newmont\", \"newspap\", \"newspap\", \"newspap\", \"newspap\", \"nh\", \"nh\", \"nigeria\", \"nigeria\", \"nightclub\", \"northern\", \"northern\", \"northern\", \"northpoint\", \"nra\", \"nsa\", \"nuclear\", \"nuclear\", \"obamacar\", \"obamacar\", \"ocean\", \"ocean\", \"ocean\", \"odebrecht\", \"offens\", \"offens\", \"offens\", \"offens\", \"offens\", \"offici\", \"offici\", \"offici\", \"offici\", \"offici\", \"offici\", \"offici\", \"offici\", \"offici\", \"offici\", \"offshor\", \"offshor\", \"offshor\", \"oil\", \"oil\", \"oil\", \"ontario\", \"ontario\", \"ontario\", \"ontario\", \"op\", \"orangutan\", \"orca\", \"order_count\", \"ordinari\", \"ordinari\", \"ordinari\", \"ordinari\", \"ordinari\", \"ordinari\", \"ordinari\", \"oregon\", \"oregon\", \"oregon\", \"orlando\", \"or\\u00e9al\", \"osborn\", \"osborn\", \"outbid\", \"outfitt\", \"owen\", \"packag\", \"packag\", \"packag\", \"packag\", \"packag\", \"packag\", \"packag\", \"pakistan\", \"palestin\", \"palestin\", \"palestinian\", \"palestinian\", \"palm\", \"panther\", \"paper\", \"paper\", \"paper\", \"paper\", \"paper\", \"paraguay\", \"parent\", \"parent\", \"parent\", \"parent\", \"parent\", \"parent\", \"parent\", \"parent\", \"pari\", \"pari\", \"park\", \"park\", \"park\", \"park\", \"park\", \"park\", \"park\", \"parliament\", \"parliament\", \"parliament\", \"parliament\", \"parliament\", \"parliament\", \"pass\", \"pass\", \"pass\", \"pass\", \"pass\", \"pass\", \"pass\", \"patent\", \"patent\", \"patent\", \"patent\", \"patent\", \"patient\", \"patient\", \"patient\", \"patient\", \"payment_count\", \"pebbl\", \"pelosi\", \"pension\", \"pension\", \"perdu\", \"period_diff\", \"permit\", \"permit\", \"permit\", \"person\", \"person\", \"person\", \"person\", \"person\", \"person\", \"person\", \"person\", \"peru\", \"peru\", \"peru\", \"pesticid\", \"pesticid\", \"pesticid\", \"pet\", \"pet\", \"pet\", \"petco\", \"pharmacist\", \"phone\", \"phone\", \"pipelin\", \"pipelin\", \"piraci\", \"plain\", \"plain\", \"plaintiff\", \"plaintiff\", \"plane\", \"plant\", \"plant\", \"plant\", \"plant\", \"plant\", \"plant\", \"plant\", \"plant\", \"plantat\", \"plantat\", \"plasma\", \"plastic\", \"plastic\", \"plaza\", \"pluck\", \"pnc\", \"polic\", \"polic\", \"polic\", \"polic\", \"polley\", \"pollin\", \"pollut\", \"pollut\", \"pollut\", \"pollut\", \"pollut\", \"pollut\", \"pollut\", \"popul\", \"popul\", \"popul\", \"popul\", \"popul\", \"popul\", \"portrait\", \"postal\", \"postpon\", \"prayer\", \"princ\", \"prison\", \"priti\", \"privaci\", \"privaci\", \"privat\", \"privat\", \"privat\", \"privat\", \"privat\", \"privat\", \"privatis\", \"privatis\", \"privatis\", \"privatis\", \"pro\", \"pro\", \"pro\", \"pro\", \"pro\", \"probabl\", \"produc\", \"produc\", \"produc\", \"produc\", \"produc\", \"produc\", \"produc\", \"produc\", \"produc\", \"produc\", \"produc\", \"profit\", \"profit\", \"profit\", \"profit\", \"profit\", \"profit\", \"profit\", \"profit\", \"profit\", \"profit\", \"profit\", \"protect\", \"protect\", \"protect\", \"protect\", \"protect\", \"protect\", \"protect\", \"protect\", \"protect\", \"protect\", \"protect\", \"protect\", \"protect\", \"protect\", \"protect\", \"protein\", \"protest\", \"protest\", \"protest\", \"protest\", \"protest\", \"protest\", \"protest\", \"protest\", \"protest\", \"protest\", \"purest\", \"queri\", \"quick\", \"quick\", \"quick\", \"quick\", \"quick\", \"quick\", \"quot\", \"quot\", \"quot\", \"racism\", \"racism\", \"racism\", \"racism\", \"racist\", \"racist\", \"rail\", \"rail\", \"rainforest\", \"rainforest\", \"rana\", \"rate\", \"rate\", \"rate\", \"rate\", \"rate\", \"rate\", \"rate\", \"rate\", \"rate\", \"rate\", \"rate\", \"ratif\", \"ratifi\", \"record\", \"record\", \"record\", \"record\", \"record\", \"reduc\", \"reduc\", \"reduc\", \"reduc\", \"reduc\", \"reduc\", \"reduc\", \"reduc\", \"reduc\", \"reef\", \"reef\", \"reef\", \"reef\", \"regul\", \"regul\", \"regul\", \"regul\", \"regul\", \"regul\", \"regul\", \"regul\", \"regul\", \"regul\", \"regul\", \"regul\", \"regul\", \"remov\", \"remov\", \"remov\", \"remov\", \"remov\", \"remov\", \"remov\", \"remov\", \"remov\", \"remov\", \"remov\", \"renew\", \"renew\", \"renew\", \"renew\", \"renew\", \"renew\", \"renew\", \"renew\", \"rent\", \"rent\", \"report\", \"report\", \"report\", \"report\", \"report\", \"report\", \"report\", \"report\", \"report\", \"report\", \"report\", \"republican\", \"republican\", \"republican\", \"republican\", \"republican\", \"respons\", \"respons\", \"respons\", \"respons\", \"respons\", \"respons\", \"respons\", \"respons\", \"respons\", \"respons\", \"respons\", \"retail\", \"retail\", \"retail\", \"retail\", \"retail\", \"retail\", \"retail\", \"revis\", \"revolv\", \"rica\", \"rich\", \"rich\", \"rich\", \"rich\", \"rich\", \"rich\", \"rich\", \"rich\", \"rifl\", \"river\", \"river\", \"river\", \"rlt\", \"rnc\", \"roger\", \"roundup\", \"roundup\", \"royal\", \"royal\", \"royal\", \"royal\", \"royal\", \"russian\", \"russian\", \"ryedal\", \"sadiq\", \"safeti\", \"safeti\", \"safeti\", \"safeti\", \"safeti\", \"safeti\", \"safeti\", \"safeti\", \"safeti\", \"safeti\", \"safeti\", \"sagar\", \"sak\", \"salmon\", \"salmon\", \"salvador\", \"samsung\", \"san\", \"san\", \"san\", \"san\", \"sandi\", \"santiago\", \"sara\", \"saudi\", \"scariest\", \"scheme\", \"scheme\", \"scheme\", \"scheme\", \"scheme\", \"school\", \"school\", \"school\", \"school\", \"school\", \"school\", \"scientist\", \"scientist\", \"scientist\", \"scientist\", \"scientist\", \"scout\", \"secret\", \"secret\", \"secret\", \"secret\", \"secret\", \"secret\", \"secret\", \"secret\", \"seeker\", \"seismic\", \"senat\", \"senat\", \"senat\", \"senat\", \"senat\", \"senat\", \"session\", \"session\", \"session\", \"sex\", \"sex\", \"sexism\", \"sexist\", \"sexist\", \"sexual\", \"sexual\", \"sexual\", \"sexual\", \"shale\", \"shale\", \"sharehold\", \"sharehold\", \"sharehold\", \"sharehold\", \"sharehold\", \"sharehold\", \"sharehold\", \"sharehold\", \"shoot\", \"shoot\", \"shoot\", \"shoot\", \"shoot\", \"shortag\", \"shortag\", \"shrinkbloomberg\", \"sir\", \"sir\", \"skin\", \"skin\", \"skin\", \"skin\", \"skin\", \"skype\", \"sludg\", \"smoke\", \"smoke\", \"smoke\", \"snack\", \"snooper\", \"softwar\", \"softwar\", \"soho\", \"solar\", \"soni\", \"southeast\", \"speci\", \"speci\", \"speci\", \"spill\", \"sponsor\", \"sponsor\", \"sponsor\", \"sponsor\", \"sponsor\", \"sponsor\", \"sponsor\", \"sponsor\", \"standoff\", \"state_nam\", \"steal\", \"steal\", \"steal\", \"steal\", \"steal\", \"steel\", \"stereotyp\", \"stricken\", \"strike\", \"strike\", \"strike\", \"strike\", \"strike\", \"strike\", \"student\", \"student\", \"student\", \"student\", \"student\", \"suck\", \"suck\", \"sumatran\", \"sundarban\", \"supermarket\", \"supermarket\", \"supermarket\", \"suppli\", \"suppli\", \"suppli\", \"suppli\", \"suppli\", \"suppli\", \"suppli\", \"suppli\", \"suppli\", \"supplier\", \"supplier\", \"supplier\", \"supplier\", \"surgeri\", \"surgeri\", \"sussex\", \"sweatshop\", \"sweatshop\", \"sweeten\", \"swimwear\", \"swing\", \"swing\", \"syria\", \"system\", \"system\", \"system\", \"system\", \"system\", \"system\", \"system\", \"system\", \"tail\", \"tail\", \"taker\", \"tang\", \"tar\", \"tar\", \"tasmania\", \"tasmanian\", \"tate\", \"tax\", \"tax\", \"taxpay\", \"taxpay\", \"taxpay\", \"taxpay\", \"taxpay\", \"taxpay\", \"tazreen\", \"telstra\", \"text\", \"textil\", \"ticketmast\", \"tiger\", \"tilli\", \"tisa\", \"tobacco\", \"toddler\", \"toe\", \"toothpast\", \"toothpast\", \"tortur\", \"tortur\", \"town\", \"town\", \"town\", \"town\", \"town\", \"town\", \"toxic\", \"toxic\", \"toxic\", \"toxic\", \"toxic\", \"toxic\", \"toxic\", \"tpp\", \"tppa\", \"trade\", \"trade\", \"tradit\", \"tradit\", \"tradit\", \"tradit\", \"tradit\", \"train\", \"train\", \"train\", \"train\", \"train\", \"train\", \"transatlant\", \"transgend\", \"treat\", \"treat\", \"treat\", \"treat\", \"treat\", \"treat\", \"treat\", \"treati\", \"treati\", \"trial\", \"trial\", \"trial\", \"trial\", \"trial\", \"tribe\", \"trident\", \"trigg\", \"tripadvisor\", \"tsleil\", \"ttip\", \"ttip\", \"tuna\", \"tunnel\", \"turnbul\", \"tv\", \"tv\", \"tv\", \"tv\", \"tv\", \"tyson\", \"und\", \"underpaid\", \"univers\", \"univers\", \"univers\", \"univers\", \"univers\", \"univers\", \"unsold\", \"uranium\", \"urban\", \"urban\", \"urban\", \"usda\", \"usda\", \"usda\", \"vaccin\", \"valuabl\", \"valuabl\", \"valuabl\", \"vattenfal\", \"vauxhal\", \"verdict\", \"vice\", \"vice\", \"vice\", \"violenc\", \"violenc\", \"violenc\", \"violenc\", \"violenc\", \"vitter\", \"von\", \"wage\", \"wage\", \"wage\", \"wage\", \"wage\", \"war\", \"war\", \"war\", \"war\", \"war\", \"war\", \"war\", \"war\", \"warehous\", \"warehous\", \"washroom\", \"wast\", \"wast\", \"wast\", \"wast\", \"wast\", \"wast\", \"water\", \"water\", \"water\", \"water\", \"water\", \"waututh\", \"wealthi\", \"wealthi\", \"wealthi\", \"weapon\", \"weapon\", \"weapon\", \"weapon\", \"weasel\", \"weedkil\", \"weedkil\", \"welfar\", \"welfar\", \"wendi\", \"westconnex\", \"westjet\", \"whale\", \"whale\", \"whale\", \"whiten\", \"wild\", \"wild\", \"wild\", \"wild\", \"wilmar\", \"women\", \"women\", \"women\", \"women\", \"women\", \"women\", \"wood\", \"wood\", \"worrisomevox\", \"wyden\", \"wynn\", \"xl\", \"xl\", \"yahoo\", \"yamaha\", \"yarl\", \"yellowston\", \"yelp\", \"youtub\", \"youtub\", \"zara\", \"zara\", \"zara\", \"zeitung\", \"zika\", \"zimmerman\", \"zu\", \"zuckerberg\", \"zuckerberg\"]}, \"R\": 30};\n",
       "\n",
       "function LDAvis_load_lib(url, callback){\n",
       "  var s = document.createElement('script');\n",
       "  s.src = url;\n",
       "  s.async = true;\n",
       "  s.onreadystatechange = s.onload = callback;\n",
       "  s.onerror = function(){console.warn(\"failed to load library \" + url);};\n",
       "  document.getElementsByTagName(\"head\")[0].appendChild(s);\n",
       "}\n",
       "\n",
       "if(typeof(LDAvis) !== \"undefined\"){\n",
       "   // already loaded: just create the visualization\n",
       "   !function(LDAvis){\n",
       "       new LDAvis(\"#\" + \"ldavis_el770749853844165634230935\", ldavis_el770749853844165634230935_data);\n",
       "   }(LDAvis);\n",
       "}else if(typeof define === \"function\" && define.amd){\n",
       "   // require.js is available: use it to load d3/LDAvis\n",
       "   require.config({paths: {d3: \"https://cdnjs.cloudflare.com/ajax/libs/d3/3.5.5/d3.min\"}});\n",
       "   require([\"d3\"], function(d3){\n",
       "      window.d3 = d3;\n",
       "      LDAvis_load_lib(\"https://cdn.rawgit.com/bmabey/pyLDAvis/files/ldavis.v1.0.0.js\", function(){\n",
       "        new LDAvis(\"#\" + \"ldavis_el770749853844165634230935\", ldavis_el770749853844165634230935_data);\n",
       "      });\n",
       "    });\n",
       "}else{\n",
       "    // require.js not available: dynamically load d3 & LDAvis\n",
       "    LDAvis_load_lib(\"https://cdnjs.cloudflare.com/ajax/libs/d3/3.5.5/d3.min.js\", function(){\n",
       "         LDAvis_load_lib(\"https://cdn.rawgit.com/bmabey/pyLDAvis/files/ldavis.v1.0.0.js\", function(){\n",
       "                 new LDAvis(\"#\" + \"ldavis_el770749853844165634230935\", ldavis_el770749853844165634230935_data);\n",
       "            })\n",
       "         });\n",
       "}\n",
       "</script>"
      ],
      "text/plain": [
       "<IPython.core.display.HTML object>"
      ]
     },
     "execution_count": 23,
     "metadata": {},
     "output_type": "execute_result"
    }
   ],
   "source": [
    "pyLDAvis.display(vis)"
   ]
  }
 ],
 "metadata": {
  "kernelspec": {
   "display_name": "Python 3",
   "language": "python",
   "name": "python3"
  },
  "language_info": {
   "codemirror_mode": {
    "name": "ipython",
    "version": 3
   },
   "file_extension": ".py",
   "mimetype": "text/x-python",
   "name": "python",
   "nbconvert_exporter": "python",
   "pygments_lexer": "ipython3",
   "version": "3.5.1"
  }
 },
 "nbformat": 4,
 "nbformat_minor": 0
}

{
 "cells": [
  {
   "cell_type": "markdown",
   "metadata": {},
   "source": [
    "# Textual analysis of activist campaign information"
   ]
  },
  {
   "cell_type": "markdown",
   "metadata": {},
   "source": [
    "### MySQL to extract the page name, manually selected tags, and html content of the top mailing for each page"
   ]
  },
  {
   "cell_type": "markdown",
   "metadata": {},
   "source": [
    "```\n",
    "SET @rank_pages:=0; SET @rank:=0;\n",
    "select ranked.page_id, ranked.page_name, tag.name as tag_name, replace(replace(mail.html,',',''),'\"','') as html\n",
    "from\n",
    "  (select page_id, page_name, mailing_id, count, \n",
    "          IF(@rank_pages=page_id,@rank:=@rank+1,@rank:=1) as rank, @rank_pages:=page_id\n",
    "  from\n",
    "\t(select p.id as page_id, p.name as page_name, a.mailing_id, count(*) as count\n",
    "\tfrom core_action as a\n",
    "\tjoin core_page as p on a.page_id = p.id\n",
    "\twhere a.mailing_id is not null\n",
    "\tand p.id not in (5,25,28,46,130,525,561,566,761,935,1304,1394,1862,2678,3712,8559,10668)\n",
    "\tand left(p.name,12) <> \"controlshift\"\n",
    "\tand p.created_at >= \"2013-01-01\"\n",
    "\tand p.lang_id = 100\n",
    "\tgroup by p.id, a.mailing_id\n",
    "\torder by p.id, count(*) desc\n",
    "\t) as unranked\n",
    "  ) as ranked\n",
    "join core_mailing as mail on mail.id = ranked.mailing_id\n",
    "join core_page_tags as cpt on cpt.page_id = ranked.page_id\n",
    "join core_tag as tag on tag.id = cpt.tag_id and tag.id IN (2,8,10,11,13,15,22,23,24,25,29,30,32,33,34,35,36,39,41,43,45,47,48,49,54,59,60,64,67,72,73,75,80,81,82,84,88,89,91,92,93,94,95,96,98,101,104,105,106,107,109,112,114,115,116,117,120,122,123,125,127,130,133,139,141,142,146,148,151,157,160,161,175,177,178,181,183,185,190,193,201,202,206,207,211,213,222,224,226,227,231,234,239,240,242,243,244,246,248,254,258,260,261,265,267,270,273,280,287,288,289,291,297,303,315,316,322,323,325,327,328,334,345,346,347,348,369,383,389,393,394,402,407,410,412,415,443,445,451,452,463,467,468,471,480,481,485,486,488,489,493,508,518,521,549,550,551,564,567,572,573,574,581,583,587,619,621,624,634,641,659,696,804,820,826,898,900,933,934,937,938,940,941,942,943,944,945,946,947,954,966,967,968,969,972,973,974,975,976,977,1000,1012,1036,1046,1071,1078,1128,1130,1132,1140,1208,1248,1282,1739,1746) \n",
    "where rank = 1\n",
    "order by 1,4\n",
    "```"
   ]
  },
  {
   "cell_type": "markdown",
   "metadata": {},
   "source": [
    "### import modules"
   ]
  },
  {
   "cell_type": "code",
   "execution_count": 61,
   "metadata": {
    "collapsed": false
   },
   "outputs": [],
   "source": [
    "import pandas as pd\n",
    "import numpy as np\n",
    "from bs4 import BeautifulSoup"
   ]
  },
  {
   "cell_type": "markdown",
   "metadata": {},
   "source": [
    "### read the csv into a DataFrame"
   ]
  },
  {
   "cell_type": "code",
   "execution_count": 62,
   "metadata": {
    "collapsed": false
   },
   "outputs": [
    {
     "data": {
      "text/html": [
       "<div>\n",
       "<table border=\"1\" class=\"dataframe\">\n",
       "  <thead>\n",
       "    <tr style=\"text-align: right;\">\n",
       "      <th></th>\n",
       "      <th>page_id</th>\n",
       "      <th>page_name</th>\n",
       "      <th>tag_name</th>\n",
       "      <th>html</th>\n",
       "    </tr>\n",
       "  </thead>\n",
       "  <tbody>\n",
       "    <tr>\n",
       "      <th>0</th>\n",
       "      <td>400</td>\n",
       "      <td>time-warner-al-jazeera</td>\n",
       "      <td>us corporation</td>\n",
       "      <td>&lt;table cellspacing=0 cellpadding=0 align=right&gt;\\r\\n&lt;tbody&gt;\\r\\n&lt;tr&gt;\\r\\n&lt;td id=boxholder&gt;\\r\\n&lt;table style=border: 1px solid grey; margin-left: 10px; margin-bottom: 5px; width: 220px; cellspacing=0 cellpadding=0 bgcolor=#ffffff&gt;\\r\\n&lt;tbody&gt;\\r\\n&lt;tr&gt;\\r\\n&lt;td style=padding: 10px;&gt;\\r\\n&lt;p&gt;In a blatantly prejudiced move Time Warner Cable dropped CurrentTV the moment it was sold to Al Jazeera.&lt;/p&gt;\\r\\n&lt;p&gt;&lt;strong&gt;Tell Time Warner Cable to pick CurrentTV back up and give its new owners a fair shake.&lt;br /&gt;&lt;...</td>\n",
       "    </tr>\n",
       "    <tr>\n",
       "      <th>1</th>\n",
       "      <td>400</td>\n",
       "      <td>time-warner-al-jazeera</td>\n",
       "      <td>discrimination</td>\n",
       "      <td>&lt;table cellspacing=0 cellpadding=0 align=right&gt;\\r\\n&lt;tbody&gt;\\r\\n&lt;tr&gt;\\r\\n&lt;td id=boxholder&gt;\\r\\n&lt;table style=border: 1px solid grey; margin-left: 10px; margin-bottom: 5px; width: 220px; cellspacing=0 cellpadding=0 bgcolor=#ffffff&gt;\\r\\n&lt;tbody&gt;\\r\\n&lt;tr&gt;\\r\\n&lt;td style=padding: 10px;&gt;\\r\\n&lt;p&gt;In a blatantly prejudiced move Time Warner Cable dropped CurrentTV the moment it was sold to Al Jazeera.&lt;/p&gt;\\r\\n&lt;p&gt;&lt;strong&gt;Tell Time Warner Cable to pick CurrentTV back up and give its new owners a fair shake.&lt;br /&gt;&lt;...</td>\n",
       "    </tr>\n",
       "    <tr>\n",
       "      <th>2</th>\n",
       "      <td>401</td>\n",
       "      <td>hbo-animal-cruelty</td>\n",
       "      <td>us corporation</td>\n",
       "      <td>&lt;table cellspacing=0 cellpadding=0 align=right&gt;\\r\\n&lt;tbody&gt;\\r\\n&lt;tr&gt;\\r\\n&lt;td id=boxholder&gt;\\r\\n&lt;table style=border: 1px solid grey; margin-left: 10px; margin-bottom: 5px; width: 220px; cellspacing=0 cellpadding=0 bgcolor=#ffffff&gt;\\r\\n&lt;tbody&gt;\\r\\n&lt;tr&gt;\\r\\n&lt;td style=padding: 10px;&gt;\\r\\n&lt;p&gt;A new lawsuit claims that animal abuse by HBO led to the death of four horses in one season of shooting &lt;em&gt;Luck&lt;/em&gt;.&lt;/p&gt;\\r\\n&lt;p&gt;&lt;strong&gt;Tell&amp;nbsp; HBO to investigate claims of animal abuse and enact measures to prev...</td>\n",
       "    </tr>\n",
       "    <tr>\n",
       "      <th>3</th>\n",
       "      <td>401</td>\n",
       "      <td>hbo-animal-cruelty</td>\n",
       "      <td>animal abuse</td>\n",
       "      <td>&lt;table cellspacing=0 cellpadding=0 align=right&gt;\\r\\n&lt;tbody&gt;\\r\\n&lt;tr&gt;\\r\\n&lt;td id=boxholder&gt;\\r\\n&lt;table style=border: 1px solid grey; margin-left: 10px; margin-bottom: 5px; width: 220px; cellspacing=0 cellpadding=0 bgcolor=#ffffff&gt;\\r\\n&lt;tbody&gt;\\r\\n&lt;tr&gt;\\r\\n&lt;td style=padding: 10px;&gt;\\r\\n&lt;p&gt;A new lawsuit claims that animal abuse by HBO led to the death of four horses in one season of shooting &lt;em&gt;Luck&lt;/em&gt;.&lt;/p&gt;\\r\\n&lt;p&gt;&lt;strong&gt;Tell&amp;nbsp; HBO to investigate claims of animal abuse and enact measures to prev...</td>\n",
       "    </tr>\n",
       "  </tbody>\n",
       "</table>\n",
       "</div>"
      ],
      "text/plain": [
       "   page_id               page_name        tag_name  \\\n",
       "0      400  time-warner-al-jazeera  us corporation   \n",
       "1      400  time-warner-al-jazeera  discrimination   \n",
       "2      401      hbo-animal-cruelty  us corporation   \n",
       "3      401      hbo-animal-cruelty    animal abuse   \n",
       "\n",
       "                                                                                                                                                                                                                                                                                                                                                                                                                                                                                                                  html  \n",
       "0  <table cellspacing=0 cellpadding=0 align=right>\\r\\n<tbody>\\r\\n<tr>\\r\\n<td id=boxholder>\\r\\n<table style=border: 1px solid grey; margin-left: 10px; margin-bottom: 5px; width: 220px; cellspacing=0 cellpadding=0 bgcolor=#ffffff>\\r\\n<tbody>\\r\\n<tr>\\r\\n<td style=padding: 10px;>\\r\\n<p>In a blatantly prejudiced move Time Warner Cable dropped CurrentTV the moment it was sold to Al Jazeera.</p>\\r\\n<p><strong>Tell Time Warner Cable to pick CurrentTV back up and give its new owners a fair shake.<br /><...  \n",
       "1  <table cellspacing=0 cellpadding=0 align=right>\\r\\n<tbody>\\r\\n<tr>\\r\\n<td id=boxholder>\\r\\n<table style=border: 1px solid grey; margin-left: 10px; margin-bottom: 5px; width: 220px; cellspacing=0 cellpadding=0 bgcolor=#ffffff>\\r\\n<tbody>\\r\\n<tr>\\r\\n<td style=padding: 10px;>\\r\\n<p>In a blatantly prejudiced move Time Warner Cable dropped CurrentTV the moment it was sold to Al Jazeera.</p>\\r\\n<p><strong>Tell Time Warner Cable to pick CurrentTV back up and give its new owners a fair shake.<br /><...  \n",
       "2  <table cellspacing=0 cellpadding=0 align=right>\\r\\n<tbody>\\r\\n<tr>\\r\\n<td id=boxholder>\\r\\n<table style=border: 1px solid grey; margin-left: 10px; margin-bottom: 5px; width: 220px; cellspacing=0 cellpadding=0 bgcolor=#ffffff>\\r\\n<tbody>\\r\\n<tr>\\r\\n<td style=padding: 10px;>\\r\\n<p>A new lawsuit claims that animal abuse by HBO led to the death of four horses in one season of shooting <em>Luck</em>.</p>\\r\\n<p><strong>Tell&nbsp; HBO to investigate claims of animal abuse and enact measures to prev...  \n",
       "3  <table cellspacing=0 cellpadding=0 align=right>\\r\\n<tbody>\\r\\n<tr>\\r\\n<td id=boxholder>\\r\\n<table style=border: 1px solid grey; margin-left: 10px; margin-bottom: 5px; width: 220px; cellspacing=0 cellpadding=0 bgcolor=#ffffff>\\r\\n<tbody>\\r\\n<tr>\\r\\n<td style=padding: 10px;>\\r\\n<p>A new lawsuit claims that animal abuse by HBO led to the death of four horses in one season of shooting <em>Luck</em>.</p>\\r\\n<p><strong>Tell&nbsp; HBO to investigate claims of animal abuse and enact measures to prev...  "
      ]
     },
     "execution_count": 62,
     "metadata": {},
     "output_type": "execute_result"
    }
   ],
   "source": [
    "camp_txt = pd.read_csv('../capstone/text_fields.csv')\n",
    "pd.options.display.max_colwidth = 500\n",
    "text_fields.head(4)"
   ]
  },
  {
   "cell_type": "markdown",
   "metadata": {},
   "source": [
    "### flatten tags for each campaign into a list, then turn the list into a string; each campaign is now a single row"
   ]
  },
  {
   "cell_type": "code",
   "execution_count": 63,
   "metadata": {
    "collapsed": false
   },
   "outputs": [
    {
     "data": {
      "text/html": [
       "<div>\n",
       "<table border=\"1\" class=\"dataframe\">\n",
       "  <thead>\n",
       "    <tr style=\"text-align: right;\">\n",
       "      <th></th>\n",
       "      <th>page_id</th>\n",
       "      <th>page_name</th>\n",
       "      <th>tag_name</th>\n",
       "      <th>html</th>\n",
       "    </tr>\n",
       "  </thead>\n",
       "  <tbody>\n",
       "    <tr>\n",
       "      <th>0</th>\n",
       "      <td>400</td>\n",
       "      <td>time-warner-al-jazeera</td>\n",
       "      <td>us corporation, discrimination</td>\n",
       "      <td>&lt;table cellspacing=0 cellpadding=0 align=right&gt;\\r\\n&lt;tbody&gt;\\r\\n&lt;tr&gt;\\r\\n&lt;td id=boxholder&gt;\\r\\n&lt;table style=border: 1px solid grey; margin-left: 10px; margin-bottom: 5px; width: 220px; cellspacing=0 cellpadding=0 bgcolor=#ffffff&gt;\\r\\n&lt;tbody&gt;\\r\\n&lt;tr&gt;\\r\\n&lt;td style=padding: 10px;&gt;\\r\\n&lt;p&gt;In a blatantly prejudiced move Time Warner Cable dropped CurrentTV the moment it was sold to Al Jazeera.&lt;/p&gt;\\r\\n&lt;p&gt;&lt;strong&gt;Tell Time Warner Cable to pick CurrentTV back up and give its new owners a fair shake.&lt;br /&gt;&lt;...</td>\n",
       "    </tr>\n",
       "    <tr>\n",
       "      <th>1</th>\n",
       "      <td>401</td>\n",
       "      <td>hbo-animal-cruelty</td>\n",
       "      <td>us corporation, animal abuse</td>\n",
       "      <td>&lt;table cellspacing=0 cellpadding=0 align=right&gt;\\r\\n&lt;tbody&gt;\\r\\n&lt;tr&gt;\\r\\n&lt;td id=boxholder&gt;\\r\\n&lt;table style=border: 1px solid grey; margin-left: 10px; margin-bottom: 5px; width: 220px; cellspacing=0 cellpadding=0 bgcolor=#ffffff&gt;\\r\\n&lt;tbody&gt;\\r\\n&lt;tr&gt;\\r\\n&lt;td style=padding: 10px;&gt;\\r\\n&lt;p&gt;A new lawsuit claims that animal abuse by HBO led to the death of four horses in one season of shooting &lt;em&gt;Luck&lt;/em&gt;.&lt;/p&gt;\\r\\n&lt;p&gt;&lt;strong&gt;Tell&amp;nbsp; HBO to investigate claims of animal abuse and enact measures to prev...</td>\n",
       "    </tr>\n",
       "    <tr>\n",
       "      <th>2</th>\n",
       "      <td>402</td>\n",
       "      <td>gm-strike</td>\n",
       "      <td>us corporation, working conditions, workers</td>\n",
       "      <td>&lt;table cellspacing=0 cellpadding=0 align=right&gt;\\r\\n&lt;tbody&gt;\\r\\n&lt;tr&gt;\\r\\n&lt;td id=boxholder&gt;\\r\\n&lt;table style=border: 1px solid grey; margin-left: 10px; margin-bottom: 5px; width: 220px; cellspacing=0 cellpadding=0 bgcolor=#ffffff&gt;\\r\\n&lt;tbody&gt;\\r\\n&lt;tr&gt;\\r\\n&lt;td style=padding: 10px;&gt;\\r\\n&lt;p&gt;This man has stitched his lips together and declared a hunger strike demanding that General Motors compensate its Colombian employees for debilitating life-long injuries.&lt;/p&gt;\\r\\n&lt;p&gt;&lt;a href=http://action.sumofus.org/a...</td>\n",
       "    </tr>\n",
       "    <tr>\n",
       "      <th>3</th>\n",
       "      <td>403</td>\n",
       "      <td>boeing-dreamliner-fire</td>\n",
       "      <td>us corporation, consumer safety</td>\n",
       "      <td>&lt;table cellspacing=0 cellpadding=0 align=right&gt;\\r\\n&lt;tbody&gt;\\r\\n&lt;tr&gt;\\r\\n&lt;td id=boxholder&gt;\\r\\n&lt;table style=border: 1px solid grey; margin-left: 10px; margin-bottom: 5px; width: 220px; cellspacing=0 cellpadding=0 bgcolor=#ffffff&gt;\\r\\n&lt;tbody&gt;\\r\\n&lt;tr&gt;\\r\\n&lt;td style=padding: 10px;&gt;\\r\\n&lt;div&gt;Boeing's new 787 Dreamliners keep catching on fire. Something is clearly wrong with the electrical system.&lt;/div&gt;\\r\\n&lt;div&gt;&amp;nbsp;&lt;/div&gt;\\r\\n&lt;div&gt;&lt;strong&gt;Tell Boeing to recall the 787s immediately.&lt;/strong&gt;&lt;/div&gt;\\r\\n&lt;p...</td>\n",
       "    </tr>\n",
       "  </tbody>\n",
       "</table>\n",
       "</div>"
      ],
      "text/plain": [
       "   page_id               page_name  \\\n",
       "0      400  time-warner-al-jazeera   \n",
       "1      401      hbo-animal-cruelty   \n",
       "2      402               gm-strike   \n",
       "3      403  boeing-dreamliner-fire   \n",
       "\n",
       "                                      tag_name  \\\n",
       "0               us corporation, discrimination   \n",
       "1                 us corporation, animal abuse   \n",
       "2  us corporation, working conditions, workers   \n",
       "3              us corporation, consumer safety   \n",
       "\n",
       "                                                                                                                                                                                                                                                                                                                                                                                                                                                                                                                  html  \n",
       "0  <table cellspacing=0 cellpadding=0 align=right>\\r\\n<tbody>\\r\\n<tr>\\r\\n<td id=boxholder>\\r\\n<table style=border: 1px solid grey; margin-left: 10px; margin-bottom: 5px; width: 220px; cellspacing=0 cellpadding=0 bgcolor=#ffffff>\\r\\n<tbody>\\r\\n<tr>\\r\\n<td style=padding: 10px;>\\r\\n<p>In a blatantly prejudiced move Time Warner Cable dropped CurrentTV the moment it was sold to Al Jazeera.</p>\\r\\n<p><strong>Tell Time Warner Cable to pick CurrentTV back up and give its new owners a fair shake.<br /><...  \n",
       "1  <table cellspacing=0 cellpadding=0 align=right>\\r\\n<tbody>\\r\\n<tr>\\r\\n<td id=boxholder>\\r\\n<table style=border: 1px solid grey; margin-left: 10px; margin-bottom: 5px; width: 220px; cellspacing=0 cellpadding=0 bgcolor=#ffffff>\\r\\n<tbody>\\r\\n<tr>\\r\\n<td style=padding: 10px;>\\r\\n<p>A new lawsuit claims that animal abuse by HBO led to the death of four horses in one season of shooting <em>Luck</em>.</p>\\r\\n<p><strong>Tell&nbsp; HBO to investigate claims of animal abuse and enact measures to prev...  \n",
       "2  <table cellspacing=0 cellpadding=0 align=right>\\r\\n<tbody>\\r\\n<tr>\\r\\n<td id=boxholder>\\r\\n<table style=border: 1px solid grey; margin-left: 10px; margin-bottom: 5px; width: 220px; cellspacing=0 cellpadding=0 bgcolor=#ffffff>\\r\\n<tbody>\\r\\n<tr>\\r\\n<td style=padding: 10px;>\\r\\n<p>This man has stitched his lips together and declared a hunger strike demanding that General Motors compensate its Colombian employees for debilitating life-long injuries.</p>\\r\\n<p><a href=http://action.sumofus.org/a...  \n",
       "3  <table cellspacing=0 cellpadding=0 align=right>\\r\\n<tbody>\\r\\n<tr>\\r\\n<td id=boxholder>\\r\\n<table style=border: 1px solid grey; margin-left: 10px; margin-bottom: 5px; width: 220px; cellspacing=0 cellpadding=0 bgcolor=#ffffff>\\r\\n<tbody>\\r\\n<tr>\\r\\n<td style=padding: 10px;>\\r\\n<div>Boeing's new 787 Dreamliners keep catching on fire. Something is clearly wrong with the electrical system.</div>\\r\\n<div>&nbsp;</div>\\r\\n<div><strong>Tell Boeing to recall the 787s immediately.</strong></div>\\r\\n<p...  "
      ]
     },
     "execution_count": 63,
     "metadata": {},
     "output_type": "execute_result"
    }
   ],
   "source": [
    "camp_txt = pd.DataFrame(camp_txt.groupby(by=('page_id','page_name','html'))['tag_name'].apply(list)).reset_index()\n",
    "camp_txt['tag_name'] = pd.DataFrame(camp_txt['tag_name'].apply(', '.join))\n",
    "camp_txt = camp_txt[['page_id','page_name','tag_name','html']]\n",
    "camp_txt.head(4)"
   ]
  },
  {
   "cell_type": "markdown",
   "metadata": {
    "collapsed": true
   },
   "source": [
    "### use BeautifulSoup to clean up the html"
   ]
  },
  {
   "cell_type": "code",
   "execution_count": 65,
   "metadata": {
    "collapsed": false
   },
   "outputs": [
    {
     "data": {
      "text/html": [
       "<div>\n",
       "<table border=\"1\" class=\"dataframe\">\n",
       "  <thead>\n",
       "    <tr style=\"text-align: right;\">\n",
       "      <th></th>\n",
       "      <th>page_id</th>\n",
       "      <th>page_name</th>\n",
       "      <th>tag_name</th>\n",
       "      <th>html</th>\n",
       "    </tr>\n",
       "  </thead>\n",
       "  <tbody>\n",
       "    <tr>\n",
       "      <th>0</th>\n",
       "      <td>400</td>\n",
       "      <td>time-warner-al-jazeera</td>\n",
       "      <td>us corporation, discrimination</td>\n",
       "      <td>In a blatantly prejudiced move Time Warner Cable dropped CurrentTV the moment it was sold to Al Jazeera.Tell Time Warner Cable to pick CurrentTV back up and give its new owners a fair shake.{{ user.first_name|capfirst|default:Friend }}On Wednesday Current TV announced that it had been sold to Al...</td>\n",
       "    </tr>\n",
       "    <tr>\n",
       "      <th>1</th>\n",
       "      <td>401</td>\n",
       "      <td>hbo-animal-cruelty</td>\n",
       "      <td>us corporation, animal abuse</td>\n",
       "      <td>A new lawsuit claims that animal abuse by HBO led to the death of four horses in one season of shootingLuck.Tell  HBO to investigate claims of animal abuse and enact measures to prevent animal cruelty in the future.{{ user.first_name|capfirst|default:Friend }}Information has come to light ofshoc...</td>\n",
       "    </tr>\n",
       "    <tr>\n",
       "      <th>2</th>\n",
       "      <td>402</td>\n",
       "      <td>gm-strike</td>\n",
       "      <td>us corporation, working conditions, workers</td>\n",
       "      <td>This man has stitched his lips together and declared a hunger strike demanding that General Motors compensate its Colombian employees for debilitating life-long injuries.Tell General Motors to meet with its injured workers and negotiate.{{ user.first_name|capfirst|default:Friend }}Jorge Parra st...</td>\n",
       "    </tr>\n",
       "    <tr>\n",
       "      <th>3</th>\n",
       "      <td>403</td>\n",
       "      <td>boeing-dreamliner-fire</td>\n",
       "      <td>us corporation, consumer safety</td>\n",
       "      <td>Boeing's new 787 Dreamliners keep catching on fire. Something is clearly wrong with the electrical system.Tell Boeing to recall the 787s immediately.{{ user.first_name|capfirst|default:Friend }}From the startthe Boeing 787 Dreamliner has been plagued with problemsbut now a clear pattern is emerg...</td>\n",
       "    </tr>\n",
       "  </tbody>\n",
       "</table>\n",
       "</div>"
      ],
      "text/plain": [
       "   page_id               page_name  \\\n",
       "0      400  time-warner-al-jazeera   \n",
       "1      401      hbo-animal-cruelty   \n",
       "2      402               gm-strike   \n",
       "3      403  boeing-dreamliner-fire   \n",
       "\n",
       "                                      tag_name  \\\n",
       "0               us corporation, discrimination   \n",
       "1                 us corporation, animal abuse   \n",
       "2  us corporation, working conditions, workers   \n",
       "3              us corporation, consumer safety   \n",
       "\n",
       "                                                                                                                                                                                                                                                                                                          html  \n",
       "0  In a blatantly prejudiced move Time Warner Cable dropped CurrentTV the moment it was sold to Al Jazeera.Tell Time Warner Cable to pick CurrentTV back up and give its new owners a fair shake.{{ user.first_name|capfirst|default:Friend }}On Wednesday Current TV announced that it had been sold to Al...  \n",
       "1  A new lawsuit claims that animal abuse by HBO led to the death of four horses in one season of shootingLuck.Tell  HBO to investigate claims of animal abuse and enact measures to prevent animal cruelty in the future.{{ user.first_name|capfirst|default:Friend }}Information has come to light ofshoc...  \n",
       "2  This man has stitched his lips together and declared a hunger strike demanding that General Motors compensate its Colombian employees for debilitating life-long injuries.Tell General Motors to meet with its injured workers and negotiate.{{ user.first_name|capfirst|default:Friend }}Jorge Parra st...  \n",
       "3  Boeing's new 787 Dreamliners keep catching on fire. Something is clearly wrong with the electrical system.Tell Boeing to recall the 787s immediately.{{ user.first_name|capfirst|default:Friend }}From the startthe Boeing 787 Dreamliner has been plagued with problemsbut now a clear pattern is emerg...  "
      ]
     },
     "execution_count": 65,
     "metadata": {},
     "output_type": "execute_result"
    }
   ],
   "source": [
    "pd.options.display.max_colwidth = 300\n",
    "dirty = camp_txt['html']\n",
    "clean = pd.Series()\n",
    "for index, item in dirty.iteritems():    \n",
    "    soup = BeautifulSoup(item, \"lxml\")\n",
    "    scrubbed = (soup.get_text(strip=True))\n",
    "    clean.loc[index] = scrubbed \n",
    "camp_txt['html'] = clean\n",
    "camp_txt.head(4)"
   ]
  },
  {
   "cell_type": "markdown",
   "metadata": {},
   "source": [
    "### a bit more cleaning"
   ]
  },
  {
   "cell_type": "code",
   "execution_count": 69,
   "metadata": {
    "collapsed": false
   },
   "outputs": [
    {
     "data": {
      "text/html": [
       "<div>\n",
       "<table border=\"1\" class=\"dataframe\">\n",
       "  <thead>\n",
       "    <tr style=\"text-align: right;\">\n",
       "      <th></th>\n",
       "      <th>page_id</th>\n",
       "      <th>page_name</th>\n",
       "      <th>tag_name</th>\n",
       "      <th>html</th>\n",
       "    </tr>\n",
       "  </thead>\n",
       "  <tbody>\n",
       "    <tr>\n",
       "      <th>0</th>\n",
       "      <td>400</td>\n",
       "      <td>time warner al jazeera</td>\n",
       "      <td>us corporation discrimination</td>\n",
       "      <td>In a blatantly prejudiced move Time Warner Cable dropped CurrentTV the moment it was sold to Al Jazeera.Tell Time Warner Cable to pick CurrentTV back up and give its new owners a fair shake. On Wednesday Current TV announced that it had been sold to Al Jazeera for half a billion dollars. Before ...</td>\n",
       "    </tr>\n",
       "    <tr>\n",
       "      <th>1</th>\n",
       "      <td>401</td>\n",
       "      <td>hbo animal cruelty</td>\n",
       "      <td>us corporation animal abuse</td>\n",
       "      <td>A new lawsuit claims that animal abuse by HBO led to the death of four horses in one season of shootingLuck.Tell  HBO to investigate claims of animal abuse and enact measures to prevent animal cruelty in the future. Information has come to light ofshocking instances of animal abuse and death on ...</td>\n",
       "    </tr>\n",
       "    <tr>\n",
       "      <th>2</th>\n",
       "      <td>402</td>\n",
       "      <td>gm strike</td>\n",
       "      <td>us corporation working conditions workers</td>\n",
       "      <td>This man has stitched his lips together and declared a hunger strike demanding that General Motors compensate its Colombian employees for debilitating life-long injuries.Tell General Motors to meet with its injured workers and negotiate. Jorge Parra started working as a welder at General Motors’...</td>\n",
       "    </tr>\n",
       "    <tr>\n",
       "      <th>3</th>\n",
       "      <td>403</td>\n",
       "      <td>boeing dreamliner fire</td>\n",
       "      <td>us corporation consumer safety</td>\n",
       "      <td>Boeing's new 787 Dreamliners keep catching on fire. Something is clearly wrong with the electrical system.Tell Boeing to recall the 787s immediately. From the startthe Boeing 787 Dreamliner has been plagued with problemsbut now a clear pattern is emerging:the electrical system keeps catching on ...</td>\n",
       "    </tr>\n",
       "  </tbody>\n",
       "</table>\n",
       "</div>"
      ],
      "text/plain": [
       "   page_id               page_name                                   tag_name  \\\n",
       "0      400  time warner al jazeera              us corporation discrimination   \n",
       "1      401      hbo animal cruelty                us corporation animal abuse   \n",
       "2      402               gm strike  us corporation working conditions workers   \n",
       "3      403  boeing dreamliner fire             us corporation consumer safety   \n",
       "\n",
       "                                                                                                                                                                                                                                                                                                          html  \n",
       "0  In a blatantly prejudiced move Time Warner Cable dropped CurrentTV the moment it was sold to Al Jazeera.Tell Time Warner Cable to pick CurrentTV back up and give its new owners a fair shake. On Wednesday Current TV announced that it had been sold to Al Jazeera for half a billion dollars. Before ...  \n",
       "1  A new lawsuit claims that animal abuse by HBO led to the death of four horses in one season of shootingLuck.Tell  HBO to investigate claims of animal abuse and enact measures to prevent animal cruelty in the future. Information has come to light ofshocking instances of animal abuse and death on ...  \n",
       "2  This man has stitched his lips together and declared a hunger strike demanding that General Motors compensate its Colombian employees for debilitating life-long injuries.Tell General Motors to meet with its injured workers and negotiate. Jorge Parra started working as a welder at General Motors’...  \n",
       "3  Boeing's new 787 Dreamliners keep catching on fire. Something is clearly wrong with the electrical system.Tell Boeing to recall the 787s immediately. From the startthe Boeing 787 Dreamliner has been plagued with problemsbut now a clear pattern is emerging:the electrical system keeps catching on ...  "
      ]
     },
     "execution_count": 69,
     "metadata": {},
     "output_type": "execute_result"
    }
   ],
   "source": [
    "camp_txt['page_name'] = camp_txt['page_name'].str.replace('[^\\w\\s]',' ') #replaces all punctuation in page_name with spaces\n",
    "camp_txt['tag_name'] = camp_txt['tag_name'].str.replace('[^\\w\\s]','') #replaces all punctuation in tag_name with empty string\n",
    "camp_txt['tag_name'] = camp_txt['tag_name'].str.replace('[_]',' ') #replaces underscores in tag_name with spaces\n",
    "camp_txt['html'] = camp_txt['html'].str.replace(\"{(.+)}\", ' ') #removes django tags from html\n",
    "camp_txt.head(4)"
   ]
  },
  {
   "cell_type": "code",
   "execution_count": null,
   "metadata": {
    "collapsed": true
   },
   "outputs": [],
   "source": []
  },
  {
   "cell_type": "code",
   "execution_count": null,
   "metadata": {
    "collapsed": true
   },
   "outputs": [],
   "source": []
  },
  {
   "cell_type": "code",
   "execution_count": null,
   "metadata": {
    "collapsed": true
   },
   "outputs": [],
   "source": []
  },
  {
   "cell_type": "code",
   "execution_count": null,
   "metadata": {
    "collapsed": true
   },
   "outputs": [],
   "source": []
  }
 ],
 "metadata": {
  "kernelspec": {
   "display_name": "Python 3",
   "language": "python",
   "name": "python3"
  },
  "language_info": {
   "codemirror_mode": {
    "name": "ipython",
    "version": 3
   },
   "file_extension": ".py",
   "mimetype": "text/x-python",
   "name": "python",
   "nbconvert_exporter": "python",
   "pygments_lexer": "ipython3",
   "version": "3.5.1"
  }
 },
 "nbformat": 4,
 "nbformat_minor": 0
}

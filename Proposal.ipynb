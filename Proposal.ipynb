{
 "cells": [
  {
   "cell_type": "markdown",
   "metadata": {},
   "source": [
    "# Tara's Capstone Proposal"
   ]
  },
  {
   "cell_type": "markdown",
   "metadata": {},
   "source": [
    "### 1. What is the problem you want to solve?"
   ]
  },
  {
   "cell_type": "markdown",
   "metadata": {
    "collapsed": true
   },
   "source": [
    "How can my client know which of its current campaigns are likely to attract new members who will take the highest number of engagement actions and donate the most money."
   ]
  },
  {
   "cell_type": "markdown",
   "metadata": {},
   "source": [
    "### 2. Who is your client and why do they care about this problem? In other words, what will your client DO or DECIDE based on your analysis that they wouldn’t have otherwise?"
   ]
  },
  {
   "cell_type": "markdown",
   "metadata": {
    "collapsed": true
   },
   "source": [
    "My client is SumOfUs.org, an corporate watchdog group that uses digital campaigns (largely digital petitions) to demand corporate accountibility on environmental and human rights issues.  As a large, multi-issue campaigning organization, they often have to make hard choices about which campaigns they can pursue.  New members typically join the organization by signing a petition.  Some petitions are good at driving new growth, such as a petition to save the whales at Seaworld.  While many new members joined on that petition, most of them were not interested in the core mission of SumOfUs, and had poor engagement and donation rates at 90 days after joining.  SumOfUs ran another campaign at the same on corporate lobbying legislation.  Few new members joined from that campaign, but the ones that did had very high engagement and donation rates.\n",
    "\n",
    "SumOfUs would like to predict which current campaign shows the highest potential for future engagement and donations.  This will directly affect decisions about resource allocation.`\n"
   ]
  },
  {
   "cell_type": "markdown",
   "metadata": {},
   "source": [
    "### 3. What data are you going to use for this? How will you acquire this data?"
   ]
  },
  {
   "cell_type": "markdown",
   "metadata": {
    "collapsed": true
   },
   "source": [
    "I will use historic data from past SumOfUs campaigns, including data related to the source, region, and early engagement indicators of recruited members. I may also use text analysis of the content of emails related to each campaign. I will acquire the data from the SumOfUs MySQL database."
   ]
  },
  {
   "cell_type": "markdown",
   "metadata": {},
   "source": [
    "### 4. In brief, outline your approach to solving this problem (knowing that this might change later)."
   ]
  },
  {
   "cell_type": "markdown",
   "metadata": {
    "collapsed": true
   },
   "source": [
    "My approach is to predict the amount of money a cohort will have donated after 90 days on list, based on their demographics and activity in their first two weeks on list. To accomplish this, I will use historic data to train a supervised algorithym that can predict the future performance of a campaign cohort based only on data that is available in the first two weeks.  "
   ]
  },
  {
   "cell_type": "markdown",
   "metadata": {},
   "source": [
    "### 5. What are your deliverables? Typically, this would include code, along with a paper and/or a slide deck."
   ]
  },
  {
   "cell_type": "markdown",
   "metadata": {
    "collapsed": true
   },
   "source": [
    "The deliverable will be code that can take, as an input, aggregate infomation about a campaign cohort and their activity for their first two weeks on list.  The output will be a prediction of the amount of money that cohort will donate in their first 90 days."
   ]
  },
  {
   "cell_type": "code",
   "execution_count": null,
   "metadata": {
    "collapsed": true
   },
   "outputs": [],
   "source": []
  },
  {
   "cell_type": "code",
   "execution_count": null,
   "metadata": {
    "collapsed": true
   },
   "outputs": [],
   "source": []
  },
  {
   "cell_type": "code",
   "execution_count": null,
   "metadata": {
    "collapsed": true
   },
   "outputs": [],
   "source": []
  }
 ],
 "metadata": {
  "kernelspec": {
   "display_name": "Python 3",
   "language": "python",
   "name": "python3"
  },
  "language_info": {
   "codemirror_mode": {
    "name": "ipython",
    "version": 3
   },
   "file_extension": ".py",
   "mimetype": "text/x-python",
   "name": "python",
   "nbconvert_exporter": "python",
   "pygments_lexer": "ipython3",
   "version": "3.5.1"
  }
 },
 "nbformat": 4,
 "nbformat_minor": 0
}

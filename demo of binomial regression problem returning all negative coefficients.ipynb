{
 "cells": [
  {
   "cell_type": "code",
   "execution_count": 2,
   "metadata": {
    "collapsed": true
   },
   "outputs": [],
   "source": [
    "#import modules\n",
    "import pandas as pd\n",
    "import numpy as np\n",
    "from scipy import stats\n",
    "import statsmodels.api as sm"
   ]
  },
  {
   "cell_type": "markdown",
   "metadata": {},
   "source": [
    "Each row represents a group of subjects that took a pass/fail test.  The first two columns are the dependant variable- the number of successes and failures for each group.  All of the other columns are the features.  Each group is a combination of these eight features, represented in percentages. These feature columns for each group add up to 100% (or nearly so, there is some rounding error in there, but close to 100%)"
   ]
  },
  {
   "cell_type": "code",
   "execution_count": 20,
   "metadata": {
    "collapsed": false
   },
   "outputs": [
    {
     "data": {
      "text/html": [
       "<div>\n",
       "<table border=\"1\" class=\"dataframe\">\n",
       "  <thead>\n",
       "    <tr style=\"text-align: right;\">\n",
       "      <th></th>\n",
       "      <th>sucesses</th>\n",
       "      <th>failures</th>\n",
       "      <th>A</th>\n",
       "      <th>B</th>\n",
       "      <th>C</th>\n",
       "      <th>D</th>\n",
       "      <th>E</th>\n",
       "      <th>F</th>\n",
       "      <th>G</th>\n",
       "      <th>H</th>\n",
       "    </tr>\n",
       "  </thead>\n",
       "  <tbody>\n",
       "    <tr>\n",
       "      <th>0</th>\n",
       "      <td>339.0</td>\n",
       "      <td>73445.0</td>\n",
       "      <td>0.00</td>\n",
       "      <td>0.48</td>\n",
       "      <td>0.00</td>\n",
       "      <td>0.39</td>\n",
       "      <td>0.12</td>\n",
       "      <td>0.00</td>\n",
       "      <td>0.0</td>\n",
       "      <td>0.0</td>\n",
       "    </tr>\n",
       "    <tr>\n",
       "      <th>1</th>\n",
       "      <td>8.0</td>\n",
       "      <td>3340.0</td>\n",
       "      <td>0.00</td>\n",
       "      <td>0.00</td>\n",
       "      <td>0.00</td>\n",
       "      <td>0.98</td>\n",
       "      <td>0.00</td>\n",
       "      <td>0.00</td>\n",
       "      <td>0.0</td>\n",
       "      <td>0.0</td>\n",
       "    </tr>\n",
       "    <tr>\n",
       "      <th>2</th>\n",
       "      <td>12.0</td>\n",
       "      <td>1546.0</td>\n",
       "      <td>0.00</td>\n",
       "      <td>0.38</td>\n",
       "      <td>0.13</td>\n",
       "      <td>0.04</td>\n",
       "      <td>0.44</td>\n",
       "      <td>0.00</td>\n",
       "      <td>0.0</td>\n",
       "      <td>0.0</td>\n",
       "    </tr>\n",
       "    <tr>\n",
       "      <th>3</th>\n",
       "      <td>10.0</td>\n",
       "      <td>1167.0</td>\n",
       "      <td>0.47</td>\n",
       "      <td>0.00</td>\n",
       "      <td>0.00</td>\n",
       "      <td>0.14</td>\n",
       "      <td>0.00</td>\n",
       "      <td>0.37</td>\n",
       "      <td>0.0</td>\n",
       "      <td>0.0</td>\n",
       "    </tr>\n",
       "    <tr>\n",
       "      <th>4</th>\n",
       "      <td>9.0</td>\n",
       "      <td>1163.0</td>\n",
       "      <td>0.00</td>\n",
       "      <td>0.00</td>\n",
       "      <td>0.99</td>\n",
       "      <td>0.00</td>\n",
       "      <td>0.00</td>\n",
       "      <td>0.00</td>\n",
       "      <td>0.0</td>\n",
       "      <td>0.0</td>\n",
       "    </tr>\n",
       "  </tbody>\n",
       "</table>\n",
       "</div>"
      ],
      "text/plain": [
       "   sucesses  failures     A     B     C     D     E     F    G    H\n",
       "0     339.0   73445.0  0.00  0.48  0.00  0.39  0.12  0.00  0.0  0.0\n",
       "1       8.0    3340.0  0.00  0.00  0.00  0.98  0.00  0.00  0.0  0.0\n",
       "2      12.0    1546.0  0.00  0.38  0.13  0.04  0.44  0.00  0.0  0.0\n",
       "3      10.0    1167.0  0.47  0.00  0.00  0.14  0.00  0.37  0.0  0.0\n",
       "4       9.0    1163.0  0.00  0.00  0.99  0.00  0.00  0.00  0.0  0.0"
      ]
     },
     "execution_count": 20,
     "metadata": {},
     "output_type": "execute_result"
    }
   ],
   "source": [
    "#import data\n",
    "data = pd.read_csv('../capstone/sample_binomial_data.csv',index_col=0)\n",
    "data.head()"
   ]
  },
  {
   "cell_type": "code",
   "execution_count": 23,
   "metadata": {
    "collapsed": false
   },
   "outputs": [],
   "source": [
    "#define dependant and independant variables for binomial regression\n",
    "\n",
    "dep = data[['sucesses','failures']]\n",
    "features = ['A','B','C','D','E','F','G','H']\n",
    "indy = data[features]"
   ]
  },
  {
   "cell_type": "code",
   "execution_count": 24,
   "metadata": {
    "collapsed": false
   },
   "outputs": [
    {
     "name": "stdout",
     "output_type": "stream",
     "text": [
      "                    Generalized Linear Model Regression Results                     \n",
      "====================================================================================\n",
      "Dep. Variable:     ['sucesses', 'failures']   No. Observations:                  176\n",
      "Model:                                  GLM   Df Residuals:                      168\n",
      "Model Family:                      Binomial   Df Model:                            7\n",
      "Link Function:                        logit   Scale:                             1.0\n",
      "Method:                                IRLS   Log-Likelihood:                -1294.0\n",
      "Date:                      Sun, 11 Dec 2016   Deviance:                       1889.5\n",
      "Time:                              21:04:03   Pearson chi2:                 2.36e+03\n",
      "No. Iterations:                          12                                         \n",
      "==============================================================================\n",
      "                 coef    std err          z      P>|z|      [95.0% Conf. Int.]\n",
      "------------------------------------------------------------------------------\n",
      "A             -6.0339      0.059   -102.033      0.000        -6.150    -5.918\n",
      "B             -6.1676      0.049   -126.635      0.000        -6.263    -6.072\n",
      "C             -6.7518      0.108    -62.749      0.000        -6.963    -6.541\n",
      "D             -5.9402      0.053   -112.721      0.000        -6.043    -5.837\n",
      "E             -6.2339      0.069    -90.132      0.000        -6.369    -6.098\n",
      "F             -5.3086      0.055    -96.348      0.000        -5.417    -5.201\n",
      "G             -7.3031      0.082    -88.568      0.000        -7.465    -7.141\n",
      "H             -7.7912      0.050   -154.972      0.000        -7.890    -7.693\n",
      "==============================================================================\n"
     ]
    }
   ],
   "source": [
    "#run regression and get summary\n",
    "glm_binom = sm.GLM(dep, indy, family=sm.families.Binomial())\n",
    "result = glm_binom.fit()\n",
    "print(result.summary()) "
   ]
  },
  {
   "cell_type": "markdown",
   "metadata": {},
   "source": [
    "All of my coefficient are negative.  This implies that every possible feature has a negative, doesn't it?  But logically, this can't be so - these features add up to 100% for each group, so at least one of them has to improve the liklihood ... right?  I can't explain to my boss that every possible feature makes success less likely ... I need to be able to distinguish positive and negative.  I thought maybe I needed to have a constant, but then this happens:"
   ]
  },
  {
   "cell_type": "code",
   "execution_count": 25,
   "metadata": {
    "collapsed": false
   },
   "outputs": [
    {
     "name": "stdout",
     "output_type": "stream",
     "text": [
      "                    Generalized Linear Model Regression Results                     \n",
      "====================================================================================\n",
      "Dep. Variable:     ['sucesses', 'failures']   No. Observations:                  176\n",
      "Model:                                  GLM   Df Residuals:                      167\n",
      "Model Family:                      Binomial   Df Model:                            8\n",
      "Link Function:                        logit   Scale:                             1.0\n",
      "Method:                                IRLS   Log-Likelihood:                -1291.1\n",
      "Date:                      Sun, 11 Dec 2016   Deviance:                       1883.6\n",
      "Time:                              21:04:25   Pearson chi2:                 2.32e+03\n",
      "No. Iterations:                          12                                         \n",
      "==============================================================================\n",
      "                 coef    std err          z      P>|z|      [95.0% Conf. Int.]\n",
      "------------------------------------------------------------------------------\n",
      "const          6.1887      2.540      2.436      0.015         1.210    11.167\n",
      "A            -12.2814      2.565     -4.787      0.000       -17.310    -7.253\n",
      "B            -12.4288      2.571     -4.835      0.000       -17.467    -7.390\n",
      "C            -13.0136      2.574     -5.056      0.000       -18.058    -7.969\n",
      "D            -12.2217      2.579     -4.739      0.000       -17.276    -7.167\n",
      "E            -12.4207      2.540     -4.889      0.000       -17.400    -7.442\n",
      "F            -11.5780      2.574     -4.498      0.000       -16.623    -6.533\n",
      "G            -13.5051      2.547     -5.302      0.000       -18.497    -8.513\n",
      "H            -14.0610      2.574     -5.463      0.000       -19.106    -9.016\n",
      "==============================================================================\n"
     ]
    }
   ],
   "source": [
    "#try it using a contant\n",
    "indy = sm.add_constant(data[features])\n",
    "glm_binom = sm.GLM(dep, indy, family=sm.families.Binomial())\n",
    "result = glm_binom.fit()\n",
    "print(result.summary()) "
   ]
  },
  {
   "cell_type": "markdown",
   "metadata": {},
   "source": [
    "That goes in the opposite direction of what I was hoping for.  I also tried normalizing the data, but, as you would expect when dealing with numbers that we percentages in the first place, it doesn't have much effect.  Any other ideas?  "
   ]
  },
  {
   "cell_type": "code",
   "execution_count": 32,
   "metadata": {
    "collapsed": false
   },
   "outputs": [
    {
     "name": "stdout",
     "output_type": "stream",
     "text": [
      "                    Generalized Linear Model Regression Results                     \n",
      "====================================================================================\n",
      "Dep. Variable:     ['sucesses', 'failures']   No. Observations:                  176\n",
      "Model:                                  GLM   Df Residuals:                      168\n",
      "Model Family:                      Binomial   Df Model:                            7\n",
      "Link Function:                        logit   Scale:                             1.0\n",
      "Method:                                IRLS   Log-Likelihood:                -1294.0\n",
      "Date:                      Sun, 11 Dec 2016   Deviance:                       1889.5\n",
      "Time:                              22:41:56   Pearson chi2:                 2.36e+03\n",
      "No. Iterations:                          12                                         \n",
      "==============================================================================\n",
      "                 coef    std err          z      P>|z|      [95.0% Conf. Int.]\n",
      "------------------------------------------------------------------------------\n",
      "A             -5.9736      0.059   -102.033      0.000        -6.088    -5.859\n",
      "B             -6.0442      0.048   -126.635      0.000        -6.138    -5.951\n",
      "C             -6.6843      0.107    -62.749      0.000        -6.893    -6.475\n",
      "D             -5.8808      0.052   -112.721      0.000        -5.983    -5.779\n",
      "E             -6.0469      0.067    -90.132      0.000        -6.178    -5.915\n",
      "F             -5.2556      0.055    -96.348      0.000        -5.362    -5.149\n",
      "G             -7.2301      0.082    -88.568      0.000        -7.390    -7.070\n",
      "H             -7.7132      0.050   -154.972      0.000        -7.811    -7.616\n",
      "==============================================================================\n"
     ]
    }
   ],
   "source": [
    "#try it with normalized data\n",
    "\n",
    "def normalize(df,cols):\n",
    "    df[cols] = df[cols].apply(lambda x: (x - x.min()) / (x.max() - x.min())) #applies the normalization formula\n",
    "    df[cols] = df[cols].fillna(0) #fills in empty data points with zeros\n",
    "    return df\n",
    "\n",
    "normed_data = normalize(data,features)\n",
    "\n",
    "dep = normed_data[['sucesses','failures']]\n",
    "features = ['A','B','C','D','E','F','G','H']\n",
    "indy = normed_data[features]\n",
    "\n",
    "glm_binom = sm.GLM(dep, indy, family=sm.families.Binomial())\n",
    "result = glm_binom.fit()\n",
    "print(result.summary()) "
   ]
  },
  {
   "cell_type": "code",
   "execution_count": null,
   "metadata": {
    "collapsed": true
   },
   "outputs": [],
   "source": []
  }
 ],
 "metadata": {
  "kernelspec": {
   "display_name": "Python 3",
   "language": "python",
   "name": "python3"
  },
  "language_info": {
   "codemirror_mode": {
    "name": "ipython",
    "version": 3
   },
   "file_extension": ".py",
   "mimetype": "text/x-python",
   "name": "python",
   "nbconvert_exporter": "python",
   "pygments_lexer": "ipython3",
   "version": "3.5.1"
  }
 },
 "nbformat": 4,
 "nbformat_minor": 0
}
